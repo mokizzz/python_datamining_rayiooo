{
 "cells": [
  {
   "cell_type": "markdown",
   "metadata": {},
   "source": [
    "根据`analyze.md`的内容，处理运算数据库数据。\n",
    "\n",
    "处理目标数据库：invite_info两库。\n",
    "\n",
    "计算train与test时计算每个人`关注话题命中数`、`感兴趣话题与此话题加权正余弦距离和`、`邀请天数间隔`、`邀请小时`。"
   ]
  },
  {
   "cell_type": "code",
   "execution_count": 1,
   "metadata": {},
   "outputs": [],
   "source": [
    "import pandas as pd\n",
    "import pymysql\n",
    "from tqdm import tqdm"
   ]
  },
  {
   "cell_type": "code",
   "execution_count": 2,
   "metadata": {},
   "outputs": [],
   "source": [
    "DB_NAME = 'zhihu2019_dataset'"
   ]
  },
  {
   "cell_type": "code",
   "execution_count": 3,
   "metadata": {},
   "outputs": [],
   "source": [
    "class DB():\n",
    "    def __init__(self, host='localhost', port=3306, db=DB_NAME, user='root', passwd='123456', charset='utf8'):\n",
    "        self.conn = pymysql.connect(host=host, port=port, db=db, user=user, passwd=passwd, charset=charset)   \n",
    "        self.cur = self.conn.cursor(cursor = pymysql.cursors.DictCursor)\n",
    "\n",
    "    def __enter__(self): \n",
    "        return self.cur\n",
    "\n",
    "    def __exit__(self, exc_type, exc_val, exc_tb):\n",
    "        self.conn.commit()\n",
    "        self.cur.close()\n",
    "        self.conn.close()"
   ]
  },
  {
   "cell_type": "markdown",
   "metadata": {},
   "source": [
    "## 1 关注话题命中数"
   ]
  },
  {
   "cell_type": "code",
   "execution_count": 25,
   "metadata": {},
   "outputs": [
    {
     "name": "stdout",
     "output_type": "stream",
     "text": [
      "9489162\n"
     ]
    }
   ],
   "source": [
    "with DB(db=DB_NAME) as db:\n",
    "    db.execute('select count(*) as length from invite_info_0926 where 关注话题命中数=-1')\n",
    "    result = db.fetchone()\n",
    "    print(result['length'])"
   ]
  },
  {
   "cell_type": "code",
   "execution_count": 4,
   "metadata": {},
   "outputs": [],
   "source": [
    "# 计算某行关注话题命中数\n",
    "def get_aim(qid, uid, qtid, utid):\n",
    "    qtid = [] if qtid == -1 else qtid.split(',')\n",
    "    utid = [] if utid == -1 else utid.split(',')\n",
    "    qtid.append(utid)\n",
    "    aim = len(qtid) - len(set(qtid))\n",
    "    return aim"
   ]
  },
  {
   "cell_type": "code",
   "execution_count": 5,
   "metadata": {},
   "outputs": [],
   "source": [
    "# 批量更新表\n",
    "def batch_update(db, data):\n",
    "    length = len(data)\n",
    "    data['values'] = data[['问题ID', '用户ID', '关注话题命中数']].apply(\n",
    "        lambda x: '(\\'%s\\',\\'%s\\',%d)' % (x[0], x[1], x[2]), axis=1)\n",
    "    values = ','.join(data['values'].values)\n",
    "    print(values)\n",
    "    \n",
    "    sql_1 = '''CREATE TEMPORARY TABLE tmp (\n",
    "            问题ID VARCHAR (20),\n",
    "            用户ID VARCHAR (20),\n",
    "            关注话题命中数 INT (11)\n",
    "        );'''\n",
    "    sql_2 = 'ALTER TABLE tmp INDEX tmp_index (问题ID, 用户ID);'\n",
    "    sql_3 = '''INSERT INTO tmp\n",
    "                VALUES %s;''' % values\n",
    "    sql_4 = '''UPDATE %s t,\n",
    "                 tmp\n",
    "                SET t.关注话题命中数 = tmp.关注话题命中数\n",
    "                WHERE\n",
    "                    t.问题ID = tmp.问题ID\n",
    "                AND t.用户ID = tmp.用户ID;'''\n",
    "    sql_5 = 'DROP TABLE tmp;'\n",
    "    \n",
    "    db.execute(sql_1)\n",
    "    db.execute(sql_2)\n",
    "    db.execute(sql_3)\n",
    "    db.execute(sql_4)\n",
    "    db.execute(sql_5)"
   ]
  },
  {
   "cell_type": "code",
   "execution_count": null,
   "metadata": {},
   "outputs": [
    {
     "name": "stderr",
     "output_type": "stream",
     "text": [
      "\r",
      "  0%|          | 0/9489162 [00:00<?, ?it/s]"
     ]
    }
   ],
   "source": [
    "# 取出answer数据\n",
    "tables = ['invite_info_0926', 'invite_info_evaluate_1_0926']\n",
    "for table in tables:\n",
    "    with DB(db=DB_NAME) as db:\n",
    "        sql = 'select count(*) as length from %s where 关注话题命中数=-1' % table\n",
    "        db.execute(sql)\n",
    "        result = db.fetchone()\n",
    "        with tqdm(total=result['length']) as pbar:\n",
    "            while True:\n",
    "                # 读取一些数据\n",
    "                sql = '''SELECT\n",
    "                        t.问题ID,\n",
    "                        t.用户ID,\n",
    "                        q.问题绑定话题ID,\n",
    "                        m.关注话题\n",
    "                    FROM\n",
    "                        (\n",
    "                            (\n",
    "                                SELECT\n",
    "                                    问题ID,\n",
    "                                    用户ID\n",
    "                                FROM\n",
    "                                    %s\n",
    "                                WHERE\n",
    "                                    关注话题命中数 =- 1\n",
    "                                LIMIT 20000\n",
    "                            ) t\n",
    "                            INNER JOIN (\n",
    "                                SELECT\n",
    "                                    问题ID,\n",
    "                                    问题绑定话题ID\n",
    "                                FROM\n",
    "                                    question_info_0926\n",
    "                            ) q ON t.问题ID = q.问题ID\n",
    "                        )\n",
    "                    INNER JOIN (\n",
    "                        SELECT\n",
    "                            用户ID,\n",
    "                            关注话题\n",
    "                        FROM\n",
    "                            member_info_0926\n",
    "                    ) m ON t.用户ID = m.用户ID''' % table\n",
    "                db.execute(sql)\n",
    "                result = db.fetchall()\n",
    "                data = pd.DataFrame(result)\n",
    "                if len(data) == 0:\n",
    "                    break\n",
    "                \n",
    "                # 计算关注话题命中数\n",
    "                data['关注话题命中数'] = data.apply(\n",
    "                    lambda x: get_aim(x['问题ID'], \n",
    "                                       x['用户ID'], \n",
    "                                       x['问题绑定话题ID'], \n",
    "                                       x['关注话题']), \n",
    "                    axis=1)\n",
    "                \n",
    "                # 写入数据库\n",
    "                batch_update(db, data)\n",
    "                \n",
    "                # 刷新进度条\n",
    "                pbar.update(len(data))\n"
   ]
  },
  {
   "cell_type": "markdown",
   "metadata": {},
   "source": [
    "## 2 感兴趣话题与此话题加权正余弦距离和"
   ]
  },
  {
   "cell_type": "code",
   "execution_count": null,
   "metadata": {},
   "outputs": [],
   "source": []
  },
  {
   "cell_type": "markdown",
   "metadata": {},
   "source": [
    "## 3 邀请天数间隔"
   ]
  },
  {
   "cell_type": "code",
   "execution_count": null,
   "metadata": {},
   "outputs": [],
   "source": []
  },
  {
   "cell_type": "markdown",
   "metadata": {},
   "source": [
    "## 4 邀请小时"
   ]
  },
  {
   "cell_type": "code",
   "execution_count": null,
   "metadata": {},
   "outputs": [],
   "source": []
  }
 ],
 "metadata": {
  "kernelspec": {
   "display_name": "Python 3",
   "language": "python",
   "name": "python3"
  },
  "language_info": {
   "codemirror_mode": {
    "name": "ipython",
    "version": 3
   },
   "file_extension": ".py",
   "mimetype": "text/x-python",
   "name": "python",
   "nbconvert_exporter": "python",
   "pygments_lexer": "ipython3",
   "version": "3.7.3"
  }
 },
 "nbformat": 4,
 "nbformat_minor": 2
}
