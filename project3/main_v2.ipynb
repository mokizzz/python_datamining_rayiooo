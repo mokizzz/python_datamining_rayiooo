{
 "cells": [
  {
   "cell_type": "code",
   "execution_count": 2,
   "metadata": {},
   "outputs": [
    {
     "name": "stdout",
     "output_type": "stream",
     "text": [
      "/home/zengrui/datasets/190829_Kanshan_zjfx\n"
     ]
    }
   ],
   "source": [
    "cd ../../../datasets/190829_Kanshan_zjfx"
   ]
  },
  {
   "cell_type": "code",
   "execution_count": 3,
   "metadata": {},
   "outputs": [
    {
     "name": "stdout",
     "output_type": "stream",
     "text": [
      "train.csv  val.csv\r\n"
     ]
    }
   ],
   "source": [
    "ls"
   ]
  },
  {
   "cell_type": "markdown",
   "metadata": {},
   "source": [
    "## 0.1 超参数"
   ]
  },
  {
   "cell_type": "code",
   "execution_count": 49,
   "metadata": {},
   "outputs": [
    {
     "data": {
      "text/plain": [
       "device(type='cuda', index=3)"
      ]
     },
     "execution_count": 49,
     "metadata": {},
     "output_type": "execute_result"
    }
   ],
   "source": [
    "import numpy as np\n",
    "import pandas as pd\n",
    "# import pymysql\n",
    "import torch\n",
    "from tqdm import tqdm\n",
    "\n",
    "BATCH_SIZE = 65536\n",
    "DB_NAME = 'zhihu2019_dataset'\n",
    "DO_DATASET_BALANCE = True\n",
    "EPOCH = 5\n",
    "LR = 0.0001\n",
    "TRAIN_ALL = True\n",
    "\n",
    "PKL_DIR_READ = '../../jupyter/190919_DataMiningHW/project3/storage/train_param.pkl'\n",
    "PKL_DIR_OUT = '../../jupyter/190919_DataMiningHW/project3/storage/train_param.pkl'\n",
    "RESULT_DIR_OUT = '../../jupyter/190919_DataMiningHW/project3/storage/result.txt'\n",
    "\n",
    "DEVICE = torch.device('cuda:3') if torch.cuda.is_available() else torch.device('cpu')\n",
    "DEVICE"
   ]
  },
  {
   "cell_type": "markdown",
   "metadata": {},
   "source": [
    "## 0.2 数据库函数"
   ]
  },
  {
   "cell_type": "code",
   "execution_count": 3,
   "metadata": {},
   "outputs": [],
   "source": [
    "class DB():\n",
    "    def __init__(self, host='localhost', port=3306, db=DB_NAME, user='rayi', passwd='123456', charset='utf8'):\n",
    "        self.conn = pymysql.connect(host=host, port=port, db=db, user=user, passwd=passwd, charset=charset)   \n",
    "        self.cur = self.conn.cursor(cursor = pymysql.cursors.DictCursor)\n",
    "\n",
    "    def __enter__(self): \n",
    "        return self.cur\n",
    "\n",
    "    def __exit__(self, exc_type, exc_val, exc_tb):\n",
    "        self.conn.commit()\n",
    "        self.cur.close()\n",
    "        self.conn.close()"
   ]
  },
  {
   "cell_type": "markdown",
   "metadata": {},
   "source": [
    "## 1.1 加载数据集"
   ]
  },
  {
   "cell_type": "markdown",
   "metadata": {},
   "source": [
    "取训练集。"
   ]
  },
  {
   "cell_type": "code",
   "execution_count": 7,
   "metadata": {},
   "outputs": [],
   "source": [
    "# with DB() as db:\n",
    "#     db.execute('select * from train')\n",
    "#     train = pd.DataFrame(db.fetchall())\n",
    "\n",
    "train = pd.read_csv('train.csv', header=0, sep=',')"
   ]
  },
  {
   "cell_type": "markdown",
   "metadata": {},
   "source": [
    "取测试集。"
   ]
  },
  {
   "cell_type": "code",
   "execution_count": 8,
   "metadata": {},
   "outputs": [],
   "source": [
    "# with DB() as db:\n",
    "#     db.execute('select * from val')\n",
    "#     test = pd.DataFrame(db.fetchall())\n",
    "\n",
    "test = pd.read_csv('val.csv', header=0, sep=',')"
   ]
  },
  {
   "cell_type": "markdown",
   "metadata": {},
   "source": [
    "合并二集。"
   ]
  },
  {
   "cell_type": "code",
   "execution_count": 9,
   "metadata": {},
   "outputs": [],
   "source": [
    "col_list = ['q_id', 'u_id', 'do_answer', 'invite_hour', 'follow_topic_hit', \n",
    "             'interest_topic_hit', 'sex', 'access_freq', 'bin_feat_a', 'bin_feat_b', \n",
    "             'bin_feat_c', 'bin_feat_d', 'bin_feat_e', 'multi_feat_a', 'multi_feat_b',\n",
    "             'multi_feat_c', 'multi_feat_d', 'multi_feat_e', 'salt', 'u_answer', \n",
    "             'u_good_answer', 'u_recommand_answer', 'u_image_answer', 'u_video_answer', \n",
    "             'u_word_avg', 'u_like_avg', 'u_unlike_avg', 'u_comment_avg', \n",
    "             'u_collect_avg', 'u_thanks_avg', 'u_report_avg','u_nohelp_avg', \n",
    "             'u_oppose_avg', 'q_answer', 'q_good_answer', 'q_recommand_answer',\n",
    "             'q_image_answer', 'q_video_answer', 'q_word_avg', 'q_like', 'q_comment', \n",
    "             'q_collect', 'q_thanks']\n",
    "# train = train[col_list]\n",
    "# test = test[col_list]"
   ]
  },
  {
   "cell_type": "code",
   "execution_count": 10,
   "metadata": {},
   "outputs": [
    {
     "data": {
      "text/plain": [
       "Index(['q_id', 'u_id', 'do_answer', 'invite_hour', 'follow_topic_hit',\n",
       "       'interest_topic_hit', 'sex', 'access_freq', 'bin_feat_a', 'bin_feat_b',\n",
       "       'bin_feat_c', 'bin_feat_d', 'bin_feat_e', 'multi_feat_a',\n",
       "       'multi_feat_b', 'multi_feat_c', 'multi_feat_d', 'multi_feat_e', 'salt',\n",
       "       'u_answer', 'u_good_answer', 'u_recommand_answer', 'u_image_answer',\n",
       "       'u_video_answer', 'u_word_avg', 'u_like_avg', 'u_unlike_avg',\n",
       "       'u_comment_avg', 'u_collect_avg', 'u_thanks_avg', 'u_report_avg',\n",
       "       'u_nohelp_avg', 'u_oppose_avg', 'q_answer', 'q_good_answer',\n",
       "       'q_recommand_answer', 'q_image_answer', 'q_video_answer', 'q_word_avg',\n",
       "       'q_like', 'q_comment', 'q_collect', 'q_thanks'],\n",
       "      dtype='object')"
      ]
     },
     "execution_count": 10,
     "metadata": {},
     "output_type": "execute_result"
    }
   ],
   "source": [
    "data = pd.concat([train, test], axis=0)\n",
    "data.columns"
   ]
  },
  {
   "cell_type": "markdown",
   "metadata": {},
   "source": [
    "## 1.2 处理数据集"
   ]
  },
  {
   "cell_type": "markdown",
   "metadata": {},
   "source": [
    "离散特征的`LabelEncoder`编码。"
   ]
  },
  {
   "cell_type": "code",
   "execution_count": 11,
   "metadata": {
    "scrolled": false
   },
   "outputs": [
    {
     "data": {
      "text/html": [
       "<div>\n",
       "<style scoped>\n",
       "    .dataframe tbody tr th:only-of-type {\n",
       "        vertical-align: middle;\n",
       "    }\n",
       "\n",
       "    .dataframe tbody tr th {\n",
       "        vertical-align: top;\n",
       "    }\n",
       "\n",
       "    .dataframe thead th {\n",
       "        text-align: right;\n",
       "    }\n",
       "</style>\n",
       "<table border=\"1\" class=\"dataframe\">\n",
       "  <thead>\n",
       "    <tr style=\"text-align: right;\">\n",
       "      <th></th>\n",
       "      <th>q_id</th>\n",
       "      <th>u_id</th>\n",
       "      <th>do_answer</th>\n",
       "      <th>invite_hour</th>\n",
       "      <th>follow_topic_hit</th>\n",
       "      <th>interest_topic_hit</th>\n",
       "      <th>sex</th>\n",
       "      <th>access_freq</th>\n",
       "      <th>bin_feat_a</th>\n",
       "      <th>bin_feat_b</th>\n",
       "      <th>...</th>\n",
       "      <th>q_answer</th>\n",
       "      <th>q_good_answer</th>\n",
       "      <th>q_recommand_answer</th>\n",
       "      <th>q_image_answer</th>\n",
       "      <th>q_video_answer</th>\n",
       "      <th>q_word_avg</th>\n",
       "      <th>q_like</th>\n",
       "      <th>q_comment</th>\n",
       "      <th>q_collect</th>\n",
       "      <th>q_thanks</th>\n",
       "    </tr>\n",
       "  </thead>\n",
       "  <tbody>\n",
       "    <tr>\n",
       "      <th>0</th>\n",
       "      <td>Q2166419046</td>\n",
       "      <td>M401693808</td>\n",
       "      <td>0</td>\n",
       "      <td>1.558090</td>\n",
       "      <td>1.308280</td>\n",
       "      <td>-0.282984</td>\n",
       "      <td>2</td>\n",
       "      <td>4</td>\n",
       "      <td>-1.218040</td>\n",
       "      <td>1.485950</td>\n",
       "      <td>...</td>\n",
       "      <td>-0.162667</td>\n",
       "      <td>-0.03874</td>\n",
       "      <td>-0.007758</td>\n",
       "      <td>-0.099289</td>\n",
       "      <td>-0.038624</td>\n",
       "      <td>-0.268488</td>\n",
       "      <td>-0.030466</td>\n",
       "      <td>-0.052246</td>\n",
       "      <td>-0.015932</td>\n",
       "      <td>-0.023172</td>\n",
       "    </tr>\n",
       "    <tr>\n",
       "      <th>1</th>\n",
       "      <td>Q1550017551</td>\n",
       "      <td>M3392373099</td>\n",
       "      <td>0</td>\n",
       "      <td>-0.387527</td>\n",
       "      <td>-0.438202</td>\n",
       "      <td>-0.282984</td>\n",
       "      <td>2</td>\n",
       "      <td>1</td>\n",
       "      <td>0.820988</td>\n",
       "      <td>-0.672968</td>\n",
       "      <td>...</td>\n",
       "      <td>0.298958</td>\n",
       "      <td>-0.03874</td>\n",
       "      <td>-0.007758</td>\n",
       "      <td>-0.099289</td>\n",
       "      <td>-0.038624</td>\n",
       "      <td>-0.175978</td>\n",
       "      <td>-0.030466</td>\n",
       "      <td>-0.040992</td>\n",
       "      <td>-0.015932</td>\n",
       "      <td>-0.023172</td>\n",
       "    </tr>\n",
       "    <tr>\n",
       "      <th>2</th>\n",
       "      <td>Q604029601</td>\n",
       "      <td>M2317670257</td>\n",
       "      <td>0</td>\n",
       "      <td>0.319970</td>\n",
       "      <td>-0.438202</td>\n",
       "      <td>-0.282984</td>\n",
       "      <td>2</td>\n",
       "      <td>4</td>\n",
       "      <td>0.820988</td>\n",
       "      <td>-0.672968</td>\n",
       "      <td>...</td>\n",
       "      <td>-0.162667</td>\n",
       "      <td>-0.03874</td>\n",
       "      <td>-0.007758</td>\n",
       "      <td>-0.099289</td>\n",
       "      <td>-0.038624</td>\n",
       "      <td>-0.268488</td>\n",
       "      <td>-0.030466</td>\n",
       "      <td>-0.052246</td>\n",
       "      <td>-0.015932</td>\n",
       "      <td>-0.023172</td>\n",
       "    </tr>\n",
       "    <tr>\n",
       "      <th>3</th>\n",
       "      <td>Q2350061229</td>\n",
       "      <td>M1618461867</td>\n",
       "      <td>0</td>\n",
       "      <td>-0.387527</td>\n",
       "      <td>-0.438202</td>\n",
       "      <td>2.440210</td>\n",
       "      <td>2</td>\n",
       "      <td>0</td>\n",
       "      <td>0.820988</td>\n",
       "      <td>-0.672968</td>\n",
       "      <td>...</td>\n",
       "      <td>-0.096721</td>\n",
       "      <td>-0.03874</td>\n",
       "      <td>-0.007758</td>\n",
       "      <td>-0.099289</td>\n",
       "      <td>-0.038624</td>\n",
       "      <td>0.705070</td>\n",
       "      <td>-0.028959</td>\n",
       "      <td>-0.018486</td>\n",
       "      <td>-0.013906</td>\n",
       "      <td>-0.014543</td>\n",
       "    </tr>\n",
       "    <tr>\n",
       "      <th>4</th>\n",
       "      <td>Q2443223942</td>\n",
       "      <td>M3544409350</td>\n",
       "      <td>0</td>\n",
       "      <td>-1.625650</td>\n",
       "      <td>-0.438202</td>\n",
       "      <td>-0.282984</td>\n",
       "      <td>2</td>\n",
       "      <td>1</td>\n",
       "      <td>0.820988</td>\n",
       "      <td>-0.672968</td>\n",
       "      <td>...</td>\n",
       "      <td>3.926020</td>\n",
       "      <td>-0.03874</td>\n",
       "      <td>-0.007758</td>\n",
       "      <td>1.899240</td>\n",
       "      <td>-0.038624</td>\n",
       "      <td>-0.175978</td>\n",
       "      <td>-0.012378</td>\n",
       "      <td>-0.029739</td>\n",
       "      <td>-0.015932</td>\n",
       "      <td>-0.023172</td>\n",
       "    </tr>\n",
       "    <tr>\n",
       "      <th>5</th>\n",
       "      <td>Q640765464</td>\n",
       "      <td>M2818659842</td>\n",
       "      <td>0</td>\n",
       "      <td>0.496844</td>\n",
       "      <td>1.308280</td>\n",
       "      <td>-0.282984</td>\n",
       "      <td>1</td>\n",
       "      <td>0</td>\n",
       "      <td>0.820988</td>\n",
       "      <td>-0.672968</td>\n",
       "      <td>...</td>\n",
       "      <td>-0.162667</td>\n",
       "      <td>-0.03874</td>\n",
       "      <td>-0.007758</td>\n",
       "      <td>-0.099289</td>\n",
       "      <td>-0.038624</td>\n",
       "      <td>-0.268488</td>\n",
       "      <td>-0.030466</td>\n",
       "      <td>-0.052246</td>\n",
       "      <td>-0.015932</td>\n",
       "      <td>-0.023172</td>\n",
       "    </tr>\n",
       "    <tr>\n",
       "      <th>6</th>\n",
       "      <td>Q795459266</td>\n",
       "      <td>M2818659842</td>\n",
       "      <td>0</td>\n",
       "      <td>1.204340</td>\n",
       "      <td>-0.438202</td>\n",
       "      <td>-0.282984</td>\n",
       "      <td>1</td>\n",
       "      <td>0</td>\n",
       "      <td>0.820988</td>\n",
       "      <td>-0.672968</td>\n",
       "      <td>...</td>\n",
       "      <td>0.101119</td>\n",
       "      <td>-0.03874</td>\n",
       "      <td>-0.007758</td>\n",
       "      <td>0.300416</td>\n",
       "      <td>-0.038624</td>\n",
       "      <td>0.224899</td>\n",
       "      <td>-0.022929</td>\n",
       "      <td>0.004021</td>\n",
       "      <td>-0.015932</td>\n",
       "      <td>-0.023172</td>\n",
       "    </tr>\n",
       "    <tr>\n",
       "      <th>7</th>\n",
       "      <td>Q190554387</td>\n",
       "      <td>M1581217469</td>\n",
       "      <td>1</td>\n",
       "      <td>-0.918149</td>\n",
       "      <td>-0.438202</td>\n",
       "      <td>-0.282984</td>\n",
       "      <td>2</td>\n",
       "      <td>1</td>\n",
       "      <td>0.820988</td>\n",
       "      <td>-0.672968</td>\n",
       "      <td>...</td>\n",
       "      <td>-0.030774</td>\n",
       "      <td>-0.03874</td>\n",
       "      <td>-0.007758</td>\n",
       "      <td>-0.099289</td>\n",
       "      <td>-0.038624</td>\n",
       "      <td>-0.204612</td>\n",
       "      <td>-0.030466</td>\n",
       "      <td>-0.029739</td>\n",
       "      <td>-0.015932</td>\n",
       "      <td>-0.014543</td>\n",
       "    </tr>\n",
       "    <tr>\n",
       "      <th>8</th>\n",
       "      <td>Q1958712851</td>\n",
       "      <td>M3021021791</td>\n",
       "      <td>0</td>\n",
       "      <td>1.027470</td>\n",
       "      <td>-0.438202</td>\n",
       "      <td>-0.282984</td>\n",
       "      <td>2</td>\n",
       "      <td>4</td>\n",
       "      <td>-1.218040</td>\n",
       "      <td>1.485950</td>\n",
       "      <td>...</td>\n",
       "      <td>-0.096721</td>\n",
       "      <td>-0.03874</td>\n",
       "      <td>-0.007758</td>\n",
       "      <td>-0.099289</td>\n",
       "      <td>-0.038624</td>\n",
       "      <td>-0.217828</td>\n",
       "      <td>-0.030466</td>\n",
       "      <td>-0.052246</td>\n",
       "      <td>-0.015932</td>\n",
       "      <td>-0.023172</td>\n",
       "    </tr>\n",
       "    <tr>\n",
       "      <th>9</th>\n",
       "      <td>Q311993584</td>\n",
       "      <td>M1766315480</td>\n",
       "      <td>0</td>\n",
       "      <td>0.319970</td>\n",
       "      <td>-0.438202</td>\n",
       "      <td>-0.282984</td>\n",
       "      <td>1</td>\n",
       "      <td>0</td>\n",
       "      <td>0.820988</td>\n",
       "      <td>-0.672968</td>\n",
       "      <td>...</td>\n",
       "      <td>0.101119</td>\n",
       "      <td>-0.03874</td>\n",
       "      <td>-0.007758</td>\n",
       "      <td>-0.099289</td>\n",
       "      <td>-0.038624</td>\n",
       "      <td>0.165428</td>\n",
       "      <td>-0.028959</td>\n",
       "      <td>0.026528</td>\n",
       "      <td>-0.013906</td>\n",
       "      <td>0.002716</td>\n",
       "    </tr>\n",
       "  </tbody>\n",
       "</table>\n",
       "<p>10 rows × 43 columns</p>\n",
       "</div>"
      ],
      "text/plain": [
       "          q_id         u_id  do_answer  invite_hour  follow_topic_hit  \\\n",
       "0  Q2166419046   M401693808          0     1.558090          1.308280   \n",
       "1  Q1550017551  M3392373099          0    -0.387527         -0.438202   \n",
       "2   Q604029601  M2317670257          0     0.319970         -0.438202   \n",
       "3  Q2350061229  M1618461867          0    -0.387527         -0.438202   \n",
       "4  Q2443223942  M3544409350          0    -1.625650         -0.438202   \n",
       "5   Q640765464  M2818659842          0     0.496844          1.308280   \n",
       "6   Q795459266  M2818659842          0     1.204340         -0.438202   \n",
       "7   Q190554387  M1581217469          1    -0.918149         -0.438202   \n",
       "8  Q1958712851  M3021021791          0     1.027470         -0.438202   \n",
       "9   Q311993584  M1766315480          0     0.319970         -0.438202   \n",
       "\n",
       "   interest_topic_hit  sex  access_freq  bin_feat_a  bin_feat_b  ...  \\\n",
       "0           -0.282984    2            4   -1.218040    1.485950  ...   \n",
       "1           -0.282984    2            1    0.820988   -0.672968  ...   \n",
       "2           -0.282984    2            4    0.820988   -0.672968  ...   \n",
       "3            2.440210    2            0    0.820988   -0.672968  ...   \n",
       "4           -0.282984    2            1    0.820988   -0.672968  ...   \n",
       "5           -0.282984    1            0    0.820988   -0.672968  ...   \n",
       "6           -0.282984    1            0    0.820988   -0.672968  ...   \n",
       "7           -0.282984    2            1    0.820988   -0.672968  ...   \n",
       "8           -0.282984    2            4   -1.218040    1.485950  ...   \n",
       "9           -0.282984    1            0    0.820988   -0.672968  ...   \n",
       "\n",
       "   q_answer  q_good_answer  q_recommand_answer  q_image_answer  \\\n",
       "0 -0.162667       -0.03874           -0.007758       -0.099289   \n",
       "1  0.298958       -0.03874           -0.007758       -0.099289   \n",
       "2 -0.162667       -0.03874           -0.007758       -0.099289   \n",
       "3 -0.096721       -0.03874           -0.007758       -0.099289   \n",
       "4  3.926020       -0.03874           -0.007758        1.899240   \n",
       "5 -0.162667       -0.03874           -0.007758       -0.099289   \n",
       "6  0.101119       -0.03874           -0.007758        0.300416   \n",
       "7 -0.030774       -0.03874           -0.007758       -0.099289   \n",
       "8 -0.096721       -0.03874           -0.007758       -0.099289   \n",
       "9  0.101119       -0.03874           -0.007758       -0.099289   \n",
       "\n",
       "   q_video_answer  q_word_avg    q_like  q_comment  q_collect  q_thanks  \n",
       "0       -0.038624   -0.268488 -0.030466  -0.052246  -0.015932 -0.023172  \n",
       "1       -0.038624   -0.175978 -0.030466  -0.040992  -0.015932 -0.023172  \n",
       "2       -0.038624   -0.268488 -0.030466  -0.052246  -0.015932 -0.023172  \n",
       "3       -0.038624    0.705070 -0.028959  -0.018486  -0.013906 -0.014543  \n",
       "4       -0.038624   -0.175978 -0.012378  -0.029739  -0.015932 -0.023172  \n",
       "5       -0.038624   -0.268488 -0.030466  -0.052246  -0.015932 -0.023172  \n",
       "6       -0.038624    0.224899 -0.022929   0.004021  -0.015932 -0.023172  \n",
       "7       -0.038624   -0.204612 -0.030466  -0.029739  -0.015932 -0.014543  \n",
       "8       -0.038624   -0.217828 -0.030466  -0.052246  -0.015932 -0.023172  \n",
       "9       -0.038624    0.165428 -0.028959   0.026528  -0.013906  0.002716  \n",
       "\n",
       "[10 rows x 43 columns]"
      ]
     },
     "execution_count": 11,
     "metadata": {},
     "output_type": "execute_result"
    }
   ],
   "source": [
    "from sklearn.preprocessing import LabelEncoder\n",
    "\n",
    "# 离散值编码\n",
    "class_feat = [#'用户id','问题id',\n",
    "              'sex', 'access_freq','multi_feat_a','multi_feat_b',\n",
    "              'multi_feat_c','multi_feat_d','multi_feat_e']\n",
    "encoder = LabelEncoder()\n",
    "for i in class_feat:\n",
    "    data[i] = encoder.fit_transform(data[i])\n",
    "    \n",
    "data.iloc[:10]"
   ]
  },
  {
   "cell_type": "code",
   "execution_count": 12,
   "metadata": {},
   "outputs": [
    {
     "data": {
      "text/plain": [
       "q_id                  Q2166419046\n",
       "u_id                   M401693808\n",
       "do_answer                       0\n",
       "invite_hour               1.55809\n",
       "follow_topic_hit          1.30828\n",
       "interest_topic_hit      -0.282984\n",
       "sex                             2\n",
       "access_freq                     4\n",
       "bin_feat_a               -1.21804\n",
       "bin_feat_b                1.48595\n",
       "bin_feat_c              -0.174441\n",
       "bin_feat_d              -0.416016\n",
       "bin_feat_e              -0.239396\n",
       "multi_feat_a                 1917\n",
       "multi_feat_b                  170\n",
       "multi_feat_c                  244\n",
       "multi_feat_d                  799\n",
       "multi_feat_e                    1\n",
       "salt                    -0.600888\n",
       "u_answer                -0.284904\n",
       "u_good_answer          -0.0244919\n",
       "u_recommand_answer    -0.00454287\n",
       "u_image_answer          -0.246062\n",
       "u_video_answer         -0.0619912\n",
       "u_word_avg              -0.258716\n",
       "u_like_avg             -0.0296191\n",
       "u_unlike_avg            -0.034083\n",
       "u_comment_avg          -0.0550066\n",
       "u_collect_avg            -0.01177\n",
       "u_thanks_avg           -0.0196006\n",
       "u_report_avg           -0.0333932\n",
       "u_nohelp_avg           -0.0247067\n",
       "u_oppose_avg            -0.034083\n",
       "q_answer                -0.162667\n",
       "q_good_answer          -0.0387404\n",
       "q_recommand_answer    -0.00775818\n",
       "q_image_answer         -0.0992889\n",
       "q_video_answer         -0.0386243\n",
       "q_word_avg              -0.268488\n",
       "q_like                  -0.030466\n",
       "q_comment              -0.0522457\n",
       "q_collect              -0.0159324\n",
       "q_thanks               -0.0231718\n",
       "Name: 0, dtype: object"
      ]
     },
     "execution_count": 12,
     "metadata": {},
     "output_type": "execute_result"
    }
   ],
   "source": [
    "data.iloc[0]"
   ]
  },
  {
   "cell_type": "markdown",
   "metadata": {},
   "source": [
    "## 1.3 包装数据集"
   ]
  },
  {
   "cell_type": "code",
   "execution_count": 16,
   "metadata": {},
   "outputs": [],
   "source": [
    "# import numpy as np\n",
    "\n",
    "# if DO_DATASET_BALANCE:\n",
    "#     temp = data[data['do_answer'] == 1]  # 用于均衡的数据\n",
    "#     print('用于均衡的数据有 %d 条.' % len(temp))\n",
    "#     train_x = data[data['do_answer']>-1].append([temp, temp, temp])\n",
    "# else:\n",
    "#     train_x = data[data['do_answer']>-1]\n",
    "# train_x, train_y = train_x[col_list[3:]].values, train_x[['do_answer']].values[:, 0]\n",
    "\n",
    "test_x = data[data['do_answer']==-1]\n",
    "test_x, test_y = test_x[col_list[3:]].values, test_x[['do_answer']].values[:, 0]\n",
    "# print('ok.')"
   ]
  },
  {
   "cell_type": "code",
   "execution_count": 13,
   "metadata": {},
   "outputs": [
    {
     "name": "stdout",
     "output_type": "stream",
     "text": [
      "pos_len: 1682914\n",
      "neg_len: 7806219\n"
     ]
    }
   ],
   "source": [
    "# 正负样本df\n",
    "positive_samples = data[data['do_answer'] == 1]\n",
    "negative_samples = data[data['do_answer'] == 0]\n",
    "print('pos_len:', len(positive_samples))\n",
    "print('neg_len:', len(negative_samples))"
   ]
  },
  {
   "cell_type": "code",
   "execution_count": 17,
   "metadata": {},
   "outputs": [
    {
     "name": "stdout",
     "output_type": "stream",
     "text": [
      "ok.\n"
     ]
    }
   ],
   "source": [
    "from torch.utils.data import Dataset, DataLoader\n",
    "\n",
    "\n",
    "class MyDataset(Dataset):\n",
    "    \"\"\"每次new都会随机均衡数据集。\"\"\"\n",
    "    def __init__(self, mode='train'):\n",
    "        self.mode = mode\n",
    "        if mode == 'train':\n",
    "            train_x = pd.concat([\n",
    "                positive_samples,\n",
    "                negative_samples.sample(n=len(positive_samples), axis=0)\n",
    "            ], axis=0)\n",
    "            train_x, train_y = train_x[col_list[3:]].values, train_x[['do_answer']].values[:, 0]\n",
    "            self.data = {\n",
    "                'x': train_x,\n",
    "                'y': train_y,\n",
    "            }\n",
    "        elif mode == 'test':\n",
    "            self.data = {\n",
    "                'x': test_x,\n",
    "                'y': test_y,\n",
    "            }\n",
    "        else:\n",
    "            raise\n",
    "            \n",
    "    def __getitem__(self, index):\n",
    "        return self.data['x'][index], self.data['y'][index]\n",
    "        \n",
    "    def __len__(self):\n",
    "        return len(self.data['x'])\n",
    "    \n",
    "    \n",
    "print('ok.')"
   ]
  },
  {
   "cell_type": "code",
   "execution_count": 41,
   "metadata": {},
   "outputs": [],
   "source": [
    "import math\n",
    "from torch.utils.data import random_split\n",
    "\n",
    "train_size, val_size, test_size = 0, 0, 0\n",
    "train_len, val_len, test_len = 0, 0, 0\n",
    "data_loader = {}\n",
    "\n",
    "def flush_dataloader(log=True):\n",
    "    global train_size, val_size, test_size, train_len, val_len, test_len, data_loader\n",
    "    \n",
    "    full_train_dataset = MyDataset(mode='train')\n",
    "    test_dataset = MyDataset(mode='test')\n",
    "\n",
    "    if TRAIN_ALL:\n",
    "        data_loader = {\n",
    "            'train': DataLoader(dataset=full_train_dataset, \n",
    "                                batch_size=BATCH_SIZE, \n",
    "                                num_workers=5,\n",
    "                                shuffle=True),\n",
    "            'test': DataLoader(dataset=test_dataset,\n",
    "                               batch_size=BATCH_SIZE,\n",
    "                               num_workers=5,\n",
    "                               shuffle=False),\n",
    "        }\n",
    "        train_size = len(full_train_dataset)\n",
    "        test_size = len(test_dataset)\n",
    "    else:\n",
    "        train_size = int(0.8 * len(full_train_dataset))\n",
    "        val_size = len(full_train_dataset) - train_size\n",
    "        train_dataset, val_dataset = random_split(full_train_dataset, [train_size, val_size])\n",
    "\n",
    "        data_loader = {\n",
    "            'train': DataLoader(dataset=train_dataset, \n",
    "                                batch_size=BATCH_SIZE, \n",
    "                               num_workers=5,\n",
    "                                shuffle=True),\n",
    "            'val': DataLoader(dataset=val_dataset, \n",
    "                              batch_size=BATCH_SIZE,\n",
    "                               num_workers=5,\n",
    "                              shuffle=False),\n",
    "            'test': DataLoader(dataset=test_dataset,\n",
    "                               batch_size=BATCH_SIZE,\n",
    "                               num_workers=5,\n",
    "                               shuffle=False),\n",
    "        }\n",
    "        train_size = len(train_dataset)\n",
    "        val_size = len(val_dataset)\n",
    "        test_size = len(test_dataset)\n",
    "\n",
    "    if log:\n",
    "        print('train_size:', train_size)\n",
    "        print('val_size:', val_size)\n",
    "        print('test_size:', test_size)\n",
    "\n",
    "    # 计算一轮enumerate的长度\n",
    "    train_len = math.ceil(train_size / BATCH_SIZE)\n",
    "    val_len = math.ceil(val_size / BATCH_SIZE)\n",
    "    test_len = math.ceil(test_size / BATCH_SIZE)\n",
    "\n",
    "    if log:\n",
    "        print('train_len:', train_len)\n",
    "        print('val_len:', val_len)\n",
    "        print('test_len:', test_len)"
   ]
  },
  {
   "cell_type": "markdown",
   "metadata": {},
   "source": [
    "## 2.1 构建网络"
   ]
  },
  {
   "cell_type": "code",
   "execution_count": 30,
   "metadata": {},
   "outputs": [
    {
     "data": {
      "text/plain": [
       "MyNet_v2(\n",
       "  (embed_sex): Embedding(3, 2)\n",
       "  (embed_access_freq): Embedding(5, 2)\n",
       "  (embed_multi_a): Embedding(2561, 13)\n",
       "  (embed_multi_b): Embedding(291, 6)\n",
       "  (embed_multi_c): Embedding(428, 7)\n",
       "  (embed_multi_d): Embedding(1556, 11)\n",
       "  (embed_multi_e): Embedding(2, 1)\n",
       "  (bn0): BatchNorm1d(85, eps=1e-05, momentum=0.1, affine=True, track_running_stats=True)\n",
       "  (bn1): BatchNorm1d(2048, eps=1e-05, momentum=0.1, affine=True, track_running_stats=True)\n",
       "  (bn2): BatchNorm1d(1024, eps=1e-05, momentum=0.1, affine=True, track_running_stats=True)\n",
       "  (bn3): BatchNorm1d(512, eps=1e-05, momentum=0.1, affine=True, track_running_stats=True)\n",
       "  (bn4): BatchNorm1d(256, eps=1e-05, momentum=0.1, affine=True, track_running_stats=True)\n",
       "  (bn5): BatchNorm1d(128, eps=1e-05, momentum=0.1, affine=True, track_running_stats=True)\n",
       "  (bn6): BatchNorm1d(64, eps=1e-05, momentum=0.1, affine=True, track_running_stats=True)\n",
       "  (bn7): BatchNorm1d(32, eps=1e-05, momentum=0.1, affine=True, track_running_stats=True)\n",
       "  (bn8): BatchNorm1d(16, eps=1e-05, momentum=0.1, affine=True, track_running_stats=True)\n",
       "  (bn9): BatchNorm1d(8, eps=1e-05, momentum=0.1, affine=True, track_running_stats=True)\n",
       "  (fc1): Linear(in_features=85, out_features=2048, bias=True)\n",
       "  (fc2): Linear(in_features=2048, out_features=1024, bias=True)\n",
       "  (fc3): Linear(in_features=1024, out_features=512, bias=True)\n",
       "  (fc4): Linear(in_features=512, out_features=256, bias=True)\n",
       "  (fc5): Linear(in_features=256, out_features=128, bias=True)\n",
       "  (fc6): Linear(in_features=128, out_features=64, bias=True)\n",
       "  (fc7): Linear(in_features=64, out_features=32, bias=True)\n",
       "  (fc8): Linear(in_features=32, out_features=16, bias=True)\n",
       "  (fc9): Linear(in_features=16, out_features=8, bias=True)\n",
       "  (fc10): Linear(in_features=8, out_features=2, bias=True)\n",
       "  (relu): ReLU(inplace=True)\n",
       ")"
      ]
     },
     "execution_count": 30,
     "metadata": {},
     "output_type": "execute_result"
    }
   ],
   "source": [
    "from my_model import MyNet_v2\n",
    "\n",
    "net = MyNet_v2(50).to(DEVICE)\n",
    "net"
   ]
  },
  {
   "cell_type": "markdown",
   "metadata": {},
   "source": [
    "## 2.2 优化器、损失函数"
   ]
  },
  {
   "cell_type": "code",
   "execution_count": 50,
   "metadata": {},
   "outputs": [
    {
     "data": {
      "text/plain": [
       "'ok'"
      ]
     },
     "execution_count": 50,
     "metadata": {},
     "output_type": "execute_result"
    }
   ],
   "source": [
    "from torch import optim, nn\n",
    "\n",
    "loss_function = nn.CrossEntropyLoss()\n",
    "optimizer = optim.SGD(net.parameters(), lr=LR, momentum=0.9)\n",
    "# scheduler = optim.lr_scheduler.StepLR(optimizer, step_size=2, gamma=0.75)\n",
    "\n",
    "'ok'"
   ]
  },
  {
   "cell_type": "markdown",
   "metadata": {},
   "source": [
    "## 2.3 训练"
   ]
  },
  {
   "cell_type": "code",
   "execution_count": 54,
   "metadata": {},
   "outputs": [
    {
     "name": "stderr",
     "output_type": "stream",
     "text": [
      "Epoch: 0, Loss: 0.4804, Acc: 0.2720: 100%|██████████| 52/52 [00:26<00:00,  1.95it/s]\n"
     ]
    },
    {
     "name": "stdout",
     "output_type": "stream",
     "text": [
      "Epoch: 0, Loss: 0.4772, Acc: 0.7616, Lr: 0.00010\n"
     ]
    },
    {
     "name": "stderr",
     "output_type": "stream",
     "text": [
      "Epoch: 1, Loss: 0.4758, Acc: 0.2726: 100%|██████████| 52/52 [00:26<00:00,  1.95it/s]\n"
     ]
    },
    {
     "name": "stdout",
     "output_type": "stream",
     "text": [
      "Epoch: 1, Loss: 0.4769, Acc: 0.7618, Lr: 0.00010\n"
     ]
    },
    {
     "name": "stderr",
     "output_type": "stream",
     "text": [
      "Epoch: 2, Loss: 0.4843, Acc: 0.2705: 100%|██████████| 52/52 [00:26<00:00,  1.94it/s]\n"
     ]
    },
    {
     "name": "stdout",
     "output_type": "stream",
     "text": [
      "Epoch: 2, Loss: 0.4773, Acc: 0.7615, Lr: 0.00010\n"
     ]
    },
    {
     "name": "stderr",
     "output_type": "stream",
     "text": [
      "Epoch: 3, Loss: 0.4783, Acc: 0.2737: 100%|██████████| 52/52 [00:27<00:00,  1.92it/s]\n"
     ]
    },
    {
     "name": "stdout",
     "output_type": "stream",
     "text": [
      "Epoch: 3, Loss: 0.4768, Acc: 0.7619, Lr: 0.00010\n"
     ]
    },
    {
     "name": "stderr",
     "output_type": "stream",
     "text": [
      "Epoch: 4, Loss: 0.4788, Acc: 0.2729: 100%|██████████| 52/52 [00:26<00:00,  1.94it/s]"
     ]
    },
    {
     "name": "stdout",
     "output_type": "stream",
     "text": [
      "Epoch: 4, Loss: 0.4768, Acc: 0.7618, Lr: 0.00010\n"
     ]
    },
    {
     "name": "stderr",
     "output_type": "stream",
     "text": [
      "\n"
     ]
    }
   ],
   "source": [
    "from tqdm import tqdm\n",
    "\n",
    "for epoch in range(EPOCH):\n",
    "    count, running_correct, running_loss = 0, 0, 0\n",
    "    flush_dataloader(log=False)\n",
    "    \n",
    "    net.train()\n",
    "    with tqdm(total=train_len) as pbar:\n",
    "        for step, (bx, by) in enumerate(data_loader['train']):\n",
    "            # 训练\n",
    "            bx = bx.float().to(DEVICE)\n",
    "            by = by.long().to(DEVICE)\n",
    "\n",
    "            prediction = net(bx)\n",
    "            loss = loss_function(prediction, by)\n",
    "            optimizer.zero_grad()\n",
    "            loss.backward()\n",
    "            optimizer.step()\n",
    "\n",
    "            # 统计成效\n",
    "            pre = torch.argmax(torch.softmax(prediction, dim=1), dim=1)\n",
    "            my_loss = float(loss.data.cpu().numpy())\n",
    "            my_correct = sum(pre.cpu().numpy() == by.cpu().numpy())\n",
    "            my_acc = my_correct / BATCH_SIZE\n",
    "            count += 1\n",
    "            running_loss += my_loss\n",
    "            running_correct += my_correct\n",
    "            \n",
    "            # 更新进度条\n",
    "            pbar.update(1)\n",
    "            pbar.set_description('Epoch: %d, Loss: %.4f, Acc: %.4f' % (\n",
    "                                  epoch, \n",
    "                                  my_loss, \n",
    "                                  my_acc))\n",
    "    \n",
    "    # 输出一轮结果\n",
    "    print('Epoch: %d, Loss: %.4f, Acc: %.4f, Lr: %.5f' % (\n",
    "           epoch,\n",
    "           running_loss / count,\n",
    "           running_correct / train_size,\n",
    "           optimizer.state_dict()['param_groups'][0]['lr']))\n",
    "    \n",
    "    # 保存参数\n",
    "    torch.save(net.state_dict(), PKL_DIR_OUT)\n",
    "    \n",
    "    # lr scheduler\n",
    "#     scheduler.step()"
   ]
  },
  {
   "cell_type": "markdown",
   "metadata": {},
   "source": [
    "训练结果：\n",
    "\n",
    "```\n",
    "Epoch: 0, Loss: 0.5568, Acc: 0.7027, Lr: 0.10000\n",
    "Epoch: 1, Loss: 0.5199, Acc: 0.7327, Lr: 0.10000\n",
    "Epoch: 2, Loss: 0.5118, Acc: 0.7379, Lr: 0.10000\n",
    "Epoch: 3, Loss: 0.5062, Acc: 0.7421, Lr: 0.10000\n",
    "Epoch: 4, Loss: 0.5023, Acc: 0.7449, Lr: 0.10000\n",
    "Epoch: 5, Loss: 0.4985, Acc: 0.7477, Lr: 0.10000\n",
    "Epoch: 6, Loss: 0.4967, Acc: 0.7493, Lr: 0.10000\n",
    "Epoch: 7, Loss: 0.4943, Acc: 0.7508, Lr: 0.10000\n",
    "Epoch: 8, Loss: 0.4929, Acc: 0.7520, Lr: 0.10000\n",
    "Epoch: 9, Loss: 0.4914, Acc: 0.7529, Lr: 0.10000\n",
    "Epoch: 0, Loss: 0.4852, Acc: 0.7569, Lr: 0.10000\n",
    "Epoch: 1, Loss: 0.4838, Acc: 0.7575, Lr: 0.10000\n",
    "Epoch: 2, Loss: 0.4830, Acc: 0.7582, Lr: 0.10000\n",
    "Epoch: 0, Loss: 0.4806, Acc: 0.7596, Lr: 0.10000\n",
    "Epoch: 1, Loss: 0.4808, Acc: 0.7595, Lr: 0.10000\n",
    "Epoch: 2, Loss: 0.4802, Acc: 0.7596, Lr: 0.10000\n",
    "Epoch: 0, Loss: 0.4778, Acc: 0.7614, Lr: 0.01000\n",
    "Epoch: 1, Loss: 0.4775, Acc: 0.7613, Lr: 0.01000\n",
    "Epoch: 2, Loss: 0.4773, Acc: 0.7615, Lr: 0.01000\n",
    "Epoch: 0, Loss: 0.4769, Acc: 0.7618, Lr: 0.00100\n",
    "Epoch: 1, Loss: 0.4770, Acc: 0.7616, Lr: 0.00100\n",
    "Epoch: 2, Loss: 0.4771, Acc: 0.7615, Lr: 0.00100\n",
    "Epoch: 0, Loss: 0.4768, Acc: 0.7619, Lr: 0.00010\n",
    "Epoch: 1, Loss: 0.4775, Acc: 0.7614, Lr: 0.00010\n",
    "Epoch: 2, Loss: 0.4773, Acc: 0.7615, Lr: 0.00010\n",
    "Epoch: 3, Loss: 0.4770, Acc: 0.7616, Lr: 0.00010\n",
    "Epoch: 4, Loss: 0.4770, Acc: 0.7618, Lr: 0.00010\n",
    "Epoch: 0, Loss: 0.4769, Acc: 0.7617, Lr: 0.00010\n",
    "Epoch: 1, Loss: 0.4770, Acc: 0.7617, Lr: 0.00010\n",
    "Epoch: 2, Loss: 0.4773, Acc: 0.7616, Lr: 0.00010\n",
    "Epoch: 3, Loss: 0.4772, Acc: 0.7615, Lr: 0.00010\n",
    "Epoch: 4, Loss: 0.4770, Acc: 0.7618, Lr: 0.00010\n",
    "Epoch: 0, Loss: 0.4772, Acc: 0.7616, Lr: 0.00010\n",
    "Epoch: 1, Loss: 0.4769, Acc: 0.7618, Lr: 0.00010\n",
    "Epoch: 2, Loss: 0.4773, Acc: 0.7615, Lr: 0.00010\n",
    "Epoch: 3, Loss: 0.4768, Acc: 0.7619, Lr: 0.00010\n",
    "Epoch: 4, Loss: 0.4768, Acc: 0.7618, Lr: 0.00010\n",
    "```"
   ]
  },
  {
   "cell_type": "markdown",
   "metadata": {},
   "source": [
    "## 2.4 存储网络"
   ]
  },
  {
   "cell_type": "code",
   "execution_count": 55,
   "metadata": {},
   "outputs": [],
   "source": [
    "torch.save(net.state_dict(), PKL_DIR_OUT)"
   ]
  },
  {
   "cell_type": "markdown",
   "metadata": {},
   "source": [
    "## 4.1 导出 test 结果"
   ]
  },
  {
   "cell_type": "code",
   "execution_count": 57,
   "metadata": {},
   "outputs": [
    {
     "data": {
      "text/plain": [
       "q_id                  Q2590286630\n",
       "u_id                  M3168697168\n",
       "do_answer                      -1\n",
       "invite_hour             -0.741275\n",
       "follow_topic_hit        -0.438202\n",
       "interest_topic_hit      -0.282984\n",
       "sex                             1\n",
       "access_freq                     0\n",
       "bin_feat_a               0.820988\n",
       "bin_feat_b              -0.672968\n",
       "bin_feat_c              -0.174441\n",
       "bin_feat_d              -0.416016\n",
       "bin_feat_e              -0.239396\n",
       "multi_feat_a                 1092\n",
       "multi_feat_b                  115\n",
       "multi_feat_c                    6\n",
       "multi_feat_d                  980\n",
       "multi_feat_e                    1\n",
       "salt                      3.34578\n",
       "u_answer                  0.32472\n",
       "u_good_answer          -0.0244919\n",
       "u_recommand_answer    -0.00454287\n",
       "u_image_answer            2.30773\n",
       "u_video_answer         -0.0619912\n",
       "u_word_avg                 2.3691\n",
       "u_like_avg               0.239419\n",
       "u_unlike_avg              1.31014\n",
       "u_comment_avg             2.19619\n",
       "u_collect_avg            0.177103\n",
       "u_thanks_avg             0.311706\n",
       "u_report_avg           -0.0333932\n",
       "u_nohelp_avg           -0.0247067\n",
       "u_oppose_avg              1.31014\n",
       "q_answer                -0.162667\n",
       "q_good_answer          -0.0387404\n",
       "q_recommand_answer    -0.00775818\n",
       "q_image_answer         -0.0992889\n",
       "q_video_answer         -0.0386243\n",
       "q_word_avg              -0.268488\n",
       "q_like                  -0.030466\n",
       "q_comment              -0.0522457\n",
       "q_collect              -0.0159324\n",
       "q_thanks               -0.0231718\n",
       "Name: 1141682, dtype: object"
      ]
     },
     "execution_count": 57,
     "metadata": {},
     "output_type": "execute_result"
    }
   ],
   "source": [
    "result = data[data['do_answer'] == -1]\n",
    "result.iloc[-1]"
   ]
  },
  {
   "cell_type": "code",
   "execution_count": 60,
   "metadata": {},
   "outputs": [
    {
     "name": "stderr",
     "output_type": "stream",
     "text": [
      "100%|██████████| 18/18 [00:04<00:00,  4.12it/s]\n",
      "/home/zengrui/miniconda3/lib/python3.7/site-packages/pandas/core/indexing.py:494: SettingWithCopyWarning: \n",
      "A value is trying to be set on a copy of a slice from a DataFrame.\n",
      "Try using .loc[row_indexer,col_indexer] = value instead\n",
      "\n",
      "See the caveats in the documentation: http://pandas.pydata.org/pandas-docs/stable/user_guide/indexing.html#returning-a-view-versus-a-copy\n",
      "  self.obj[item] = s\n",
      "/home/zengrui/miniconda3/lib/python3.7/site-packages/pandas/core/frame.py:3509: SettingWithCopyWarning: \n",
      "A value is trying to be set on a copy of a slice from a DataFrame.\n",
      "Try using .loc[row_indexer,col_indexer] = value instead\n",
      "\n",
      "See the caveats in the documentation: http://pandas.pydata.org/pandas-docs/stable/user_guide/indexing.html#returning-a-view-versus-a-copy\n",
      "  self[k1] = value[k2]\n"
     ]
    },
    {
     "data": {
      "text/plain": [
       "'ok'"
      ]
     },
     "execution_count": 60,
     "metadata": {},
     "output_type": "execute_result"
    }
   ],
   "source": [
    "from tqdm import tqdm\n",
    "from my_model import MyNet_v2\n",
    "\n",
    "net = MyNet_v2(50).to(DEVICE)\n",
    "if torch.cuda.is_available():\n",
    "    net.load_state_dict(torch.load(PKL_DIR_READ))\n",
    "else:\n",
    "    net.load_state_dict(torch.load(PKL_DIR_READ, map_location='cpu'))\n",
    "net.eval()\n",
    "\n",
    "res_list = []\n",
    "with tqdm(total=test_len) as pbar:\n",
    "    for step, (bx, by) in enumerate(data_loader['test']):\n",
    "        bx = bx.float().to(DEVICE)\n",
    "        by = by.long().to(DEVICE)\n",
    "        \n",
    "        prediction = net(bx)\n",
    "        \n",
    "        # 计算结果\n",
    "        pre = torch.argmax(torch.softmax(prediction, dim=1), dim=1)\n",
    "        res_list.extend(pre.cpu().numpy())\n",
    "        pbar.update(1)\n",
    "        \n",
    "result.loc[:, 'do_answer'] = res_list\n",
    "result[['do_answer']] = result[['do_answer']].astype(int)  # 数据类型转换为int\n",
    "\n",
    "'ok'"
   ]
  },
  {
   "cell_type": "code",
   "execution_count": 64,
   "metadata": {},
   "outputs": [],
   "source": [
    "invite_info_evaluate = pd.read_csv('invite_info_evaluate_1_0926.txt', \n",
    "                                   header=None, sep='\\t')\n",
    "invite_info_evaluate.columns = ['q_id1', 'u_id1', 'invite_time']"
   ]
  },
  {
   "cell_type": "code",
   "execution_count": 66,
   "metadata": {},
   "outputs": [
    {
     "data": {
      "text/plain": [
       "1141683"
      ]
     },
     "execution_count": 66,
     "metadata": {},
     "output_type": "execute_result"
    }
   ],
   "source": [
    "result_out = pd.concat([result[['q_id', 'u_id', 'do_answer']], invite_info_evaluate],\n",
    "                       axis=1)\n",
    "len(result_out)"
   ]
  },
  {
   "cell_type": "code",
   "execution_count": 67,
   "metadata": {},
   "outputs": [
    {
     "data": {
      "text/plain": [
       "'ok'"
      ]
     },
     "execution_count": 67,
     "metadata": {},
     "output_type": "execute_result"
    }
   ],
   "source": [
    "result_out[['q_id', 'u_id', 'invite_time', \n",
    "        'do_answer']].to_csv(RESULT_DIR_OUT, index=False, header=False, sep='\\t')  # 导出数据\n",
    "\n",
    "'ok'"
   ]
  },
  {
   "cell_type": "code",
   "execution_count": null,
   "metadata": {},
   "outputs": [],
   "source": []
  }
 ],
 "metadata": {
  "kernelspec": {
   "display_name": "Python 3",
   "language": "python",
   "name": "python3"
  },
  "language_info": {
   "codemirror_mode": {
    "name": "ipython",
    "version": 3
   },
   "file_extension": ".py",
   "mimetype": "text/x-python",
   "name": "python",
   "nbconvert_exporter": "python",
   "pygments_lexer": "ipython3",
   "version": "3.7.4"
  }
 },
 "nbformat": 4,
 "nbformat_minor": 2
}
