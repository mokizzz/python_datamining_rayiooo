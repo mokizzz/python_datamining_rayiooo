{
 "cells": [
  {
   "cell_type": "markdown",
   "metadata": {},
   "source": [
    "# 1 初始化"
   ]
  },
  {
   "cell_type": "markdown",
   "metadata": {},
   "source": [
    "## 1.1 导入包"
   ]
  },
  {
   "cell_type": "code",
   "execution_count": 1,
   "metadata": {},
   "outputs": [],
   "source": [
    "import pandas as pd\n",
    "import numpy as np\n",
    "import os\n",
    "import pickle\n",
    "from sklearn.preprocessing import LabelEncoder\n",
    "from sklearn.model_selection import StratifiedKFold\n",
    "from lightgbm import LGBMClassifier\n",
    "from tqdm import tqdm\n",
    "import logging\n",
    "\n",
    "log_fmt = \"[%(asctime)s] %(levelname)s in %(module)s: %(message)s\"\n",
    "logging.basicConfig(format=log_fmt, level=logging.INFO)\n",
    "\n",
    "import warnings\n",
    "warnings.filterwarnings('ignore')"
   ]
  },
  {
   "cell_type": "markdown",
   "metadata": {},
   "source": [
    "## 1.2 超参数定义"
   ]
  },
  {
   "cell_type": "code",
   "execution_count": 2,
   "metadata": {},
   "outputs": [],
   "source": [
    "base_path = '/home/zengrui/datasets/190829_Kanshan_zjfx'\n",
    "\n",
    "def save_param(param, param_name):\n",
    "    with open(f'{base_path}/temp/{param_name}.txt', 'wb') as f:\n",
    "        pickle.dump(param, f)\n",
    "        \n",
    "def read_param(param_name):\n",
    "    with open(f'{base_path}/temp/{param_name}.txt', 'rb') as f:\n",
    "        return pickle.load(f)"
   ]
  },
  {
   "cell_type": "markdown",
   "metadata": {},
   "source": [
    "## 1.3 函数定义"
   ]
  },
  {
   "cell_type": "code",
   "execution_count": 3,
   "metadata": {},
   "outputs": [],
   "source": [
    "def extract_day(s):\n",
    "    return s.apply(lambda x: int(x.split('-')[0][1:]))\n",
    "\n",
    "\n",
    "def extract_hour(s):\n",
    "    return s.apply(lambda x: int(x.split('-')[1][1:]))"
   ]
  },
  {
   "cell_type": "markdown",
   "metadata": {},
   "source": [
    "# 2 加载、处理数据"
   ]
  },
  {
   "cell_type": "markdown",
   "metadata": {},
   "source": [
    "## 2.1 加载邀请回答数据"
   ]
  },
  {
   "cell_type": "code",
   "execution_count": 4,
   "metadata": {},
   "outputs": [
    {
     "name": "stderr",
     "output_type": "stream",
     "text": [
      "[2019-12-08 19:47:07,117] INFO in <ipython-input-4-7a2c6478cb9e>: invite (9489162, 4)\n",
      "[2019-12-08 19:47:08,473] INFO in <ipython-input-4-7a2c6478cb9e>: test (1141683, 3)\n"
     ]
    }
   ],
   "source": [
    "train = pd.read_csv(f'{base_path}/invite_info_0926.txt', sep='\\t', header=None)\n",
    "train.columns = ['qid', 'uid', 'dt', 'label']\n",
    "logging.info(\"invite %s\", train.shape)\n",
    "\n",
    "test = pd.read_csv(f'{base_path}/invite_info_evaluate_1_0926.txt', sep='\\t', header=None)\n",
    "test.columns = ['qid', 'uid', 'dt']\n",
    "logging.info(\"test %s\", test.shape)\n",
    "\n",
    "sub = test.copy()\n",
    "\n",
    "sub_size = len(sub)\n",
    "\n",
    "train['day'] = extract_day(train['dt'])\n",
    "train['hour'] = extract_hour(train['dt'])\n",
    "\n",
    "test['day'] = extract_day(test['dt'])\n",
    "test['hour'] = extract_hour(test['dt'])\n",
    "\n",
    "del train['dt'], test['dt']"
   ]
  },
  {
   "cell_type": "markdown",
   "metadata": {},
   "source": [
    "## 2.2 加载问题"
   ]
  },
  {
   "cell_type": "markdown",
   "metadata": {},
   "source": [
    "丢弃了**问题info**的字词编码。"
   ]
  },
  {
   "cell_type": "code",
   "execution_count": 5,
   "metadata": {},
   "outputs": [
    {
     "name": "stderr",
     "output_type": "stream",
     "text": [
      "[2019-12-08 19:47:43,935] INFO in <ipython-input-5-958902b92fc5>: ques (1829900, 3)\n"
     ]
    }
   ],
   "source": [
    "ques = pd.read_csv(f'{base_path}/question_info_0926.txt', header=None, sep='\\t')\n",
    "ques.columns = ['qid', 'q_dt', 'title_t1', 'title_t2', 'desc_t1', 'desc_t2', 'topic']\n",
    "del ques['title_t1'], ques['title_t2'], ques['desc_t1'], ques['desc_t2']\n",
    "logging.info(\"ques %s\", ques.shape)\n",
    "\n",
    "ques['q_day'] = extract_day(ques['q_dt'])\n",
    "ques['q_hour'] = extract_hour(ques['q_dt'])\n",
    "del ques['q_dt']"
   ]
  },
  {
   "cell_type": "markdown",
   "metadata": {},
   "source": [
    "## 2.3 加载回答"
   ]
  },
  {
   "cell_type": "markdown",
   "metadata": {},
   "source": [
    "丢弃了**回答info**的字词编码，并与**问题info**合并。"
   ]
  },
  {
   "cell_type": "code",
   "execution_count": 6,
   "metadata": {},
   "outputs": [
    {
     "name": "stderr",
     "output_type": "stream",
     "text": [
      "[2019-12-08 19:49:07,146] INFO in <ipython-input-6-935311f5f359>: ans (4513735, 18)\n"
     ]
    }
   ],
   "source": [
    "ans = pd.read_csv(f'{base_path}/answer_info_0926.txt', header=None, sep='\\t')\n",
    "ans.columns = ['aid', 'qid', 'uid', 'ans_dt', 'ans_t1', 'ans_t2', 'is_good', 'is_rec', 'is_dest', 'has_img',\n",
    "               'has_video', 'word_count', 'reci_cheer', 'reci_uncheer', 'reci_comment', 'reci_mark', 'reci_tks',\n",
    "               'reci_xxx', 'reci_no_help', 'reci_dis']\n",
    "del ans['ans_t1'], ans['ans_t2']\n",
    "logging.info(\"ans %s\", ans.shape)\n",
    "\n",
    "ans['a_day'] = extract_day(ans['ans_dt'])\n",
    "ans['a_hour'] = extract_hour(ans['ans_dt'])\n",
    "del ans['ans_dt']\n",
    "\n",
    "ans = pd.merge(ans, ques, on='qid')\n",
    "del ques"
   ]
  },
  {
   "cell_type": "markdown",
   "metadata": {},
   "source": [
    "## 2.4 处理时间数据"
   ]
  },
  {
   "cell_type": "markdown",
   "metadata": {},
   "source": [
    "回答距提问的天数。"
   ]
  },
  {
   "cell_type": "code",
   "execution_count": 7,
   "metadata": {},
   "outputs": [],
   "source": [
    "ans['diff_qa_days'] = ans['a_day'] - ans['q_day']"
   ]
  },
  {
   "cell_type": "markdown",
   "metadata": {},
   "source": [
    "时间窗口划分。"
   ]
  },
  {
   "cell_type": "code",
   "execution_count": 8,
   "metadata": {},
   "outputs": [
    {
     "name": "stderr",
     "output_type": "stream",
     "text": [
      "[2019-12-08 19:49:23,626] INFO in <ipython-input-8-5c7aac178bca>: train_label_feature (6895493, 5)\n",
      "[2019-12-08 19:49:24,206] INFO in <ipython-input-8-5c7aac178bca>: val_label_feature (7583553, 5)\n",
      "[2019-12-08 19:49:24,448] INFO in <ipython-input-8-5c7aac178bca>: train feature start 3838 end 3860, label start 3861 end 3867\n",
      "[2019-12-08 19:49:24,473] INFO in <ipython-input-8-5c7aac178bca>: test feature start 3845 end 3867, label start 3868 end 3874\n"
     ]
    }
   ],
   "source": [
    "train_start = 3838\n",
    "train_end = 3867\n",
    "\n",
    "val_start = 3868\n",
    "val_end = 3874\n",
    "\n",
    "label_end = 3867\n",
    "label_start = label_end - 6\n",
    "\n",
    "train_label_feature_end = label_end - 7\n",
    "train_label_feature_start = train_label_feature_end - 22\n",
    "\n",
    "train_ans_feature_end = label_end - 7\n",
    "train_ans_feature_start = train_ans_feature_end - 50\n",
    "\n",
    "val_label_feature_end = val_start - 1\n",
    "val_label_feature_start = val_label_feature_end - 22\n",
    "\n",
    "val_ans_feature_end = val_start - 1\n",
    "val_ans_feature_start = val_ans_feature_end - 50\n",
    "\n",
    "train_label_feature = train[(train['day'] >= train_label_feature_start) & (train['day'] <= train_label_feature_end)]\n",
    "logging.info(\"train_label_feature %s\", train_label_feature.shape)\n",
    "\n",
    "val_label_feature = train[(train['day'] >= val_label_feature_start) & (train['day'] <= val_label_feature_end)]\n",
    "logging.info(\"val_label_feature %s\", val_label_feature.shape)\n",
    "\n",
    "train_label = train[(train['day'] > train_label_feature_end)]\n",
    "\n",
    "logging.info(\"train feature start %s end %s, label start %s end %s\", train_label_feature['day'].min(),\n",
    "             train_label_feature['day'].max(), train_label['day'].min(), train_label['day'].max())\n",
    "\n",
    "logging.info(\"test feature start %s end %s, label start %s end %s\", val_label_feature['day'].min(),\n",
    "             val_label_feature['day'].max(), test['day'].min(), test['day'].max())"
   ]
  },
  {
   "cell_type": "markdown",
   "metadata": {},
   "source": [
    "```python\n",
    "print(train_label_feature_start, train_label_feature_end)\n",
    "print(train_ans_feature_start, train_ans_feature_end)\n",
    "print(val_label_feature_start, val_label_feature_end)\n",
    "print(val_ans_feature_start, val_ans_feature_end)\n",
    "```\n",
    "```text\n",
    "3838 3860\n",
    "3810 3860\n",
    "3845 3867\n",
    "3817 3867\n",
    "```"
   ]
  },
  {
   "cell_type": "markdown",
   "metadata": {},
   "source": [
    "确定ans的时间范围。"
   ]
  },
  {
   "cell_type": "code",
   "execution_count": 9,
   "metadata": {},
   "outputs": [
    {
     "name": "stderr",
     "output_type": "stream",
     "text": [
      "[2019-12-08 19:49:28,135] INFO in <ipython-input-9-502ad99fdbbb>: train ans feature (3700178, 23), start 3810 end 3860\n",
      "[2019-12-08 19:49:28,146] INFO in <ipython-input-9-502ad99fdbbb>: val ans feature (3992334, 23), start 3817 end 3867\n"
     ]
    }
   ],
   "source": [
    "train_ans_feature = ans[(ans['a_day'] >= train_ans_feature_start) & (ans['a_day'] <= train_ans_feature_end)]\n",
    "\n",
    "val_ans_feature = ans[(ans['a_day'] >= val_ans_feature_start) & (ans['a_day'] <= val_ans_feature_end)]\n",
    "\n",
    "logging.info(\"train ans feature %s, start %s end %s\", train_ans_feature.shape, train_ans_feature['a_day'].min(),\n",
    "             train_ans_feature['a_day'].max())\n",
    "\n",
    "logging.info(\"val ans feature %s, start %s end %s\", val_ans_feature.shape, val_ans_feature['a_day'].min(),\n",
    "             val_ans_feature['a_day'].max())\n",
    "\n",
    "fea_cols = ['is_good', 'is_rec', 'is_dest', 'has_img', 'has_video', 'word_count',\n",
    "            'reci_cheer', 'reci_uncheer', 'reci_comment', 'reci_mark', 'reci_tks',\n",
    "            'reci_xxx', 'reci_no_help', 'reci_dis', 'diff_qa_days']"
   ]
  },
  {
   "cell_type": "markdown",
   "metadata": {},
   "source": [
    "## 2.5 特征提取"
   ]
  },
  {
   "cell_type": "markdown",
   "metadata": {},
   "source": [
    "测试学习。"
   ]
  },
  {
   "cell_type": "code",
   "execution_count": 10,
   "metadata": {},
   "outputs": [
    {
     "data": {
      "text/html": [
       "<div>\n",
       "<style scoped>\n",
       "    .dataframe tbody tr th:only-of-type {\n",
       "        vertical-align: middle;\n",
       "    }\n",
       "\n",
       "    .dataframe tbody tr th {\n",
       "        vertical-align: top;\n",
       "    }\n",
       "\n",
       "    .dataframe thead th {\n",
       "        text-align: right;\n",
       "    }\n",
       "</style>\n",
       "<table border=\"1\" class=\"dataframe\">\n",
       "  <thead>\n",
       "    <tr style=\"text-align: right;\">\n",
       "      <th></th>\n",
       "      <th>A</th>\n",
       "      <th>B</th>\n",
       "      <th>C</th>\n",
       "      <th>D</th>\n",
       "    </tr>\n",
       "  </thead>\n",
       "  <tbody>\n",
       "    <tr>\n",
       "      <th>0</th>\n",
       "      <td>foo</td>\n",
       "      <td>one</td>\n",
       "      <td>1.595226</td>\n",
       "      <td>-1.550317</td>\n",
       "    </tr>\n",
       "    <tr>\n",
       "      <th>1</th>\n",
       "      <td>bar</td>\n",
       "      <td>one</td>\n",
       "      <td>-0.319827</td>\n",
       "      <td>-0.058757</td>\n",
       "    </tr>\n",
       "    <tr>\n",
       "      <th>2</th>\n",
       "      <td>foo</td>\n",
       "      <td>two</td>\n",
       "      <td>0.059721</td>\n",
       "      <td>1.446469</td>\n",
       "    </tr>\n",
       "    <tr>\n",
       "      <th>3</th>\n",
       "      <td>bar</td>\n",
       "      <td>three</td>\n",
       "      <td>-0.666550</td>\n",
       "      <td>-1.731562</td>\n",
       "    </tr>\n",
       "    <tr>\n",
       "      <th>4</th>\n",
       "      <td>foo</td>\n",
       "      <td>two</td>\n",
       "      <td>-0.175375</td>\n",
       "      <td>-0.514370</td>\n",
       "    </tr>\n",
       "    <tr>\n",
       "      <th>5</th>\n",
       "      <td>bar</td>\n",
       "      <td>two</td>\n",
       "      <td>1.054923</td>\n",
       "      <td>-1.631197</td>\n",
       "    </tr>\n",
       "    <tr>\n",
       "      <th>6</th>\n",
       "      <td>foo</td>\n",
       "      <td>one</td>\n",
       "      <td>0.482194</td>\n",
       "      <td>-1.176911</td>\n",
       "    </tr>\n",
       "    <tr>\n",
       "      <th>7</th>\n",
       "      <td>foo</td>\n",
       "      <td>three</td>\n",
       "      <td>0.141436</td>\n",
       "      <td>-0.406015</td>\n",
       "    </tr>\n",
       "  </tbody>\n",
       "</table>\n",
       "</div>"
      ],
      "text/plain": [
       "     A      B         C         D\n",
       "0  foo    one  1.595226 -1.550317\n",
       "1  bar    one -0.319827 -0.058757\n",
       "2  foo    two  0.059721  1.446469\n",
       "3  bar  three -0.666550 -1.731562\n",
       "4  foo    two -0.175375 -0.514370\n",
       "5  bar    two  1.054923 -1.631197\n",
       "6  foo    one  0.482194 -1.176911\n",
       "7  foo  three  0.141436 -0.406015"
      ]
     },
     "execution_count": 10,
     "metadata": {},
     "output_type": "execute_result"
    }
   ],
   "source": [
    "df = pd.DataFrame({'A' : ['foo', 'bar', 'foo', 'bar',\n",
    "                      'foo', 'bar', 'foo', 'foo'],\n",
    "                   'B' : ['one', 'one', 'two', 'three',\n",
    "                          'two', 'two', 'one', 'three'],\n",
    "                   'C' : np.random.randn(8),\n",
    "                   'D' : np.random.randn(8)})\n",
    "df"
   ]
  },
  {
   "cell_type": "code",
   "execution_count": 11,
   "metadata": {},
   "outputs": [
    {
     "data": {
      "text/plain": [
       "[('bar', 1   -0.058757\n",
       "  3   -1.731562\n",
       "  5   -1.631197\n",
       "  Name: D, dtype: float64), ('foo', 0   -1.550317\n",
       "  2    1.446469\n",
       "  4   -0.514370\n",
       "  6   -1.176911\n",
       "  7   -0.406015\n",
       "  Name: D, dtype: float64)]"
      ]
     },
     "execution_count": 11,
     "metadata": {},
     "output_type": "execute_result"
    }
   ],
   "source": [
    "[x for x in df.groupby('A')['D']]"
   ]
  },
  {
   "cell_type": "markdown",
   "metadata": {},
   "source": [
    "正式开始。"
   ]
  },
  {
   "cell_type": "code",
   "execution_count": 12,
   "metadata": {},
   "outputs": [
    {
     "name": "stderr",
     "output_type": "stream",
     "text": [
      "[2019-12-08 19:50:10,151] INFO in <ipython-input-12-0304f9fa763e>: extract is_good\n",
      "[2019-12-08 19:50:23,376] INFO in <ipython-input-12-0304f9fa763e>: extract is_rec\n",
      "[2019-12-08 19:50:37,461] INFO in <ipython-input-12-0304f9fa763e>: extract is_dest\n",
      "[2019-12-08 19:50:51,629] INFO in <ipython-input-12-0304f9fa763e>: extract has_img\n",
      "[2019-12-08 19:51:06,564] INFO in <ipython-input-12-0304f9fa763e>: extract has_video\n",
      "[2019-12-08 19:51:20,618] INFO in <ipython-input-12-0304f9fa763e>: extract word_count\n",
      "[2019-12-08 19:51:37,017] INFO in <ipython-input-12-0304f9fa763e>: extract reci_cheer\n",
      "[2019-12-08 19:51:53,490] INFO in <ipython-input-12-0304f9fa763e>: extract reci_uncheer\n",
      "[2019-12-08 19:52:10,381] INFO in <ipython-input-12-0304f9fa763e>: extract reci_comment\n",
      "[2019-12-08 19:52:26,593] INFO in <ipython-input-12-0304f9fa763e>: extract reci_mark\n",
      "[2019-12-08 19:52:42,952] INFO in <ipython-input-12-0304f9fa763e>: extract reci_tks\n",
      "[2019-12-08 19:52:59,368] INFO in <ipython-input-12-0304f9fa763e>: extract reci_xxx\n",
      "[2019-12-08 19:53:15,817] INFO in <ipython-input-12-0304f9fa763e>: extract reci_no_help\n",
      "[2019-12-08 19:53:33,468] INFO in <ipython-input-12-0304f9fa763e>: extract reci_dis\n",
      "[2019-12-08 19:53:50,912] INFO in <ipython-input-12-0304f9fa763e>: extract diff_qa_days\n",
      "[2019-12-08 19:54:25,465] INFO in <ipython-input-12-0304f9fa763e>: extract is_good\n",
      "[2019-12-08 19:54:36,274] INFO in <ipython-input-12-0304f9fa763e>: extract is_rec\n",
      "[2019-12-08 19:54:47,316] INFO in <ipython-input-12-0304f9fa763e>: extract is_dest\n",
      "[2019-12-08 19:54:58,514] INFO in <ipython-input-12-0304f9fa763e>: extract has_img\n",
      "[2019-12-08 19:55:09,756] INFO in <ipython-input-12-0304f9fa763e>: extract has_video\n",
      "[2019-12-08 19:55:21,366] INFO in <ipython-input-12-0304f9fa763e>: extract word_count\n",
      "[2019-12-08 19:55:32,789] INFO in <ipython-input-12-0304f9fa763e>: extract reci_cheer\n",
      "[2019-12-08 19:55:44,231] INFO in <ipython-input-12-0304f9fa763e>: extract reci_uncheer\n",
      "[2019-12-08 19:55:56,036] INFO in <ipython-input-12-0304f9fa763e>: extract reci_comment\n",
      "[2019-12-08 19:56:07,962] INFO in <ipython-input-12-0304f9fa763e>: extract reci_mark\n",
      "[2019-12-08 19:56:19,680] INFO in <ipython-input-12-0304f9fa763e>: extract reci_tks\n",
      "[2019-12-08 19:56:31,541] INFO in <ipython-input-12-0304f9fa763e>: extract reci_xxx\n",
      "[2019-12-08 19:56:44,022] INFO in <ipython-input-12-0304f9fa763e>: extract reci_no_help\n",
      "[2019-12-08 19:56:56,090] INFO in <ipython-input-12-0304f9fa763e>: extract reci_dis\n",
      "[2019-12-08 19:57:08,331] INFO in <ipython-input-12-0304f9fa763e>: extract diff_qa_days\n"
     ]
    }
   ],
   "source": [
    "def extract_feature1(target, label_feature, ans_feature):\n",
    "    # 问题特征\n",
    "    t1 = label_feature.groupby('qid')['label'].agg(['mean', 'sum', 'std', 'count', \n",
    "                                                    'max', 'min']).reset_index()\n",
    "    t1.columns = ['qid', 'q_inv_mean', 'q_inv_sum', 'q_inv_std', 'q_inv_count', \n",
    "                  'q_inv_max', 'q_inv_min']\n",
    "    target = pd.merge(target, t1, on='qid', how='left')\n",
    "\n",
    "    # 用户特征\n",
    "    t1 = label_feature.groupby('uid')['label'].agg(['mean', 'sum', 'std', 'count', \n",
    "                                                    'max', 'min']).reset_index()\n",
    "    t1.columns = ['uid', 'u_inv_mean', 'u_inv_sum', 'u_inv_std', 'u_inv_count', \n",
    "                  'u_inv_max', 'u_inv_min']\n",
    "    target = pd.merge(target, t1, on='uid', how='left')\n",
    "    #\n",
    "    # train_size = len(train)\n",
    "    # data = pd.concat((train, test), sort=True)\n",
    "\n",
    "    # 回答部分特征\n",
    "\n",
    "    t1 = ans_feature.groupby('qid')['aid'].count().reset_index()\n",
    "    t1.columns = ['qid', 'q_ans_count']\n",
    "    target = pd.merge(target, t1, on='qid', how='left')\n",
    "\n",
    "    t1 = ans_feature.groupby('uid')['aid'].count().reset_index()\n",
    "    t1.columns = ['uid', 'u_ans_count']\n",
    "    target = pd.merge(target, t1, on='uid', how='left')\n",
    "\n",
    "    for col in fea_cols:\n",
    "        t1 = ans_feature.groupby('uid')[col].agg(['sum', 'max', 'mean', \n",
    "                                                  'std', 'count', 'min']).reset_index()\n",
    "        t1.columns = ['uid', f'u_{col}_sum', f'u_{col}_max', f'u_{col}_mean',\n",
    "                      f'u_{col}_std', f'u_{col}_count', f'u_{col}_min']\n",
    "        target = pd.merge(target, t1, on='uid', how='left')\n",
    "\n",
    "        t1 = ans_feature.groupby('qid')[col].agg(['sum', 'max', 'mean',\n",
    "                                                  'std', 'count', 'min']).reset_index()\n",
    "        t1.columns = ['qid', f'q_{col}_sum', f'q_{col}_max', f'q_{col}_mean',\n",
    "                      f'q_{col}_std', f'q_{col}_count', f'q_{col}_min']\n",
    "        target = pd.merge(target, t1, on='qid', how='left')\n",
    "        logging.info(\"extract %s\", col)\n",
    "    return target\n",
    "\n",
    "\n",
    "train_label = extract_feature1(train_label, train_label_feature, train_ans_feature)\n",
    "test = extract_feature1(test, val_label_feature, val_ans_feature)"
   ]
  },
  {
   "cell_type": "markdown",
   "metadata": {},
   "source": [
    "特征提取结束。"
   ]
  },
  {
   "cell_type": "code",
   "execution_count": 13,
   "metadata": {},
   "outputs": [
    {
     "name": "stderr",
     "output_type": "stream",
     "text": [
      "[2019-12-08 19:57:08,396] INFO in <ipython-input-13-6bad7a600272>: train shape (2593669, 199), test shape (1141683, 198)\n"
     ]
    }
   ],
   "source": [
    "logging.info(\"train shape %s, test shape %s\", train_label.shape, test.shape)\n",
    "assert len(test) == sub_size"
   ]
  },
  {
   "cell_type": "markdown",
   "metadata": {},
   "source": [
    "## 2.6 加载用户"
   ]
  },
  {
   "cell_type": "code",
   "execution_count": 14,
   "metadata": {},
   "outputs": [
    {
     "name": "stderr",
     "output_type": "stream",
     "text": [
      "[2019-12-08 19:57:17,749] INFO in <ipython-input-14-f4f8e8f0ac9b>: user (1931654, 19)\n",
      "[2019-12-08 19:57:20,814] INFO in <ipython-input-14-f4f8e8f0ac9b>: user unq uid              1931654\n",
      "gender                 3\n",
      "creat_keyword          1\n",
      "level                  1\n",
      "hot                    1\n",
      "reg_type               1\n",
      "reg_plat               1\n",
      "freq                   5\n",
      "uf_b1                  2\n",
      "uf_b2                  2\n",
      "uf_b3                  2\n",
      "uf_b4                  2\n",
      "uf_b5                  2\n",
      "uf_c1               2561\n",
      "uf_c2                291\n",
      "uf_c3                428\n",
      "uf_c4               1556\n",
      "uf_c5                  2\n",
      "score                732\n",
      "dtype: int64\n",
      "[2019-12-08 19:57:20,844] INFO in <ipython-input-14-f4f8e8f0ac9b>: del unq==1 creat_keyword\n",
      "[2019-12-08 19:57:20,849] INFO in <ipython-input-14-f4f8e8f0ac9b>: del unq==1 level\n",
      "[2019-12-08 19:57:20,850] INFO in <ipython-input-14-f4f8e8f0ac9b>: del unq==1 hot\n",
      "[2019-12-08 19:57:21,074] INFO in <ipython-input-14-f4f8e8f0ac9b>: del unq==1 reg_type\n",
      "[2019-12-08 19:57:21,253] INFO in <ipython-input-14-f4f8e8f0ac9b>: del unq==1 reg_plat\n",
      "[2019-12-08 19:57:21,260] INFO in <ipython-input-14-f4f8e8f0ac9b>: user cat ['gender', 'freq', 'uf_c1', 'uf_c2', 'uf_c3', 'uf_c4', 'uf_c5']\n",
      "[2019-12-08 19:57:21,674] INFO in <ipython-input-14-f4f8e8f0ac9b>: encode gender\n",
      "[2019-12-08 19:57:22,063] INFO in <ipython-input-14-f4f8e8f0ac9b>: encode freq\n",
      "[2019-12-08 19:57:22,491] INFO in <ipython-input-14-f4f8e8f0ac9b>: encode uf_c1\n",
      "[2019-12-08 19:57:23,063] INFO in <ipython-input-14-f4f8e8f0ac9b>: encode uf_c2\n",
      "[2019-12-08 19:57:23,396] INFO in <ipython-input-14-f4f8e8f0ac9b>: encode uf_c3\n",
      "[2019-12-08 19:57:23,736] INFO in <ipython-input-14-f4f8e8f0ac9b>: encode uf_c4\n",
      "[2019-12-08 19:57:24,045] INFO in <ipython-input-14-f4f8e8f0ac9b>: encode uf_c5\n"
     ]
    }
   ],
   "source": [
    "user = pd.read_csv(f'{base_path}/member_info_0926.txt', header=None, sep='\\t')\n",
    "user.columns = ['uid', 'gender', 'creat_keyword', 'level', 'hot', 'reg_type', 'reg_plat', 'freq', 'uf_b1', 'uf_b2',\n",
    "                'uf_b3', 'uf_b4', 'uf_b5', 'uf_c1', 'uf_c2', 'uf_c3', 'uf_c4', 'uf_c5', 'score', 'follow_topic',\n",
    "                'inter_topic']\n",
    "del user['follow_topic'], user['inter_topic']\n",
    "logging.info(\"user %s\", user.shape)\n",
    "\n",
    "unq = user.nunique()\n",
    "logging.info(\"user unq %s\", unq)\n",
    "\n",
    "for x in unq[unq == 1].index:\n",
    "    del user[x]\n",
    "    logging.info('del unq==1 %s', x)\n",
    "\n",
    "t = user.dtypes\n",
    "cats = [x for x in t[t == 'object'].index if x not in ['follow_topic', 'inter_topic', 'uid']]\n",
    "logging.info(\"user cat %s\", cats)\n",
    "\n",
    "for d in cats:\n",
    "    lb = LabelEncoder()\n",
    "    user[d] = lb.fit_transform(user[d])\n",
    "    logging.info('encode %s', d)\n",
    "\n",
    "q_lb = LabelEncoder()\n",
    "q_lb.fit(list(train_label['qid'].astype(str).values) + list(test['qid'].astype(str).values))\n",
    "train_label['qid_enc'] = q_lb.transform(train_label['qid'])\n",
    "test['qid_enc'] = q_lb.transform(test['qid'])\n",
    "\n",
    "u_lb = LabelEncoder()\n",
    "u_lb.fit(user['uid'])\n",
    "train_label['uid_enc'] = u_lb.transform(train_label['uid'])\n",
    "test['uid_enc'] = u_lb.transform(test['uid'])"
   ]
  },
  {
   "cell_type": "markdown",
   "metadata": {},
   "source": [
    "merge user"
   ]
  },
  {
   "cell_type": "code",
   "execution_count": 15,
   "metadata": {},
   "outputs": [
    {
     "name": "stderr",
     "output_type": "stream",
     "text": [
      "[2019-12-08 19:57:57,349] INFO in <ipython-input-15-a0af6fdcbd8e>: train shape (2593669, 214), test shape (1141683, 213)\n"
     ]
    }
   ],
   "source": [
    "train_label = pd.merge(train_label, user, on='uid', how='left')\n",
    "test = pd.merge(test, user, on='uid', how='left')\n",
    "logging.info(\"train shape %s, test shape %s\", train_label.shape, test.shape)"
   ]
  },
  {
   "cell_type": "markdown",
   "metadata": {},
   "source": [
    "及时清理内存。"
   ]
  },
  {
   "cell_type": "code",
   "execution_count": 16,
   "metadata": {},
   "outputs": [],
   "source": [
    "del ans, train_label_feature, train_ans_feature, val_label_feature, val_ans_feature, user"
   ]
  },
  {
   "cell_type": "code",
   "execution_count": 17,
   "metadata": {},
   "outputs": [],
   "source": [
    "data = pd.concat((train_label, test), axis=0, sort=True)\n",
    "len_train_label = len(train_label)\n",
    "\n",
    "# 暂存清理变量\n",
    "save_param(train_label, 'train_label')\n",
    "del train_label\n",
    "del test"
   ]
  },
  {
   "cell_type": "markdown",
   "metadata": {},
   "source": [
    "count编码。"
   ]
  },
  {
   "cell_type": "code",
   "execution_count": 18,
   "metadata": {},
   "outputs": [
    {
     "data": {
      "text/html": [
       "<div>\n",
       "<style scoped>\n",
       "    .dataframe tbody tr th:only-of-type {\n",
       "        vertical-align: middle;\n",
       "    }\n",
       "\n",
       "    .dataframe tbody tr th {\n",
       "        vertical-align: top;\n",
       "    }\n",
       "\n",
       "    .dataframe thead th {\n",
       "        text-align: right;\n",
       "    }\n",
       "</style>\n",
       "<table border=\"1\" class=\"dataframe\">\n",
       "  <thead>\n",
       "    <tr style=\"text-align: right;\">\n",
       "      <th></th>\n",
       "      <th>day</th>\n",
       "      <th>freq</th>\n",
       "      <th>gender</th>\n",
       "      <th>hour</th>\n",
       "      <th>label</th>\n",
       "      <th>q_ans_count</th>\n",
       "      <th>q_diff_qa_days_count</th>\n",
       "      <th>q_diff_qa_days_max</th>\n",
       "      <th>q_diff_qa_days_mean</th>\n",
       "      <th>q_diff_qa_days_min</th>\n",
       "      <th>...</th>\n",
       "      <th>uf_b3</th>\n",
       "      <th>uf_b4</th>\n",
       "      <th>uf_b5</th>\n",
       "      <th>uf_c1</th>\n",
       "      <th>uf_c2</th>\n",
       "      <th>uf_c3</th>\n",
       "      <th>uf_c4</th>\n",
       "      <th>uf_c5</th>\n",
       "      <th>uid</th>\n",
       "      <th>uid_enc</th>\n",
       "    </tr>\n",
       "  </thead>\n",
       "  <tbody>\n",
       "    <tr>\n",
       "      <th>0</th>\n",
       "      <td>3865</td>\n",
       "      <td>4</td>\n",
       "      <td>2</td>\n",
       "      <td>22</td>\n",
       "      <td>0.0</td>\n",
       "      <td>NaN</td>\n",
       "      <td>NaN</td>\n",
       "      <td>NaN</td>\n",
       "      <td>NaN</td>\n",
       "      <td>NaN</td>\n",
       "      <td>...</td>\n",
       "      <td>0</td>\n",
       "      <td>0</td>\n",
       "      <td>0</td>\n",
       "      <td>2113</td>\n",
       "      <td>190</td>\n",
       "      <td>261</td>\n",
       "      <td>927</td>\n",
       "      <td>1</td>\n",
       "      <td>M401693808</td>\n",
       "      <td>1508098</td>\n",
       "    </tr>\n",
       "    <tr>\n",
       "      <th>1</th>\n",
       "      <td>3862</td>\n",
       "      <td>4</td>\n",
       "      <td>2</td>\n",
       "      <td>15</td>\n",
       "      <td>0.0</td>\n",
       "      <td>NaN</td>\n",
       "      <td>NaN</td>\n",
       "      <td>NaN</td>\n",
       "      <td>NaN</td>\n",
       "      <td>NaN</td>\n",
       "      <td>...</td>\n",
       "      <td>0</td>\n",
       "      <td>0</td>\n",
       "      <td>0</td>\n",
       "      <td>1519</td>\n",
       "      <td>229</td>\n",
       "      <td>0</td>\n",
       "      <td>506</td>\n",
       "      <td>1</td>\n",
       "      <td>M2317670257</td>\n",
       "      <td>657985</td>\n",
       "    </tr>\n",
       "    <tr>\n",
       "      <th>2</th>\n",
       "      <td>3867</td>\n",
       "      <td>1</td>\n",
       "      <td>2</td>\n",
       "      <td>4</td>\n",
       "      <td>0.0</td>\n",
       "      <td>32.0</td>\n",
       "      <td>32.0</td>\n",
       "      <td>13.0</td>\n",
       "      <td>9.531250</td>\n",
       "      <td>0.0</td>\n",
       "      <td>...</td>\n",
       "      <td>0</td>\n",
       "      <td>0</td>\n",
       "      <td>0</td>\n",
       "      <td>551</td>\n",
       "      <td>226</td>\n",
       "      <td>188</td>\n",
       "      <td>815</td>\n",
       "      <td>1</td>\n",
       "      <td>M3544409350</td>\n",
       "      <td>1272353</td>\n",
       "    </tr>\n",
       "    <tr>\n",
       "      <th>3</th>\n",
       "      <td>3861</td>\n",
       "      <td>0</td>\n",
       "      <td>1</td>\n",
       "      <td>20</td>\n",
       "      <td>0.0</td>\n",
       "      <td>3.0</td>\n",
       "      <td>3.0</td>\n",
       "      <td>234.0</td>\n",
       "      <td>222.333333</td>\n",
       "      <td>215.0</td>\n",
       "      <td>...</td>\n",
       "      <td>0</td>\n",
       "      <td>0</td>\n",
       "      <td>0</td>\n",
       "      <td>1519</td>\n",
       "      <td>229</td>\n",
       "      <td>0</td>\n",
       "      <td>506</td>\n",
       "      <td>1</td>\n",
       "      <td>M2818659842</td>\n",
       "      <td>909154</td>\n",
       "    </tr>\n",
       "    <tr>\n",
       "      <th>4</th>\n",
       "      <td>3862</td>\n",
       "      <td>4</td>\n",
       "      <td>0</td>\n",
       "      <td>8</td>\n",
       "      <td>1.0</td>\n",
       "      <td>NaN</td>\n",
       "      <td>NaN</td>\n",
       "      <td>NaN</td>\n",
       "      <td>NaN</td>\n",
       "      <td>NaN</td>\n",
       "      <td>...</td>\n",
       "      <td>0</td>\n",
       "      <td>0</td>\n",
       "      <td>0</td>\n",
       "      <td>2161</td>\n",
       "      <td>31</td>\n",
       "      <td>396</td>\n",
       "      <td>1438</td>\n",
       "      <td>1</td>\n",
       "      <td>M848334644</td>\n",
       "      <td>1856019</td>\n",
       "    </tr>\n",
       "    <tr>\n",
       "      <th>...</th>\n",
       "      <td>...</td>\n",
       "      <td>...</td>\n",
       "      <td>...</td>\n",
       "      <td>...</td>\n",
       "      <td>...</td>\n",
       "      <td>...</td>\n",
       "      <td>...</td>\n",
       "      <td>...</td>\n",
       "      <td>...</td>\n",
       "      <td>...</td>\n",
       "      <td>...</td>\n",
       "      <td>...</td>\n",
       "      <td>...</td>\n",
       "      <td>...</td>\n",
       "      <td>...</td>\n",
       "      <td>...</td>\n",
       "      <td>...</td>\n",
       "      <td>...</td>\n",
       "      <td>...</td>\n",
       "      <td>...</td>\n",
       "      <td>...</td>\n",
       "    </tr>\n",
       "    <tr>\n",
       "      <th>1141678</th>\n",
       "      <td>3869</td>\n",
       "      <td>4</td>\n",
       "      <td>2</td>\n",
       "      <td>20</td>\n",
       "      <td>NaN</td>\n",
       "      <td>NaN</td>\n",
       "      <td>NaN</td>\n",
       "      <td>NaN</td>\n",
       "      <td>NaN</td>\n",
       "      <td>NaN</td>\n",
       "      <td>...</td>\n",
       "      <td>0</td>\n",
       "      <td>0</td>\n",
       "      <td>0</td>\n",
       "      <td>1459</td>\n",
       "      <td>190</td>\n",
       "      <td>79</td>\n",
       "      <td>758</td>\n",
       "      <td>1</td>\n",
       "      <td>M2010778235</td>\n",
       "      <td>504328</td>\n",
       "    </tr>\n",
       "    <tr>\n",
       "      <th>1141679</th>\n",
       "      <td>3872</td>\n",
       "      <td>1</td>\n",
       "      <td>2</td>\n",
       "      <td>21</td>\n",
       "      <td>NaN</td>\n",
       "      <td>NaN</td>\n",
       "      <td>NaN</td>\n",
       "      <td>NaN</td>\n",
       "      <td>NaN</td>\n",
       "      <td>NaN</td>\n",
       "      <td>...</td>\n",
       "      <td>0</td>\n",
       "      <td>0</td>\n",
       "      <td>0</td>\n",
       "      <td>1190</td>\n",
       "      <td>130</td>\n",
       "      <td>119</td>\n",
       "      <td>758</td>\n",
       "      <td>1</td>\n",
       "      <td>M3131383616</td>\n",
       "      <td>1066117</td>\n",
       "    </tr>\n",
       "    <tr>\n",
       "      <th>1141680</th>\n",
       "      <td>3871</td>\n",
       "      <td>0</td>\n",
       "      <td>2</td>\n",
       "      <td>15</td>\n",
       "      <td>NaN</td>\n",
       "      <td>NaN</td>\n",
       "      <td>NaN</td>\n",
       "      <td>NaN</td>\n",
       "      <td>NaN</td>\n",
       "      <td>NaN</td>\n",
       "      <td>...</td>\n",
       "      <td>0</td>\n",
       "      <td>0</td>\n",
       "      <td>0</td>\n",
       "      <td>184</td>\n",
       "      <td>142</td>\n",
       "      <td>311</td>\n",
       "      <td>758</td>\n",
       "      <td>1</td>\n",
       "      <td>M1872860897</td>\n",
       "      <td>435860</td>\n",
       "    </tr>\n",
       "    <tr>\n",
       "      <th>1141681</th>\n",
       "      <td>3871</td>\n",
       "      <td>4</td>\n",
       "      <td>2</td>\n",
       "      <td>8</td>\n",
       "      <td>NaN</td>\n",
       "      <td>NaN</td>\n",
       "      <td>NaN</td>\n",
       "      <td>NaN</td>\n",
       "      <td>NaN</td>\n",
       "      <td>NaN</td>\n",
       "      <td>...</td>\n",
       "      <td>0</td>\n",
       "      <td>0</td>\n",
       "      <td>0</td>\n",
       "      <td>1190</td>\n",
       "      <td>130</td>\n",
       "      <td>6</td>\n",
       "      <td>1373</td>\n",
       "      <td>1</td>\n",
       "      <td>M3574631517</td>\n",
       "      <td>1287650</td>\n",
       "    </tr>\n",
       "    <tr>\n",
       "      <th>1141682</th>\n",
       "      <td>3873</td>\n",
       "      <td>0</td>\n",
       "      <td>1</td>\n",
       "      <td>9</td>\n",
       "      <td>NaN</td>\n",
       "      <td>NaN</td>\n",
       "      <td>NaN</td>\n",
       "      <td>NaN</td>\n",
       "      <td>NaN</td>\n",
       "      <td>NaN</td>\n",
       "      <td>...</td>\n",
       "      <td>0</td>\n",
       "      <td>0</td>\n",
       "      <td>0</td>\n",
       "      <td>1190</td>\n",
       "      <td>130</td>\n",
       "      <td>6</td>\n",
       "      <td>1130</td>\n",
       "      <td>1</td>\n",
       "      <td>M3168697168</td>\n",
       "      <td>1084779</td>\n",
       "    </tr>\n",
       "  </tbody>\n",
       "</table>\n",
       "<p>3735352 rows × 214 columns</p>\n",
       "</div>"
      ],
      "text/plain": [
       "          day  freq  gender  hour  label  q_ans_count  q_diff_qa_days_count  \\\n",
       "0        3865     4       2    22    0.0          NaN                   NaN   \n",
       "1        3862     4       2    15    0.0          NaN                   NaN   \n",
       "2        3867     1       2     4    0.0         32.0                  32.0   \n",
       "3        3861     0       1    20    0.0          3.0                   3.0   \n",
       "4        3862     4       0     8    1.0          NaN                   NaN   \n",
       "...       ...   ...     ...   ...    ...          ...                   ...   \n",
       "1141678  3869     4       2    20    NaN          NaN                   NaN   \n",
       "1141679  3872     1       2    21    NaN          NaN                   NaN   \n",
       "1141680  3871     0       2    15    NaN          NaN                   NaN   \n",
       "1141681  3871     4       2     8    NaN          NaN                   NaN   \n",
       "1141682  3873     0       1     9    NaN          NaN                   NaN   \n",
       "\n",
       "         q_diff_qa_days_max  q_diff_qa_days_mean  q_diff_qa_days_min  ...  \\\n",
       "0                       NaN                  NaN                 NaN  ...   \n",
       "1                       NaN                  NaN                 NaN  ...   \n",
       "2                      13.0             9.531250                 0.0  ...   \n",
       "3                     234.0           222.333333               215.0  ...   \n",
       "4                       NaN                  NaN                 NaN  ...   \n",
       "...                     ...                  ...                 ...  ...   \n",
       "1141678                 NaN                  NaN                 NaN  ...   \n",
       "1141679                 NaN                  NaN                 NaN  ...   \n",
       "1141680                 NaN                  NaN                 NaN  ...   \n",
       "1141681                 NaN                  NaN                 NaN  ...   \n",
       "1141682                 NaN                  NaN                 NaN  ...   \n",
       "\n",
       "         uf_b3  uf_b4  uf_b5  uf_c1  uf_c2  uf_c3  uf_c4  uf_c5          uid  \\\n",
       "0            0      0      0   2113    190    261    927      1   M401693808   \n",
       "1            0      0      0   1519    229      0    506      1  M2317670257   \n",
       "2            0      0      0    551    226    188    815      1  M3544409350   \n",
       "3            0      0      0   1519    229      0    506      1  M2818659842   \n",
       "4            0      0      0   2161     31    396   1438      1   M848334644   \n",
       "...        ...    ...    ...    ...    ...    ...    ...    ...          ...   \n",
       "1141678      0      0      0   1459    190     79    758      1  M2010778235   \n",
       "1141679      0      0      0   1190    130    119    758      1  M3131383616   \n",
       "1141680      0      0      0    184    142    311    758      1  M1872860897   \n",
       "1141681      0      0      0   1190    130      6   1373      1  M3574631517   \n",
       "1141682      0      0      0   1190    130      6   1130      1  M3168697168   \n",
       "\n",
       "         uid_enc  \n",
       "0        1508098  \n",
       "1         657985  \n",
       "2        1272353  \n",
       "3         909154  \n",
       "4        1856019  \n",
       "...          ...  \n",
       "1141678   504328  \n",
       "1141679  1066117  \n",
       "1141680   435860  \n",
       "1141681  1287650  \n",
       "1141682  1084779  \n",
       "\n",
       "[3735352 rows x 214 columns]"
      ]
     },
     "execution_count": 18,
     "metadata": {},
     "output_type": "execute_result"
    }
   ],
   "source": [
    "data"
   ]
  },
  {
   "cell_type": "code",
   "execution_count": 20,
   "metadata": {},
   "outputs": [
    {
     "ename": "MemoryError",
     "evalue": "",
     "output_type": "error",
     "traceback": [
      "\u001b[0;31m---------------------------------------------------------------------------\u001b[0m",
      "\u001b[0;31mMemoryError\u001b[0m                               Traceback (most recent call last)",
      "\u001b[0;32m<ipython-input-20-1bf38824b8aa>\u001b[0m in \u001b[0;36m<module>\u001b[0;34m\u001b[0m\n\u001b[0;32m----> 1\u001b[0;31m \u001b[0msave_param\u001b[0m\u001b[0;34m(\u001b[0m\u001b[0mdata\u001b[0m\u001b[0;34m,\u001b[0m \u001b[0;34m'data'\u001b[0m\u001b[0;34m)\u001b[0m\u001b[0;34m\u001b[0m\u001b[0;34m\u001b[0m\u001b[0m\n\u001b[0m",
      "\u001b[0;32m<ipython-input-2-d6e230daba4d>\u001b[0m in \u001b[0;36msave_param\u001b[0;34m(param, param_name)\u001b[0m\n\u001b[1;32m      3\u001b[0m \u001b[0;32mdef\u001b[0m \u001b[0msave_param\u001b[0m\u001b[0;34m(\u001b[0m\u001b[0mparam\u001b[0m\u001b[0;34m,\u001b[0m \u001b[0mparam_name\u001b[0m\u001b[0;34m)\u001b[0m\u001b[0;34m:\u001b[0m\u001b[0;34m\u001b[0m\u001b[0;34m\u001b[0m\u001b[0m\n\u001b[1;32m      4\u001b[0m     \u001b[0;32mwith\u001b[0m \u001b[0mopen\u001b[0m\u001b[0;34m(\u001b[0m\u001b[0;34mf'{base_path}/temp/{param_name}.txt'\u001b[0m\u001b[0;34m,\u001b[0m \u001b[0;34m'wb'\u001b[0m\u001b[0;34m)\u001b[0m \u001b[0;32mas\u001b[0m \u001b[0mf\u001b[0m\u001b[0;34m:\u001b[0m\u001b[0;34m\u001b[0m\u001b[0;34m\u001b[0m\u001b[0m\n\u001b[0;32m----> 5\u001b[0;31m         \u001b[0mpickle\u001b[0m\u001b[0;34m.\u001b[0m\u001b[0mdump\u001b[0m\u001b[0;34m(\u001b[0m\u001b[0mparam\u001b[0m\u001b[0;34m,\u001b[0m \u001b[0mf\u001b[0m\u001b[0;34m)\u001b[0m\u001b[0;34m\u001b[0m\u001b[0;34m\u001b[0m\u001b[0m\n\u001b[0m\u001b[1;32m      6\u001b[0m \u001b[0;34m\u001b[0m\u001b[0m\n\u001b[1;32m      7\u001b[0m \u001b[0;32mdef\u001b[0m \u001b[0mread_param\u001b[0m\u001b[0;34m(\u001b[0m\u001b[0mparam_name\u001b[0m\u001b[0;34m)\u001b[0m\u001b[0;34m:\u001b[0m\u001b[0;34m\u001b[0m\u001b[0;34m\u001b[0m\u001b[0m\n",
      "\u001b[0;31mMemoryError\u001b[0m: "
     ]
    }
   ],
   "source": [
    "save_param(data, 'data')"
   ]
  },
  {
   "cell_type": "code",
   "execution_count": 22,
   "metadata": {},
   "outputs": [
    {
     "name": "stderr",
     "output_type": "stream",
     "text": [
      "  0%|          | 0/9 [00:00<?, ?it/s]\n"
     ]
    },
    {
     "ename": "MemoryError",
     "evalue": "",
     "output_type": "error",
     "traceback": [
      "\u001b[0;31m---------------------------------------------------------------------------\u001b[0m",
      "\u001b[0;31mMemoryError\u001b[0m                               Traceback (most recent call last)",
      "\u001b[0;32m<ipython-input-22-3708c9706c76>\u001b[0m in \u001b[0;36m<module>\u001b[0;34m\u001b[0m\n\u001b[1;32m      4\u001b[0m         \u001b[0mcol_name\u001b[0m \u001b[0;34m=\u001b[0m \u001b[0;34m'{}_count'\u001b[0m\u001b[0;34m.\u001b[0m\u001b[0mformat\u001b[0m\u001b[0;34m(\u001b[0m\u001b[0mfeat\u001b[0m\u001b[0;34m)\u001b[0m\u001b[0;34m\u001b[0m\u001b[0;34m\u001b[0m\u001b[0m\n\u001b[1;32m      5\u001b[0m         \u001b[0mdata\u001b[0m\u001b[0;34m[\u001b[0m\u001b[0mcol_name\u001b[0m\u001b[0;34m]\u001b[0m \u001b[0;34m=\u001b[0m \u001b[0mdata\u001b[0m\u001b[0;34m[\u001b[0m\u001b[0mfeat\u001b[0m\u001b[0;34m]\u001b[0m\u001b[0;34m.\u001b[0m\u001b[0mmap\u001b[0m\u001b[0;34m(\u001b[0m\u001b[0mdata\u001b[0m\u001b[0;34m[\u001b[0m\u001b[0mfeat\u001b[0m\u001b[0;34m]\u001b[0m\u001b[0;34m.\u001b[0m\u001b[0mvalue_counts\u001b[0m\u001b[0;34m(\u001b[0m\u001b[0;34m)\u001b[0m\u001b[0;34m.\u001b[0m\u001b[0mastype\u001b[0m\u001b[0;34m(\u001b[0m\u001b[0mint\u001b[0m\u001b[0;34m)\u001b[0m\u001b[0;34m)\u001b[0m\u001b[0;34m\u001b[0m\u001b[0;34m\u001b[0m\u001b[0m\n\u001b[0;32m----> 6\u001b[0;31m         \u001b[0mdata\u001b[0m\u001b[0;34m.\u001b[0m\u001b[0mloc\u001b[0m\u001b[0;34m[\u001b[0m\u001b[0mdata\u001b[0m\u001b[0;34m[\u001b[0m\u001b[0mcol_name\u001b[0m\u001b[0;34m]\u001b[0m \u001b[0;34m<\u001b[0m \u001b[0;36m2\u001b[0m\u001b[0;34m,\u001b[0m \u001b[0mfeat\u001b[0m\u001b[0;34m]\u001b[0m \u001b[0;34m=\u001b[0m \u001b[0;34m-\u001b[0m\u001b[0;36m1\u001b[0m\u001b[0;34m\u001b[0m\u001b[0;34m\u001b[0m\u001b[0m\n\u001b[0m\u001b[1;32m      7\u001b[0m         \u001b[0mdata\u001b[0m\u001b[0;34m[\u001b[0m\u001b[0mfeat\u001b[0m\u001b[0;34m]\u001b[0m \u001b[0;34m+=\u001b[0m \u001b[0;36m1\u001b[0m\u001b[0;34m\u001b[0m\u001b[0;34m\u001b[0m\u001b[0m\n\u001b[1;32m      8\u001b[0m         \u001b[0mdata\u001b[0m\u001b[0;34m[\u001b[0m\u001b[0mcol_name\u001b[0m\u001b[0;34m]\u001b[0m \u001b[0;34m=\u001b[0m \u001b[0mdata\u001b[0m\u001b[0;34m[\u001b[0m\u001b[0mfeat\u001b[0m\u001b[0;34m]\u001b[0m\u001b[0;34m.\u001b[0m\u001b[0mmap\u001b[0m\u001b[0;34m(\u001b[0m\u001b[0mdata\u001b[0m\u001b[0;34m[\u001b[0m\u001b[0mfeat\u001b[0m\u001b[0;34m]\u001b[0m\u001b[0;34m.\u001b[0m\u001b[0mvalue_counts\u001b[0m\u001b[0;34m(\u001b[0m\u001b[0;34m)\u001b[0m\u001b[0;34m.\u001b[0m\u001b[0mastype\u001b[0m\u001b[0;34m(\u001b[0m\u001b[0mint\u001b[0m\u001b[0;34m)\u001b[0m\u001b[0;34m)\u001b[0m\u001b[0;34m\u001b[0m\u001b[0;34m\u001b[0m\u001b[0m\n",
      "\u001b[0;32m~/miniconda3/lib/python3.7/site-packages/pandas/core/indexing.py\u001b[0m in \u001b[0;36m__setitem__\u001b[0;34m(self, key, value)\u001b[0m\n\u001b[1;32m    203\u001b[0m             \u001b[0mkey\u001b[0m \u001b[0;34m=\u001b[0m \u001b[0mcom\u001b[0m\u001b[0;34m.\u001b[0m\u001b[0mapply_if_callable\u001b[0m\u001b[0;34m(\u001b[0m\u001b[0mkey\u001b[0m\u001b[0;34m,\u001b[0m \u001b[0mself\u001b[0m\u001b[0;34m.\u001b[0m\u001b[0mobj\u001b[0m\u001b[0;34m)\u001b[0m\u001b[0;34m\u001b[0m\u001b[0;34m\u001b[0m\u001b[0m\n\u001b[1;32m    204\u001b[0m         \u001b[0mindexer\u001b[0m \u001b[0;34m=\u001b[0m \u001b[0mself\u001b[0m\u001b[0;34m.\u001b[0m\u001b[0m_get_setitem_indexer\u001b[0m\u001b[0;34m(\u001b[0m\u001b[0mkey\u001b[0m\u001b[0;34m)\u001b[0m\u001b[0;34m\u001b[0m\u001b[0;34m\u001b[0m\u001b[0m\n\u001b[0;32m--> 205\u001b[0;31m         \u001b[0mself\u001b[0m\u001b[0;34m.\u001b[0m\u001b[0m_setitem_with_indexer\u001b[0m\u001b[0;34m(\u001b[0m\u001b[0mindexer\u001b[0m\u001b[0;34m,\u001b[0m \u001b[0mvalue\u001b[0m\u001b[0;34m)\u001b[0m\u001b[0;34m\u001b[0m\u001b[0;34m\u001b[0m\u001b[0m\n\u001b[0m\u001b[1;32m    206\u001b[0m \u001b[0;34m\u001b[0m\u001b[0m\n\u001b[1;32m    207\u001b[0m     \u001b[0;32mdef\u001b[0m \u001b[0m_validate_key\u001b[0m\u001b[0;34m(\u001b[0m\u001b[0mself\u001b[0m\u001b[0;34m,\u001b[0m \u001b[0mkey\u001b[0m\u001b[0;34m,\u001b[0m \u001b[0maxis\u001b[0m\u001b[0;34m:\u001b[0m \u001b[0mint\u001b[0m\u001b[0;34m)\u001b[0m\u001b[0;34m:\u001b[0m\u001b[0;34m\u001b[0m\u001b[0;34m\u001b[0m\u001b[0m\n",
      "\u001b[0;32m~/miniconda3/lib/python3.7/site-packages/pandas/core/indexing.py\u001b[0m in \u001b[0;36m_setitem_with_indexer\u001b[0;34m(self, indexer, value)\u001b[0m\n\u001b[1;32m    320\u001b[0m \u001b[0;34m\u001b[0m\u001b[0m\n\u001b[1;32m    321\u001b[0m         \u001b[0;31m# maybe partial set\u001b[0m\u001b[0;34m\u001b[0m\u001b[0;34m\u001b[0m\u001b[0;34m\u001b[0m\u001b[0m\n\u001b[0;32m--> 322\u001b[0;31m         \u001b[0mtake_split_path\u001b[0m \u001b[0;34m=\u001b[0m \u001b[0mself\u001b[0m\u001b[0;34m.\u001b[0m\u001b[0mobj\u001b[0m\u001b[0;34m.\u001b[0m\u001b[0m_is_mixed_type\u001b[0m\u001b[0;34m\u001b[0m\u001b[0;34m\u001b[0m\u001b[0m\n\u001b[0m\u001b[1;32m    323\u001b[0m \u001b[0;34m\u001b[0m\u001b[0m\n\u001b[1;32m    324\u001b[0m         \u001b[0;31m# if there is only one block/type, still have to take split path\u001b[0m\u001b[0;34m\u001b[0m\u001b[0;34m\u001b[0m\u001b[0;34m\u001b[0m\u001b[0m\n",
      "\u001b[0;32m~/miniconda3/lib/python3.7/site-packages/pandas/core/generic.py\u001b[0m in \u001b[0;36m_is_mixed_type\u001b[0;34m(self)\u001b[0m\n\u001b[1;32m   5277\u001b[0m     \u001b[0;32mdef\u001b[0m \u001b[0m_is_mixed_type\u001b[0m\u001b[0;34m(\u001b[0m\u001b[0mself\u001b[0m\u001b[0;34m)\u001b[0m\u001b[0;34m:\u001b[0m\u001b[0;34m\u001b[0m\u001b[0;34m\u001b[0m\u001b[0m\n\u001b[1;32m   5278\u001b[0m         \u001b[0mf\u001b[0m \u001b[0;34m=\u001b[0m \u001b[0;32mlambda\u001b[0m\u001b[0;34m:\u001b[0m \u001b[0mself\u001b[0m\u001b[0;34m.\u001b[0m\u001b[0m_data\u001b[0m\u001b[0;34m.\u001b[0m\u001b[0mis_mixed_type\u001b[0m\u001b[0;34m\u001b[0m\u001b[0;34m\u001b[0m\u001b[0m\n\u001b[0;32m-> 5279\u001b[0;31m         \u001b[0;32mreturn\u001b[0m \u001b[0mself\u001b[0m\u001b[0;34m.\u001b[0m\u001b[0m_protect_consolidate\u001b[0m\u001b[0;34m(\u001b[0m\u001b[0mf\u001b[0m\u001b[0;34m)\u001b[0m\u001b[0;34m\u001b[0m\u001b[0;34m\u001b[0m\u001b[0m\n\u001b[0m\u001b[1;32m   5280\u001b[0m \u001b[0;34m\u001b[0m\u001b[0m\n\u001b[1;32m   5281\u001b[0m     \u001b[0;34m@\u001b[0m\u001b[0mproperty\u001b[0m\u001b[0;34m\u001b[0m\u001b[0;34m\u001b[0m\u001b[0m\n",
      "\u001b[0;32m~/miniconda3/lib/python3.7/site-packages/pandas/core/generic.py\u001b[0m in \u001b[0;36m_protect_consolidate\u001b[0;34m(self, f)\u001b[0m\n\u001b[1;32m   5239\u001b[0m         \"\"\"\n\u001b[1;32m   5240\u001b[0m         \u001b[0mblocks_before\u001b[0m \u001b[0;34m=\u001b[0m \u001b[0mlen\u001b[0m\u001b[0;34m(\u001b[0m\u001b[0mself\u001b[0m\u001b[0;34m.\u001b[0m\u001b[0m_data\u001b[0m\u001b[0;34m.\u001b[0m\u001b[0mblocks\u001b[0m\u001b[0;34m)\u001b[0m\u001b[0;34m\u001b[0m\u001b[0;34m\u001b[0m\u001b[0m\n\u001b[0;32m-> 5241\u001b[0;31m         \u001b[0mresult\u001b[0m \u001b[0;34m=\u001b[0m \u001b[0mf\u001b[0m\u001b[0;34m(\u001b[0m\u001b[0;34m)\u001b[0m\u001b[0;34m\u001b[0m\u001b[0;34m\u001b[0m\u001b[0m\n\u001b[0m\u001b[1;32m   5242\u001b[0m         \u001b[0;32mif\u001b[0m \u001b[0mlen\u001b[0m\u001b[0;34m(\u001b[0m\u001b[0mself\u001b[0m\u001b[0;34m.\u001b[0m\u001b[0m_data\u001b[0m\u001b[0;34m.\u001b[0m\u001b[0mblocks\u001b[0m\u001b[0;34m)\u001b[0m \u001b[0;34m!=\u001b[0m \u001b[0mblocks_before\u001b[0m\u001b[0;34m:\u001b[0m\u001b[0;34m\u001b[0m\u001b[0;34m\u001b[0m\u001b[0m\n\u001b[1;32m   5243\u001b[0m             \u001b[0mself\u001b[0m\u001b[0;34m.\u001b[0m\u001b[0m_clear_item_cache\u001b[0m\u001b[0;34m(\u001b[0m\u001b[0;34m)\u001b[0m\u001b[0;34m\u001b[0m\u001b[0;34m\u001b[0m\u001b[0m\n",
      "\u001b[0;32m~/miniconda3/lib/python3.7/site-packages/pandas/core/generic.py\u001b[0m in \u001b[0;36m<lambda>\u001b[0;34m()\u001b[0m\n\u001b[1;32m   5276\u001b[0m     \u001b[0;34m@\u001b[0m\u001b[0mproperty\u001b[0m\u001b[0;34m\u001b[0m\u001b[0;34m\u001b[0m\u001b[0m\n\u001b[1;32m   5277\u001b[0m     \u001b[0;32mdef\u001b[0m \u001b[0m_is_mixed_type\u001b[0m\u001b[0;34m(\u001b[0m\u001b[0mself\u001b[0m\u001b[0;34m)\u001b[0m\u001b[0;34m:\u001b[0m\u001b[0;34m\u001b[0m\u001b[0;34m\u001b[0m\u001b[0m\n\u001b[0;32m-> 5278\u001b[0;31m         \u001b[0mf\u001b[0m \u001b[0;34m=\u001b[0m \u001b[0;32mlambda\u001b[0m\u001b[0;34m:\u001b[0m \u001b[0mself\u001b[0m\u001b[0;34m.\u001b[0m\u001b[0m_data\u001b[0m\u001b[0;34m.\u001b[0m\u001b[0mis_mixed_type\u001b[0m\u001b[0;34m\u001b[0m\u001b[0;34m\u001b[0m\u001b[0m\n\u001b[0m\u001b[1;32m   5279\u001b[0m         \u001b[0;32mreturn\u001b[0m \u001b[0mself\u001b[0m\u001b[0;34m.\u001b[0m\u001b[0m_protect_consolidate\u001b[0m\u001b[0;34m(\u001b[0m\u001b[0mf\u001b[0m\u001b[0;34m)\u001b[0m\u001b[0;34m\u001b[0m\u001b[0;34m\u001b[0m\u001b[0m\n\u001b[1;32m   5280\u001b[0m \u001b[0;34m\u001b[0m\u001b[0m\n",
      "\u001b[0;32m~/miniconda3/lib/python3.7/site-packages/pandas/core/internals/managers.py\u001b[0m in \u001b[0;36mis_mixed_type\u001b[0;34m(self)\u001b[0m\n\u001b[1;32m    660\u001b[0m     \u001b[0;32mdef\u001b[0m \u001b[0mis_mixed_type\u001b[0m\u001b[0;34m(\u001b[0m\u001b[0mself\u001b[0m\u001b[0;34m)\u001b[0m\u001b[0;34m:\u001b[0m\u001b[0;34m\u001b[0m\u001b[0;34m\u001b[0m\u001b[0m\n\u001b[1;32m    661\u001b[0m         \u001b[0;31m# Warning, consolidation needs to get checked upstairs\u001b[0m\u001b[0;34m\u001b[0m\u001b[0;34m\u001b[0m\u001b[0;34m\u001b[0m\u001b[0m\n\u001b[0;32m--> 662\u001b[0;31m         \u001b[0mself\u001b[0m\u001b[0;34m.\u001b[0m\u001b[0m_consolidate_inplace\u001b[0m\u001b[0;34m(\u001b[0m\u001b[0;34m)\u001b[0m\u001b[0;34m\u001b[0m\u001b[0;34m\u001b[0m\u001b[0m\n\u001b[0m\u001b[1;32m    663\u001b[0m         \u001b[0;32mreturn\u001b[0m \u001b[0mlen\u001b[0m\u001b[0;34m(\u001b[0m\u001b[0mself\u001b[0m\u001b[0;34m.\u001b[0m\u001b[0mblocks\u001b[0m\u001b[0;34m)\u001b[0m \u001b[0;34m>\u001b[0m \u001b[0;36m1\u001b[0m\u001b[0;34m\u001b[0m\u001b[0;34m\u001b[0m\u001b[0m\n\u001b[1;32m    664\u001b[0m \u001b[0;34m\u001b[0m\u001b[0m\n",
      "\u001b[0;32m~/miniconda3/lib/python3.7/site-packages/pandas/core/internals/managers.py\u001b[0m in \u001b[0;36m_consolidate_inplace\u001b[0;34m(self)\u001b[0m\n\u001b[1;32m    935\u001b[0m     \u001b[0;32mdef\u001b[0m \u001b[0m_consolidate_inplace\u001b[0m\u001b[0;34m(\u001b[0m\u001b[0mself\u001b[0m\u001b[0;34m)\u001b[0m\u001b[0;34m:\u001b[0m\u001b[0;34m\u001b[0m\u001b[0;34m\u001b[0m\u001b[0m\n\u001b[1;32m    936\u001b[0m         \u001b[0;32mif\u001b[0m \u001b[0;32mnot\u001b[0m \u001b[0mself\u001b[0m\u001b[0;34m.\u001b[0m\u001b[0mis_consolidated\u001b[0m\u001b[0;34m(\u001b[0m\u001b[0;34m)\u001b[0m\u001b[0;34m:\u001b[0m\u001b[0;34m\u001b[0m\u001b[0;34m\u001b[0m\u001b[0m\n\u001b[0;32m--> 937\u001b[0;31m             \u001b[0mself\u001b[0m\u001b[0;34m.\u001b[0m\u001b[0mblocks\u001b[0m \u001b[0;34m=\u001b[0m \u001b[0mtuple\u001b[0m\u001b[0;34m(\u001b[0m\u001b[0m_consolidate\u001b[0m\u001b[0;34m(\u001b[0m\u001b[0mself\u001b[0m\u001b[0;34m.\u001b[0m\u001b[0mblocks\u001b[0m\u001b[0;34m)\u001b[0m\u001b[0;34m)\u001b[0m\u001b[0;34m\u001b[0m\u001b[0;34m\u001b[0m\u001b[0m\n\u001b[0m\u001b[1;32m    938\u001b[0m             \u001b[0mself\u001b[0m\u001b[0;34m.\u001b[0m\u001b[0m_is_consolidated\u001b[0m \u001b[0;34m=\u001b[0m \u001b[0;32mTrue\u001b[0m\u001b[0;34m\u001b[0m\u001b[0;34m\u001b[0m\u001b[0m\n\u001b[1;32m    939\u001b[0m             \u001b[0mself\u001b[0m\u001b[0;34m.\u001b[0m\u001b[0m_known_consolidated\u001b[0m \u001b[0;34m=\u001b[0m \u001b[0;32mTrue\u001b[0m\u001b[0;34m\u001b[0m\u001b[0;34m\u001b[0m\u001b[0m\n",
      "\u001b[0;32m~/miniconda3/lib/python3.7/site-packages/pandas/core/internals/managers.py\u001b[0m in \u001b[0;36m_consolidate\u001b[0;34m(blocks)\u001b[0m\n\u001b[1;32m   1911\u001b[0m     \u001b[0;32mfor\u001b[0m \u001b[0;34m(\u001b[0m\u001b[0m_can_consolidate\u001b[0m\u001b[0;34m,\u001b[0m \u001b[0mdtype\u001b[0m\u001b[0;34m)\u001b[0m\u001b[0;34m,\u001b[0m \u001b[0mgroup_blocks\u001b[0m \u001b[0;32min\u001b[0m \u001b[0mgrouper\u001b[0m\u001b[0;34m:\u001b[0m\u001b[0;34m\u001b[0m\u001b[0;34m\u001b[0m\u001b[0m\n\u001b[1;32m   1912\u001b[0m         merged_blocks = _merge_blocks(\n\u001b[0;32m-> 1913\u001b[0;31m             \u001b[0mlist\u001b[0m\u001b[0;34m(\u001b[0m\u001b[0mgroup_blocks\u001b[0m\u001b[0;34m)\u001b[0m\u001b[0;34m,\u001b[0m \u001b[0mdtype\u001b[0m\u001b[0;34m=\u001b[0m\u001b[0mdtype\u001b[0m\u001b[0;34m,\u001b[0m \u001b[0m_can_consolidate\u001b[0m\u001b[0;34m=\u001b[0m\u001b[0m_can_consolidate\u001b[0m\u001b[0;34m\u001b[0m\u001b[0;34m\u001b[0m\u001b[0m\n\u001b[0m\u001b[1;32m   1914\u001b[0m         )\n\u001b[1;32m   1915\u001b[0m         \u001b[0mnew_blocks\u001b[0m \u001b[0;34m=\u001b[0m \u001b[0m_extend_blocks\u001b[0m\u001b[0;34m(\u001b[0m\u001b[0mmerged_blocks\u001b[0m\u001b[0;34m,\u001b[0m \u001b[0mnew_blocks\u001b[0m\u001b[0;34m)\u001b[0m\u001b[0;34m\u001b[0m\u001b[0;34m\u001b[0m\u001b[0m\n",
      "\u001b[0;32m~/miniconda3/lib/python3.7/site-packages/pandas/core/internals/blocks.py\u001b[0m in \u001b[0;36m_merge_blocks\u001b[0;34m(blocks, dtype, _can_consolidate)\u001b[0m\n\u001b[1;32m   3335\u001b[0m         \u001b[0;31m# combination of those slices is a slice, too.\u001b[0m\u001b[0;34m\u001b[0m\u001b[0;34m\u001b[0m\u001b[0;34m\u001b[0m\u001b[0m\n\u001b[1;32m   3336\u001b[0m         \u001b[0mnew_mgr_locs\u001b[0m \u001b[0;34m=\u001b[0m \u001b[0mnp\u001b[0m\u001b[0;34m.\u001b[0m\u001b[0mconcatenate\u001b[0m\u001b[0;34m(\u001b[0m\u001b[0;34m[\u001b[0m\u001b[0mb\u001b[0m\u001b[0;34m.\u001b[0m\u001b[0mmgr_locs\u001b[0m\u001b[0;34m.\u001b[0m\u001b[0mas_array\u001b[0m \u001b[0;32mfor\u001b[0m \u001b[0mb\u001b[0m \u001b[0;32min\u001b[0m \u001b[0mblocks\u001b[0m\u001b[0;34m]\u001b[0m\u001b[0;34m)\u001b[0m\u001b[0;34m\u001b[0m\u001b[0;34m\u001b[0m\u001b[0m\n\u001b[0;32m-> 3337\u001b[0;31m         \u001b[0mnew_values\u001b[0m \u001b[0;34m=\u001b[0m \u001b[0mnp\u001b[0m\u001b[0;34m.\u001b[0m\u001b[0mvstack\u001b[0m\u001b[0;34m(\u001b[0m\u001b[0;34m[\u001b[0m\u001b[0mb\u001b[0m\u001b[0;34m.\u001b[0m\u001b[0mvalues\u001b[0m \u001b[0;32mfor\u001b[0m \u001b[0mb\u001b[0m \u001b[0;32min\u001b[0m \u001b[0mblocks\u001b[0m\u001b[0;34m]\u001b[0m\u001b[0;34m)\u001b[0m\u001b[0;34m\u001b[0m\u001b[0;34m\u001b[0m\u001b[0m\n\u001b[0m\u001b[1;32m   3338\u001b[0m \u001b[0;34m\u001b[0m\u001b[0m\n\u001b[1;32m   3339\u001b[0m         \u001b[0margsort\u001b[0m \u001b[0;34m=\u001b[0m \u001b[0mnp\u001b[0m\u001b[0;34m.\u001b[0m\u001b[0margsort\u001b[0m\u001b[0;34m(\u001b[0m\u001b[0mnew_mgr_locs\u001b[0m\u001b[0;34m)\u001b[0m\u001b[0;34m\u001b[0m\u001b[0;34m\u001b[0m\u001b[0m\n",
      "\u001b[0;32m~/miniconda3/lib/python3.7/site-packages/numpy/core/shape_base.py\u001b[0m in \u001b[0;36mvstack\u001b[0;34m(tup)\u001b[0m\n\u001b[1;32m    281\u001b[0m     \"\"\"\n\u001b[1;32m    282\u001b[0m     \u001b[0m_warn_for_nonsequence\u001b[0m\u001b[0;34m(\u001b[0m\u001b[0mtup\u001b[0m\u001b[0;34m)\u001b[0m\u001b[0;34m\u001b[0m\u001b[0;34m\u001b[0m\u001b[0m\n\u001b[0;32m--> 283\u001b[0;31m     \u001b[0;32mreturn\u001b[0m \u001b[0m_nx\u001b[0m\u001b[0;34m.\u001b[0m\u001b[0mconcatenate\u001b[0m\u001b[0;34m(\u001b[0m\u001b[0;34m[\u001b[0m\u001b[0matleast_2d\u001b[0m\u001b[0;34m(\u001b[0m\u001b[0m_m\u001b[0m\u001b[0;34m)\u001b[0m \u001b[0;32mfor\u001b[0m \u001b[0m_m\u001b[0m \u001b[0;32min\u001b[0m \u001b[0mtup\u001b[0m\u001b[0;34m]\u001b[0m\u001b[0;34m,\u001b[0m \u001b[0;36m0\u001b[0m\u001b[0;34m)\u001b[0m\u001b[0;34m\u001b[0m\u001b[0;34m\u001b[0m\u001b[0m\n\u001b[0m\u001b[1;32m    284\u001b[0m \u001b[0;34m\u001b[0m\u001b[0m\n\u001b[1;32m    285\u001b[0m \u001b[0;34m\u001b[0m\u001b[0m\n",
      "\u001b[0;31mMemoryError\u001b[0m: "
     ]
    }
   ],
   "source": [
    "count_fea = ['uid_enc', 'qid_enc', 'gender', 'freq', 'uf_c1', 'uf_c2', 'uf_c3', 'uf_c4', 'uf_c5']\n",
    "with tqdm(total=len(count_fea)) as pbar:\n",
    "    for feat in count_fea:\n",
    "        col_name = '{}_count'.format(feat)\n",
    "        data[col_name] = data[feat].map(data[feat].value_counts().astype(int))\n",
    "        data.loc[data[col_name] < 2, feat] = -1\n",
    "        data[feat] += 1\n",
    "        data[col_name] = data[feat].map(data[feat].value_counts().astype(int))\n",
    "        data[col_name] = (data[col_name] - data[col_name].min()) / (data[col_name].max() - data[col_name].min())\n",
    "        pbar.update(1)"
   ]
  },
  {
   "cell_type": "markdown",
   "metadata": {},
   "source": [
    "## 2.7 处理数据"
   ]
  },
  {
   "cell_type": "markdown",
   "metadata": {},
   "source": [
    "压缩数据。"
   ]
  },
  {
   "cell_type": "code",
   "execution_count": null,
   "metadata": {},
   "outputs": [],
   "source": [
    "t = data.dtypes\n",
    "for x in t[t == 'int64'].index:\n",
    "    data[x] = data[x].astype('int32')\n",
    "\n",
    "for x in t[t == 'float64'].index:\n",
    "    data[x] = data[x].astype('float32')\n",
    "\n",
    "data['wk'] = data['day'] % 7\n",
    "\n",
    "feature_cols = [x for x in data.columns if x not in ('label', 'uid', 'qid', 'dt', 'day')]"
   ]
  },
  {
   "cell_type": "markdown",
   "metadata": {},
   "source": [
    "target编码。"
   ]
  },
  {
   "cell_type": "code",
   "execution_count": null,
   "metadata": {},
   "outputs": [],
   "source": [
    "logging.info(\"feature size %s\", len(feature_cols))\n",
    "\n",
    "# 恢复数据\n",
    "train_label = read_param('train_label')\n",
    "    \n",
    "X_train_all = data.iloc[:len_train_label][feature_cols]\n",
    "y_train_all = data.iloc[:len_train_label]['label']\n",
    "\n",
    "test = data.iloc[len_train_label:]\n",
    "# with open(f'{base_path}/temp/test.txt', 'wb') as f:\n",
    "#     pickle.dump(test, f)\n",
    "#     del test\n",
    "    \n",
    "assert len(data) - len_train_label == sub_size"
   ]
  },
  {
   "cell_type": "markdown",
   "metadata": {},
   "source": [
    "# 3 训练树"
   ]
  },
  {
   "cell_type": "markdown",
   "metadata": {},
   "source": [
    "## 3.1 预处理数据"
   ]
  },
  {
   "cell_type": "code",
   "execution_count": null,
   "metadata": {},
   "outputs": [],
   "source": [
    "logging.info(\"train shape %s, test shape %s\", \n",
    "             data.iloc[:len_train_label].shape, \n",
    "             data.iloc[len_train_label:].shape)\n",
    "\n",
    "save_param(data, 'data')\n",
    "del data\n",
    "\n",
    "\n",
    "# 分层采样，交叉验证（切分5片）\n",
    "fold = StratifiedKFold(n_splits=5, shuffle=True, random_state=42)\n",
    "# 但只用了其中一次切片\n",
    "for index, (train_idx, val_idx) in enumerate(fold.split(X=X_train_all, y=y_train_all)):\n",
    "    break\n",
    "\n",
    "X_train, X_val, y_train, y_val = X_train_all.iloc[train_idx][feature_cols], X_train_all.iloc[val_idx][feature_cols], \\\n",
    "                                 y_train_all.iloc[train_idx], \\\n",
    "                                 y_train_all.iloc[val_idx]\n",
    "# del X_train_all"
   ]
  },
  {
   "cell_type": "markdown",
   "metadata": {},
   "source": [
    "## 3.2 存取数据"
   ]
  },
  {
   "cell_type": "markdown",
   "metadata": {},
   "source": [
    "存变量"
   ]
  },
  {
   "cell_type": "code",
   "execution_count": null,
   "metadata": {},
   "outputs": [],
   "source": [
    "import pickle\n",
    "\n",
    "save_param(X_train, 'X_train')\n",
    "save_param(y_train, 'y_train')\n",
    "save_param(X_val, 'X_val')\n",
    "save_param(y_val, 'y_val')\n",
    "save_param(test, 'test')\n",
    "save_param(sub, 'sub')\n",
    "save_param(X_train_all, 'X_train_all')\n",
    "save_param(y_train_all, 'y_train_all')\n",
    "save_param(feature_cols, 'feature_cols')"
   ]
  },
  {
   "cell_type": "markdown",
   "metadata": {},
   "source": [
    "取变量"
   ]
  },
  {
   "cell_type": "code",
   "execution_count": 3,
   "metadata": {},
   "outputs": [],
   "source": [
    "import pickle\n",
    "\n",
    "X_train = read_param('X_train')\n",
    "y_train = read_param('y_train')\n",
    "X_val = read_param('X_val')\n",
    "y_val = read_param('y_val')\n",
    "test = read_param('test')\n",
    "sub = read_param('sub')\n",
    "X_train_all = read_param('X_train_all')\n",
    "y_train_all = read_param('y_train_all')\n",
    "feature_cols = read_param('feature_cols')"
   ]
  },
  {
   "cell_type": "markdown",
   "metadata": {},
   "source": [
    "## 3.3 LGBM分类器训练"
   ]
  },
  {
   "cell_type": "code",
   "execution_count": null,
   "metadata": {},
   "outputs": [],
   "source": [
    "X_train"
   ]
  },
  {
   "cell_type": "code",
   "execution_count": 7,
   "metadata": {},
   "outputs": [],
   "source": [
    "del model_lgb"
   ]
  },
  {
   "cell_type": "code",
   "execution_count": 6,
   "metadata": {
    "scrolled": true
   },
   "outputs": [
    {
     "name": "stdout",
     "output_type": "stream",
     "text": [
      "[1]\tvalid_0's auc: 0.694659\tvalid_0's binary_logloss: 0.43264\n",
      "Training until validation scores don't improve for 50 rounds\n",
      "[2]\tvalid_0's auc: 0.69746\tvalid_0's binary_logloss: 0.427194\n",
      "[3]\tvalid_0's auc: 0.699562\tvalid_0's binary_logloss: 0.422871\n",
      "[4]\tvalid_0's auc: 0.700995\tvalid_0's binary_logloss: 0.419338\n",
      "[5]\tvalid_0's auc: 0.702133\tvalid_0's binary_logloss: 0.416435\n",
      "[6]\tvalid_0's auc: 0.703\tvalid_0's binary_logloss: 0.414084\n",
      "[7]\tvalid_0's auc: 0.703621\tvalid_0's binary_logloss: 0.412139\n",
      "[8]\tvalid_0's auc: 0.704017\tvalid_0's binary_logloss: 0.410473\n",
      "[9]\tvalid_0's auc: 0.704995\tvalid_0's binary_logloss: 0.40902\n",
      "[10]\tvalid_0's auc: 0.705465\tvalid_0's binary_logloss: 0.407792\n",
      "[11]\tvalid_0's auc: 0.70591\tvalid_0's binary_logloss: 0.406748\n"
     ]
    },
    {
     "ename": "KeyboardInterrupt",
     "evalue": "",
     "output_type": "error",
     "traceback": [
      "\u001b[0;31m---------------------------------------------------------------------------\u001b[0m",
      "\u001b[0;31mKeyboardInterrupt\u001b[0m                         Traceback (most recent call last)",
      "\u001b[0;32m<ipython-input-6-ac93179638ed>\u001b[0m in \u001b[0;36m<module>\u001b[0;34m\u001b[0m\n\u001b[1;32m      7\u001b[0m               \u001b[0meval_metric\u001b[0m\u001b[0;34m=\u001b[0m\u001b[0;34m[\u001b[0m\u001b[0;34m'logloss'\u001b[0m\u001b[0;34m,\u001b[0m \u001b[0;34m'auc'\u001b[0m\u001b[0;34m]\u001b[0m\u001b[0;34m,\u001b[0m\u001b[0;34m\u001b[0m\u001b[0;34m\u001b[0m\u001b[0m\n\u001b[1;32m      8\u001b[0m               \u001b[0meval_set\u001b[0m\u001b[0;34m=\u001b[0m\u001b[0;34m[\u001b[0m\u001b[0;34m(\u001b[0m\u001b[0mX_val\u001b[0m\u001b[0;34m,\u001b[0m \u001b[0my_val\u001b[0m\u001b[0;34m)\u001b[0m\u001b[0;34m]\u001b[0m\u001b[0;34m,\u001b[0m\u001b[0;34m\u001b[0m\u001b[0;34m\u001b[0m\u001b[0m\n\u001b[0;32m----> 9\u001b[0;31m               early_stopping_rounds=50)\n\u001b[0m",
      "\u001b[0;32m~/miniconda3/lib/python3.7/site-packages/lightgbm/sklearn.py\u001b[0m in \u001b[0;36mfit\u001b[0;34m(self, X, y, sample_weight, init_score, eval_set, eval_names, eval_sample_weight, eval_class_weight, eval_init_score, eval_metric, early_stopping_rounds, verbose, feature_name, categorical_feature, callbacks)\u001b[0m\n\u001b[1;32m    798\u001b[0m                                         \u001b[0mverbose\u001b[0m\u001b[0;34m=\u001b[0m\u001b[0mverbose\u001b[0m\u001b[0;34m,\u001b[0m \u001b[0mfeature_name\u001b[0m\u001b[0;34m=\u001b[0m\u001b[0mfeature_name\u001b[0m\u001b[0;34m,\u001b[0m\u001b[0;34m\u001b[0m\u001b[0;34m\u001b[0m\u001b[0m\n\u001b[1;32m    799\u001b[0m                                         \u001b[0mcategorical_feature\u001b[0m\u001b[0;34m=\u001b[0m\u001b[0mcategorical_feature\u001b[0m\u001b[0;34m,\u001b[0m\u001b[0;34m\u001b[0m\u001b[0;34m\u001b[0m\u001b[0m\n\u001b[0;32m--> 800\u001b[0;31m                                         callbacks=callbacks)\n\u001b[0m\u001b[1;32m    801\u001b[0m         \u001b[0;32mreturn\u001b[0m \u001b[0mself\u001b[0m\u001b[0;34m\u001b[0m\u001b[0;34m\u001b[0m\u001b[0m\n\u001b[1;32m    802\u001b[0m \u001b[0;34m\u001b[0m\u001b[0m\n",
      "\u001b[0;32m~/miniconda3/lib/python3.7/site-packages/lightgbm/sklearn.py\u001b[0m in \u001b[0;36mfit\u001b[0;34m(self, X, y, sample_weight, init_score, group, eval_set, eval_names, eval_sample_weight, eval_class_weight, eval_init_score, eval_group, eval_metric, early_stopping_rounds, verbose, feature_name, categorical_feature, callbacks)\u001b[0m\n\u001b[1;32m    593\u001b[0m                               \u001b[0mverbose_eval\u001b[0m\u001b[0;34m=\u001b[0m\u001b[0mverbose\u001b[0m\u001b[0;34m,\u001b[0m \u001b[0mfeature_name\u001b[0m\u001b[0;34m=\u001b[0m\u001b[0mfeature_name\u001b[0m\u001b[0;34m,\u001b[0m\u001b[0;34m\u001b[0m\u001b[0;34m\u001b[0m\u001b[0m\n\u001b[1;32m    594\u001b[0m                               \u001b[0mcategorical_feature\u001b[0m\u001b[0;34m=\u001b[0m\u001b[0mcategorical_feature\u001b[0m\u001b[0;34m,\u001b[0m\u001b[0;34m\u001b[0m\u001b[0;34m\u001b[0m\u001b[0m\n\u001b[0;32m--> 595\u001b[0;31m                               callbacks=callbacks)\n\u001b[0m\u001b[1;32m    596\u001b[0m \u001b[0;34m\u001b[0m\u001b[0m\n\u001b[1;32m    597\u001b[0m         \u001b[0;32mif\u001b[0m \u001b[0mevals_result\u001b[0m\u001b[0;34m:\u001b[0m\u001b[0;34m\u001b[0m\u001b[0;34m\u001b[0m\u001b[0m\n",
      "\u001b[0;32m~/miniconda3/lib/python3.7/site-packages/lightgbm/engine.py\u001b[0m in \u001b[0;36mtrain\u001b[0;34m(params, train_set, num_boost_round, valid_sets, valid_names, fobj, feval, init_model, feature_name, categorical_feature, early_stopping_rounds, evals_result, verbose_eval, learning_rates, keep_training_booster, callbacks)\u001b[0m\n\u001b[1;32m    247\u001b[0m                                     evaluation_result_list=None))\n\u001b[1;32m    248\u001b[0m \u001b[0;34m\u001b[0m\u001b[0m\n\u001b[0;32m--> 249\u001b[0;31m         \u001b[0mbooster\u001b[0m\u001b[0;34m.\u001b[0m\u001b[0mupdate\u001b[0m\u001b[0;34m(\u001b[0m\u001b[0mfobj\u001b[0m\u001b[0;34m=\u001b[0m\u001b[0mfobj\u001b[0m\u001b[0;34m)\u001b[0m\u001b[0;34m\u001b[0m\u001b[0;34m\u001b[0m\u001b[0m\n\u001b[0m\u001b[1;32m    250\u001b[0m \u001b[0;34m\u001b[0m\u001b[0m\n\u001b[1;32m    251\u001b[0m         \u001b[0mevaluation_result_list\u001b[0m \u001b[0;34m=\u001b[0m \u001b[0;34m[\u001b[0m\u001b[0;34m]\u001b[0m\u001b[0;34m\u001b[0m\u001b[0;34m\u001b[0m\u001b[0m\n",
      "\u001b[0;32m~/miniconda3/lib/python3.7/site-packages/lightgbm/basic.py\u001b[0m in \u001b[0;36mupdate\u001b[0;34m(self, train_set, fobj)\u001b[0m\n\u001b[1;32m   1924\u001b[0m             _safe_call(_LIB.LGBM_BoosterUpdateOneIter(\n\u001b[1;32m   1925\u001b[0m                 \u001b[0mself\u001b[0m\u001b[0;34m.\u001b[0m\u001b[0mhandle\u001b[0m\u001b[0;34m,\u001b[0m\u001b[0;34m\u001b[0m\u001b[0;34m\u001b[0m\u001b[0m\n\u001b[0;32m-> 1926\u001b[0;31m                 ctypes.byref(is_finished)))\n\u001b[0m\u001b[1;32m   1927\u001b[0m             \u001b[0mself\u001b[0m\u001b[0;34m.\u001b[0m\u001b[0m__is_predicted_cur_iter\u001b[0m \u001b[0;34m=\u001b[0m \u001b[0;34m[\u001b[0m\u001b[0;32mFalse\u001b[0m \u001b[0;32mfor\u001b[0m \u001b[0m_\u001b[0m \u001b[0;32min\u001b[0m \u001b[0mrange_\u001b[0m\u001b[0;34m(\u001b[0m\u001b[0mself\u001b[0m\u001b[0;34m.\u001b[0m\u001b[0m__num_dataset\u001b[0m\u001b[0;34m)\u001b[0m\u001b[0;34m]\u001b[0m\u001b[0;34m\u001b[0m\u001b[0;34m\u001b[0m\u001b[0m\n\u001b[1;32m   1928\u001b[0m             \u001b[0;32mreturn\u001b[0m \u001b[0mis_finished\u001b[0m\u001b[0;34m.\u001b[0m\u001b[0mvalue\u001b[0m \u001b[0;34m==\u001b[0m \u001b[0;36m1\u001b[0m\u001b[0;34m\u001b[0m\u001b[0;34m\u001b[0m\u001b[0m\n",
      "\u001b[0;31mKeyboardInterrupt\u001b[0m: "
     ]
    }
   ],
   "source": [
    "model_lgb = LGBMClassifier(n_estimators=2000, \n",
    "                           n_jobs=6, \n",
    "                           objective='binary', \n",
    "                           seed=1000, \n",
    "                           silent=True)\n",
    "model_lgb.fit(X_train, y_train,\n",
    "              eval_metric=['logloss', 'auc'],\n",
    "              eval_set=[(X_val, y_val)],\n",
    "              early_stopping_rounds=50)"
   ]
  },
  {
   "cell_type": "code",
   "execution_count": 24,
   "metadata": {},
   "outputs": [],
   "source": [
    "save_param(model_lgb, 'model_lgb')"
   ]
  },
  {
   "cell_type": "markdown",
   "metadata": {},
   "source": [
    "## 3.4 换用神经网络训练"
   ]
  },
  {
   "cell_type": "markdown",
   "metadata": {},
   "source": [
    "### 3.4.1 导入包"
   ]
  },
  {
   "cell_type": "code",
   "execution_count": 38,
   "metadata": {},
   "outputs": [],
   "source": [
    "from keras.callbacks import ModelCheckpoint, ReduceLROnPlateau\n",
    "from keras.models import Sequential\n",
    "from keras.layers import Activation, BatchNormalization, Dense, Dropout\n",
    "\n",
    "import os\n",
    "import tensorflow as tf\n",
    "from keras.backend import set_session\n",
    "\n",
    "BATCH_SIZE = 8192\n",
    "EPOCHS = 5\n",
    "LR = 0.01\n",
    "\n",
    "os.environ[\"CUDA_VISIBLE_DEVICES\"] = \"3\"\n",
    "config = tf.compat.v1.ConfigProto()\n",
    "# config.gpu_options.per_process_gpu_memory_fraction = 0.8  # 占用GPU百分比\n",
    "config.gpu_options.allow_growth = True\n",
    "set_session(tf.compat.v1.Session(config=config)) # 此处不同"
   ]
  },
  {
   "cell_type": "markdown",
   "metadata": {},
   "source": [
    "### 3.4.2 数据处理"
   ]
  },
  {
   "cell_type": "markdown",
   "metadata": {},
   "source": [
    "过采样均衡数据。"
   ]
  },
  {
   "cell_type": "code",
   "execution_count": 12,
   "metadata": {},
   "outputs": [
    {
     "name": "stderr",
     "output_type": "stream",
     "text": [
      "[2019-12-06 14:52:22,133] INFO in <ipython-input-12-d16766aa9ee7>: y_train distribution is Counter({0.0: 1742924, 1.0: 332010})\n",
      "[2019-12-06 14:52:41,135] INFO in <ipython-input-12-d16766aa9ee7>: y_resampled distribution is Counter({0.0: 1742924, 1.0: 1742924})\n"
     ]
    }
   ],
   "source": [
    "from collections import Counter\n",
    "from imblearn.over_sampling import RandomOverSampler\n",
    "\n",
    "logging.info('y_train distribution is %s' % Counter(y_train))\n",
    "ros = RandomOverSampler(random_state=0)\n",
    "X_resampled, y_resampled = ros.fit_resample(X_train, y_train)\n",
    "logging.info('y_resampled distribution is %s' % Counter(y_resampled))"
   ]
  },
  {
   "cell_type": "markdown",
   "metadata": {},
   "source": [
    "归一化数据。"
   ]
  },
  {
   "cell_type": "code",
   "execution_count": 15,
   "metadata": {},
   "outputs": [
    {
     "data": {
      "text/html": [
       "<div>\n",
       "<style scoped>\n",
       "    .dataframe tbody tr th:only-of-type {\n",
       "        vertical-align: middle;\n",
       "    }\n",
       "\n",
       "    .dataframe tbody tr th {\n",
       "        vertical-align: top;\n",
       "    }\n",
       "\n",
       "    .dataframe thead th {\n",
       "        text-align: right;\n",
       "    }\n",
       "</style>\n",
       "<table border=\"1\" class=\"dataframe\">\n",
       "  <thead>\n",
       "    <tr style=\"text-align: right;\">\n",
       "      <th></th>\n",
       "      <th>0</th>\n",
       "      <th>1</th>\n",
       "      <th>2</th>\n",
       "      <th>3</th>\n",
       "      <th>4</th>\n",
       "      <th>5</th>\n",
       "      <th>6</th>\n",
       "      <th>7</th>\n",
       "      <th>8</th>\n",
       "      <th>9</th>\n",
       "      <th>...</th>\n",
       "      <th>116</th>\n",
       "      <th>117</th>\n",
       "      <th>118</th>\n",
       "      <th>119</th>\n",
       "      <th>120</th>\n",
       "      <th>121</th>\n",
       "      <th>122</th>\n",
       "      <th>123</th>\n",
       "      <th>124</th>\n",
       "      <th>125</th>\n",
       "    </tr>\n",
       "  </thead>\n",
       "  <tbody>\n",
       "    <tr>\n",
       "      <th>0</th>\n",
       "      <td>1.00</td>\n",
       "      <td>1.000000</td>\n",
       "      <td>1.0</td>\n",
       "      <td>1.00000</td>\n",
       "      <td>0.956522</td>\n",
       "      <td>NaN</td>\n",
       "      <td>NaN</td>\n",
       "      <td>NaN</td>\n",
       "      <td>NaN</td>\n",
       "      <td>NaN</td>\n",
       "      <td>...</td>\n",
       "      <td>0.370162</td>\n",
       "      <td>0.612150</td>\n",
       "      <td>0.220357</td>\n",
       "      <td>0.596401</td>\n",
       "      <td>0.063075</td>\n",
       "      <td>1.0</td>\n",
       "      <td>1.0</td>\n",
       "      <td>0.780729</td>\n",
       "      <td>0.000000</td>\n",
       "      <td>0.166667</td>\n",
       "    </tr>\n",
       "    <tr>\n",
       "      <th>1</th>\n",
       "      <td>1.00</td>\n",
       "      <td>1.000000</td>\n",
       "      <td>1.0</td>\n",
       "      <td>1.00000</td>\n",
       "      <td>0.652174</td>\n",
       "      <td>NaN</td>\n",
       "      <td>NaN</td>\n",
       "      <td>NaN</td>\n",
       "      <td>NaN</td>\n",
       "      <td>NaN</td>\n",
       "      <td>...</td>\n",
       "      <td>0.111176</td>\n",
       "      <td>0.002336</td>\n",
       "      <td>0.444174</td>\n",
       "      <td>0.325835</td>\n",
       "      <td>0.004092</td>\n",
       "      <td>1.0</td>\n",
       "      <td>1.0</td>\n",
       "      <td>0.340633</td>\n",
       "      <td>0.000003</td>\n",
       "      <td>0.833333</td>\n",
       "    </tr>\n",
       "    <tr>\n",
       "      <th>2</th>\n",
       "      <td>0.25</td>\n",
       "      <td>0.726702</td>\n",
       "      <td>1.0</td>\n",
       "      <td>1.00000</td>\n",
       "      <td>0.173913</td>\n",
       "      <td>0.012205</td>\n",
       "      <td>0.007429</td>\n",
       "      <td>0.007670</td>\n",
       "      <td>0.000110</td>\n",
       "      <td>1.0</td>\n",
       "      <td>...</td>\n",
       "      <td>0.034051</td>\n",
       "      <td>0.441589</td>\n",
       "      <td>0.403767</td>\n",
       "      <td>0.524422</td>\n",
       "      <td>0.044312</td>\n",
       "      <td>1.0</td>\n",
       "      <td>1.0</td>\n",
       "      <td>0.658686</td>\n",
       "      <td>0.000015</td>\n",
       "      <td>0.500000</td>\n",
       "    </tr>\n",
       "    <tr>\n",
       "      <th>3</th>\n",
       "      <td>0.00</td>\n",
       "      <td>0.979042</td>\n",
       "      <td>0.5</td>\n",
       "      <td>0.37587</td>\n",
       "      <td>0.869565</td>\n",
       "      <td>0.000787</td>\n",
       "      <td>0.078811</td>\n",
       "      <td>0.076444</td>\n",
       "      <td>0.000216</td>\n",
       "      <td>1.0</td>\n",
       "      <td>...</td>\n",
       "      <td>0.111176</td>\n",
       "      <td>0.002336</td>\n",
       "      <td>0.444174</td>\n",
       "      <td>0.325835</td>\n",
       "      <td>0.004092</td>\n",
       "      <td>1.0</td>\n",
       "      <td>1.0</td>\n",
       "      <td>0.470661</td>\n",
       "      <td>0.000003</td>\n",
       "      <td>0.666667</td>\n",
       "    </tr>\n",
       "    <tr>\n",
       "      <th>4</th>\n",
       "      <td>1.00</td>\n",
       "      <td>1.000000</td>\n",
       "      <td>0.0</td>\n",
       "      <td>0.00000</td>\n",
       "      <td>0.347826</td>\n",
       "      <td>NaN</td>\n",
       "      <td>NaN</td>\n",
       "      <td>NaN</td>\n",
       "      <td>NaN</td>\n",
       "      <td>NaN</td>\n",
       "      <td>...</td>\n",
       "      <td>0.007531</td>\n",
       "      <td>0.927570</td>\n",
       "      <td>0.514839</td>\n",
       "      <td>0.924807</td>\n",
       "      <td>0.125055</td>\n",
       "      <td>1.0</td>\n",
       "      <td>1.0</td>\n",
       "      <td>0.960845</td>\n",
       "      <td>0.000027</td>\n",
       "      <td>0.833333</td>\n",
       "    </tr>\n",
       "    <tr>\n",
       "      <th>...</th>\n",
       "      <td>...</td>\n",
       "      <td>...</td>\n",
       "      <td>...</td>\n",
       "      <td>...</td>\n",
       "      <td>...</td>\n",
       "      <td>...</td>\n",
       "      <td>...</td>\n",
       "      <td>...</td>\n",
       "      <td>...</td>\n",
       "      <td>...</td>\n",
       "      <td>...</td>\n",
       "      <td>...</td>\n",
       "      <td>...</td>\n",
       "      <td>...</td>\n",
       "      <td>...</td>\n",
       "      <td>...</td>\n",
       "      <td>...</td>\n",
       "      <td>...</td>\n",
       "      <td>...</td>\n",
       "      <td>...</td>\n",
       "      <td>...</td>\n",
       "    </tr>\n",
       "    <tr>\n",
       "      <th>3485843</th>\n",
       "      <td>0.25</td>\n",
       "      <td>0.726702</td>\n",
       "      <td>0.0</td>\n",
       "      <td>0.00000</td>\n",
       "      <td>0.434783</td>\n",
       "      <td>NaN</td>\n",
       "      <td>NaN</td>\n",
       "      <td>NaN</td>\n",
       "      <td>NaN</td>\n",
       "      <td>NaN</td>\n",
       "      <td>...</td>\n",
       "      <td>0.135960</td>\n",
       "      <td>0.280374</td>\n",
       "      <td>0.217955</td>\n",
       "      <td>0.487789</td>\n",
       "      <td>1.000000</td>\n",
       "      <td>1.0</td>\n",
       "      <td>1.0</td>\n",
       "      <td>0.703995</td>\n",
       "      <td>0.000000</td>\n",
       "      <td>0.000000</td>\n",
       "    </tr>\n",
       "    <tr>\n",
       "      <th>3485844</th>\n",
       "      <td>0.00</td>\n",
       "      <td>0.979042</td>\n",
       "      <td>0.5</td>\n",
       "      <td>0.37587</td>\n",
       "      <td>0.652174</td>\n",
       "      <td>NaN</td>\n",
       "      <td>NaN</td>\n",
       "      <td>NaN</td>\n",
       "      <td>NaN</td>\n",
       "      <td>NaN</td>\n",
       "      <td>...</td>\n",
       "      <td>0.135960</td>\n",
       "      <td>0.922897</td>\n",
       "      <td>0.629243</td>\n",
       "      <td>0.487789</td>\n",
       "      <td>1.000000</td>\n",
       "      <td>1.0</td>\n",
       "      <td>1.0</td>\n",
       "      <td>0.319920</td>\n",
       "      <td>0.000006</td>\n",
       "      <td>0.500000</td>\n",
       "    </tr>\n",
       "    <tr>\n",
       "      <th>3485845</th>\n",
       "      <td>0.25</td>\n",
       "      <td>0.726702</td>\n",
       "      <td>0.0</td>\n",
       "      <td>0.00000</td>\n",
       "      <td>0.347826</td>\n",
       "      <td>NaN</td>\n",
       "      <td>NaN</td>\n",
       "      <td>NaN</td>\n",
       "      <td>NaN</td>\n",
       "      <td>NaN</td>\n",
       "      <td>...</td>\n",
       "      <td>1.000000</td>\n",
       "      <td>0.002336</td>\n",
       "      <td>0.444174</td>\n",
       "      <td>0.487789</td>\n",
       "      <td>1.000000</td>\n",
       "      <td>1.0</td>\n",
       "      <td>1.0</td>\n",
       "      <td>0.025804</td>\n",
       "      <td>0.000018</td>\n",
       "      <td>0.333333</td>\n",
       "    </tr>\n",
       "    <tr>\n",
       "      <th>3485846</th>\n",
       "      <td>0.00</td>\n",
       "      <td>0.979042</td>\n",
       "      <td>1.0</td>\n",
       "      <td>1.00000</td>\n",
       "      <td>0.652174</td>\n",
       "      <td>NaN</td>\n",
       "      <td>NaN</td>\n",
       "      <td>NaN</td>\n",
       "      <td>NaN</td>\n",
       "      <td>NaN</td>\n",
       "      <td>...</td>\n",
       "      <td>1.000000</td>\n",
       "      <td>0.623832</td>\n",
       "      <td>0.511017</td>\n",
       "      <td>0.141388</td>\n",
       "      <td>0.005033</td>\n",
       "      <td>1.0</td>\n",
       "      <td>1.0</td>\n",
       "      <td>0.325498</td>\n",
       "      <td>0.000006</td>\n",
       "      <td>0.666667</td>\n",
       "    </tr>\n",
       "    <tr>\n",
       "      <th>3485847</th>\n",
       "      <td>1.00</td>\n",
       "      <td>1.000000</td>\n",
       "      <td>1.0</td>\n",
       "      <td>1.00000</td>\n",
       "      <td>0.826087</td>\n",
       "      <td>NaN</td>\n",
       "      <td>NaN</td>\n",
       "      <td>NaN</td>\n",
       "      <td>NaN</td>\n",
       "      <td>NaN</td>\n",
       "      <td>...</td>\n",
       "      <td>1.000000</td>\n",
       "      <td>0.782710</td>\n",
       "      <td>0.318214</td>\n",
       "      <td>0.487789</td>\n",
       "      <td>1.000000</td>\n",
       "      <td>1.0</td>\n",
       "      <td>1.0</td>\n",
       "      <td>0.641804</td>\n",
       "      <td>0.000018</td>\n",
       "      <td>0.666667</td>\n",
       "    </tr>\n",
       "  </tbody>\n",
       "</table>\n",
       "<p>3485848 rows × 126 columns</p>\n",
       "</div>"
      ],
      "text/plain": [
       "          0         1    2        3         4         5         6         7    \\\n",
       "0        1.00  1.000000  1.0  1.00000  0.956522       NaN       NaN       NaN   \n",
       "1        1.00  1.000000  1.0  1.00000  0.652174       NaN       NaN       NaN   \n",
       "2        0.25  0.726702  1.0  1.00000  0.173913  0.012205  0.007429  0.007670   \n",
       "3        0.00  0.979042  0.5  0.37587  0.869565  0.000787  0.078811  0.076444   \n",
       "4        1.00  1.000000  0.0  0.00000  0.347826       NaN       NaN       NaN   \n",
       "...       ...       ...  ...      ...       ...       ...       ...       ...   \n",
       "3485843  0.25  0.726702  0.0  0.00000  0.434783       NaN       NaN       NaN   \n",
       "3485844  0.00  0.979042  0.5  0.37587  0.652174       NaN       NaN       NaN   \n",
       "3485845  0.25  0.726702  0.0  0.00000  0.347826       NaN       NaN       NaN   \n",
       "3485846  0.00  0.979042  1.0  1.00000  0.652174       NaN       NaN       NaN   \n",
       "3485847  1.00  1.000000  1.0  1.00000  0.826087       NaN       NaN       NaN   \n",
       "\n",
       "              8    9    ...       116       117       118       119       120  \\\n",
       "0             NaN  NaN  ...  0.370162  0.612150  0.220357  0.596401  0.063075   \n",
       "1             NaN  NaN  ...  0.111176  0.002336  0.444174  0.325835  0.004092   \n",
       "2        0.000110  1.0  ...  0.034051  0.441589  0.403767  0.524422  0.044312   \n",
       "3        0.000216  1.0  ...  0.111176  0.002336  0.444174  0.325835  0.004092   \n",
       "4             NaN  NaN  ...  0.007531  0.927570  0.514839  0.924807  0.125055   \n",
       "...           ...  ...  ...       ...       ...       ...       ...       ...   \n",
       "3485843       NaN  NaN  ...  0.135960  0.280374  0.217955  0.487789  1.000000   \n",
       "3485844       NaN  NaN  ...  0.135960  0.922897  0.629243  0.487789  1.000000   \n",
       "3485845       NaN  NaN  ...  1.000000  0.002336  0.444174  0.487789  1.000000   \n",
       "3485846       NaN  NaN  ...  1.000000  0.623832  0.511017  0.141388  0.005033   \n",
       "3485847       NaN  NaN  ...  1.000000  0.782710  0.318214  0.487789  1.000000   \n",
       "\n",
       "         121  122       123       124       125  \n",
       "0        1.0  1.0  0.780729  0.000000  0.166667  \n",
       "1        1.0  1.0  0.340633  0.000003  0.833333  \n",
       "2        1.0  1.0  0.658686  0.000015  0.500000  \n",
       "3        1.0  1.0  0.470661  0.000003  0.666667  \n",
       "4        1.0  1.0  0.960845  0.000027  0.833333  \n",
       "...      ...  ...       ...       ...       ...  \n",
       "3485843  1.0  1.0  0.703995  0.000000  0.000000  \n",
       "3485844  1.0  1.0  0.319920  0.000006  0.500000  \n",
       "3485845  1.0  1.0  0.025804  0.000018  0.333333  \n",
       "3485846  1.0  1.0  0.325498  0.000006  0.666667  \n",
       "3485847  1.0  1.0  0.641804  0.000018  0.666667  \n",
       "\n",
       "[3485848 rows x 126 columns]"
      ]
     },
     "execution_count": 15,
     "metadata": {},
     "output_type": "execute_result"
    }
   ],
   "source": [
    "from sklearn.preprocessing import MinMaxScaler\n",
    "\n",
    "mms = MinMaxScaler()\n",
    "x = X_resampled.values\n",
    "x = mms.fit_transform(x)\n",
    "X_resampled = pd.DataFrame(x)\n",
    "X_resampled"
   ]
  },
  {
   "cell_type": "markdown",
   "metadata": {},
   "source": [
    "### 3.4.3 定义训练模型"
   ]
  },
  {
   "cell_type": "markdown",
   "metadata": {},
   "source": [
    "定义回调函数。"
   ]
  },
  {
   "cell_type": "code",
   "execution_count": 13,
   "metadata": {},
   "outputs": [],
   "source": [
    "train_callbacks = [\n",
    "    ReduceLROnPlateau(monitor='val_loss', factor=0.1, \n",
    "                      patience=2, verbose=1, \n",
    "                      mode='auto', min_delta=0.0001, \n",
    "                      cooldown=0, min_lr=0,),  # lr scheduler\n",
    "]"
   ]
  },
  {
   "cell_type": "markdown",
   "metadata": {},
   "source": [
    "模型结构定义。"
   ]
  },
  {
   "cell_type": "code",
   "execution_count": 39,
   "metadata": {},
   "outputs": [
    {
     "name": "stdout",
     "output_type": "stream",
     "text": [
      "Model: \"sequential_5\"\n",
      "_________________________________________________________________\n",
      "Layer (type)                 Output Shape              Param #   \n",
      "=================================================================\n",
      "dense_21 (Dense)             (None, 256)               32512     \n",
      "_________________________________________________________________\n",
      "dropout_10 (Dropout)         (None, 256)               0         \n",
      "_________________________________________________________________\n",
      "dense_22 (Dense)             (None, 512)               131584    \n",
      "_________________________________________________________________\n",
      "dropout_11 (Dropout)         (None, 512)               0         \n",
      "_________________________________________________________________\n",
      "dense_23 (Dense)             (None, 512)               262656    \n",
      "_________________________________________________________________\n",
      "dropout_12 (Dropout)         (None, 512)               0         \n",
      "_________________________________________________________________\n",
      "dense_24 (Dense)             (None, 256)               131328    \n",
      "_________________________________________________________________\n",
      "dense_25 (Dense)             (None, 1)                 257       \n",
      "=================================================================\n",
      "Total params: 558,337\n",
      "Trainable params: 558,337\n",
      "Non-trainable params: 0\n",
      "_________________________________________________________________\n"
     ]
    }
   ],
   "source": [
    "from keras.models import Sequential\n",
    "\n",
    "del model\n",
    "model = Sequential()\n",
    "\n",
    "model.add(Dense(256, activation='tanh', input_shape=(X_train.shape[1],)))\n",
    "model.add(Dropout(0.3))\n",
    "model.add(Dense(512, activation='relu'))\n",
    "model.add(Dropout(0.3))\n",
    "model.add(Dense(512, activation='tanh'))\n",
    "model.add(Dropout(0.3))\n",
    "model.add(Dense(256, activation='linear'))\n",
    "model.add(Dense(1, activation='sigmoid'))\n",
    "\n",
    "model.summary()"
   ]
  },
  {
   "cell_type": "markdown",
   "metadata": {},
   "source": [
    "优化器和损失函数定义。"
   ]
  },
  {
   "cell_type": "code",
   "execution_count": 40,
   "metadata": {},
   "outputs": [],
   "source": [
    "from keras.optimizers import SGD\n",
    "\n",
    "model.compile(optimizer='adam',\n",
    "              loss='binary_crossentropy',\n",
    "              metrics=['accuracy'])"
   ]
  },
  {
   "cell_type": "markdown",
   "metadata": {},
   "source": [
    "### 3.4.4 开始训练"
   ]
  },
  {
   "cell_type": "code",
   "execution_count": 42,
   "metadata": {
    "scrolled": true
   },
   "outputs": [
    {
     "name": "stdout",
     "output_type": "stream",
     "text": [
      "Train on 3485848 samples, validate on 518735 samples\n",
      "Epoch 1/10\n",
      "3485848/3485848 [==============================] - 21s 6us/step - loss: 0.6932 - accuracy: 0.5000 - val_loss: 0.6935 - val_accuracy: 0.1600\n",
      "Epoch 2/10\n",
      "3485848/3485848 [==============================] - 20s 6us/step - loss: 0.6932 - accuracy: 0.5001 - val_loss: 0.6935 - val_accuracy: 0.1600\n",
      "Epoch 3/10\n",
      "3485848/3485848 [==============================] - 24s 7us/step - loss: 0.6932 - accuracy: 0.5002 - val_loss: 0.6925 - val_accuracy: 0.8400\n",
      "Epoch 4/10\n",
      "3485848/3485848 [==============================] - 21s 6us/step - loss: 0.6932 - accuracy: 0.5002 - val_loss: 0.6930 - val_accuracy: 0.8400\n",
      "Epoch 5/10\n",
      "3485848/3485848 [==============================] - 24s 7us/step - loss: 0.6932 - accuracy: 0.4997 - val_loss: 0.6926 - val_accuracy: 0.8400\n",
      "\n",
      "Epoch 00005: ReduceLROnPlateau reducing learning rate to 0.00010000000474974513.\n",
      "Epoch 6/10\n",
      "3485848/3485848 [==============================] - 23s 7us/step - loss: 0.6932 - accuracy: 0.5000 - val_loss: 0.6931 - val_accuracy: 0.1600\n",
      "Epoch 7/10\n",
      "2260992/3485848 [==================>...........] - ETA: 7s - loss: 0.6932 - accuracy: 0.5000"
     ]
    },
    {
     "ename": "KeyboardInterrupt",
     "evalue": "",
     "output_type": "error",
     "traceback": [
      "\u001b[0;31m---------------------------------------------------------------------------\u001b[0m",
      "\u001b[0;31mKeyboardInterrupt\u001b[0m                         Traceback (most recent call last)",
      "\u001b[0;32m<ipython-input-42-a596f9cb36a8>\u001b[0m in \u001b[0;36m<module>\u001b[0;34m\u001b[0m\n\u001b[1;32m      3\u001b[0m H = model.fit(X_resampled.values, y_resampled.values,\n\u001b[1;32m      4\u001b[0m               \u001b[0mbatch_size\u001b[0m\u001b[0;34m=\u001b[0m\u001b[0mBATCH_SIZE\u001b[0m\u001b[0;34m,\u001b[0m \u001b[0mepochs\u001b[0m\u001b[0;34m=\u001b[0m\u001b[0mEPOCHS\u001b[0m\u001b[0;34m,\u001b[0m \u001b[0mcallbacks\u001b[0m\u001b[0;34m=\u001b[0m\u001b[0mtrain_callbacks\u001b[0m\u001b[0;34m,\u001b[0m\u001b[0;34m\u001b[0m\u001b[0;34m\u001b[0m\u001b[0m\n\u001b[0;32m----> 5\u001b[0;31m               validation_data=(X_val, y_val), shuffle=True,)\n\u001b[0m",
      "\u001b[0;32m~/miniconda3/lib/python3.7/site-packages/keras/engine/training.py\u001b[0m in \u001b[0;36mfit\u001b[0;34m(self, x, y, batch_size, epochs, verbose, callbacks, validation_split, validation_data, shuffle, class_weight, sample_weight, initial_epoch, steps_per_epoch, validation_steps, validation_freq, max_queue_size, workers, use_multiprocessing, **kwargs)\u001b[0m\n\u001b[1;32m   1237\u001b[0m                                         \u001b[0msteps_per_epoch\u001b[0m\u001b[0;34m=\u001b[0m\u001b[0msteps_per_epoch\u001b[0m\u001b[0;34m,\u001b[0m\u001b[0;34m\u001b[0m\u001b[0;34m\u001b[0m\u001b[0m\n\u001b[1;32m   1238\u001b[0m                                         \u001b[0mvalidation_steps\u001b[0m\u001b[0;34m=\u001b[0m\u001b[0mvalidation_steps\u001b[0m\u001b[0;34m,\u001b[0m\u001b[0;34m\u001b[0m\u001b[0;34m\u001b[0m\u001b[0m\n\u001b[0;32m-> 1239\u001b[0;31m                                         validation_freq=validation_freq)\n\u001b[0m\u001b[1;32m   1240\u001b[0m \u001b[0;34m\u001b[0m\u001b[0m\n\u001b[1;32m   1241\u001b[0m     def evaluate(self,\n",
      "\u001b[0;32m~/miniconda3/lib/python3.7/site-packages/keras/engine/training_arrays.py\u001b[0m in \u001b[0;36mfit_loop\u001b[0;34m(model, fit_function, fit_inputs, out_labels, batch_size, epochs, verbose, callbacks, val_function, val_inputs, shuffle, initial_epoch, steps_per_epoch, validation_steps, validation_freq)\u001b[0m\n\u001b[1;32m    182\u001b[0m                         \u001b[0;31m# Do not slice the training phase flag.\u001b[0m\u001b[0;34m\u001b[0m\u001b[0;34m\u001b[0m\u001b[0;34m\u001b[0m\u001b[0m\n\u001b[1;32m    183\u001b[0m                         ins_batch = slice_arrays(\n\u001b[0;32m--> 184\u001b[0;31m                             fit_inputs[:-1], batch_ids) + [fit_inputs[-1]]\n\u001b[0m\u001b[1;32m    185\u001b[0m                     \u001b[0;32melse\u001b[0m\u001b[0;34m:\u001b[0m\u001b[0;34m\u001b[0m\u001b[0;34m\u001b[0m\u001b[0m\n\u001b[1;32m    186\u001b[0m                         \u001b[0mins_batch\u001b[0m \u001b[0;34m=\u001b[0m \u001b[0mslice_arrays\u001b[0m\u001b[0;34m(\u001b[0m\u001b[0mfit_inputs\u001b[0m\u001b[0;34m,\u001b[0m \u001b[0mbatch_ids\u001b[0m\u001b[0;34m)\u001b[0m\u001b[0;34m\u001b[0m\u001b[0;34m\u001b[0m\u001b[0m\n",
      "\u001b[0;32m~/miniconda3/lib/python3.7/site-packages/keras/utils/generic_utils.py\u001b[0m in \u001b[0;36mslice_arrays\u001b[0;34m(arrays, start, stop)\u001b[0m\n\u001b[1;32m    553\u001b[0m             \u001b[0;32mif\u001b[0m \u001b[0mhasattr\u001b[0m\u001b[0;34m(\u001b[0m\u001b[0mstart\u001b[0m\u001b[0;34m,\u001b[0m \u001b[0;34m'shape'\u001b[0m\u001b[0;34m)\u001b[0m\u001b[0;34m:\u001b[0m\u001b[0;34m\u001b[0m\u001b[0;34m\u001b[0m\u001b[0m\n\u001b[1;32m    554\u001b[0m                 \u001b[0mstart\u001b[0m \u001b[0;34m=\u001b[0m \u001b[0mstart\u001b[0m\u001b[0;34m.\u001b[0m\u001b[0mtolist\u001b[0m\u001b[0;34m(\u001b[0m\u001b[0;34m)\u001b[0m\u001b[0;34m\u001b[0m\u001b[0;34m\u001b[0m\u001b[0m\n\u001b[0;32m--> 555\u001b[0;31m             \u001b[0;32mreturn\u001b[0m \u001b[0;34m[\u001b[0m\u001b[0;32mNone\u001b[0m \u001b[0;32mif\u001b[0m \u001b[0mx\u001b[0m \u001b[0;32mis\u001b[0m \u001b[0;32mNone\u001b[0m \u001b[0;32melse\u001b[0m \u001b[0mx\u001b[0m\u001b[0;34m[\u001b[0m\u001b[0mstart\u001b[0m\u001b[0;34m]\u001b[0m \u001b[0;32mfor\u001b[0m \u001b[0mx\u001b[0m \u001b[0;32min\u001b[0m \u001b[0marrays\u001b[0m\u001b[0;34m]\u001b[0m\u001b[0;34m\u001b[0m\u001b[0;34m\u001b[0m\u001b[0m\n\u001b[0m\u001b[1;32m    556\u001b[0m         \u001b[0;32melse\u001b[0m\u001b[0;34m:\u001b[0m\u001b[0;34m\u001b[0m\u001b[0;34m\u001b[0m\u001b[0m\n\u001b[1;32m    557\u001b[0m             \u001b[0;32mreturn\u001b[0m \u001b[0;34m[\u001b[0m\u001b[0;32mNone\u001b[0m \u001b[0;32mif\u001b[0m \u001b[0mx\u001b[0m \u001b[0;32mis\u001b[0m \u001b[0;32mNone\u001b[0m \u001b[0;32melse\u001b[0m \u001b[0mx\u001b[0m\u001b[0;34m[\u001b[0m\u001b[0mstart\u001b[0m\u001b[0;34m:\u001b[0m\u001b[0mstop\u001b[0m\u001b[0;34m]\u001b[0m \u001b[0;32mfor\u001b[0m \u001b[0mx\u001b[0m \u001b[0;32min\u001b[0m \u001b[0marrays\u001b[0m\u001b[0;34m]\u001b[0m\u001b[0;34m\u001b[0m\u001b[0;34m\u001b[0m\u001b[0m\n",
      "\u001b[0;32m~/miniconda3/lib/python3.7/site-packages/keras/utils/generic_utils.py\u001b[0m in \u001b[0;36m<listcomp>\u001b[0;34m(.0)\u001b[0m\n\u001b[1;32m    553\u001b[0m             \u001b[0;32mif\u001b[0m \u001b[0mhasattr\u001b[0m\u001b[0;34m(\u001b[0m\u001b[0mstart\u001b[0m\u001b[0;34m,\u001b[0m \u001b[0;34m'shape'\u001b[0m\u001b[0;34m)\u001b[0m\u001b[0;34m:\u001b[0m\u001b[0;34m\u001b[0m\u001b[0;34m\u001b[0m\u001b[0m\n\u001b[1;32m    554\u001b[0m                 \u001b[0mstart\u001b[0m \u001b[0;34m=\u001b[0m \u001b[0mstart\u001b[0m\u001b[0;34m.\u001b[0m\u001b[0mtolist\u001b[0m\u001b[0;34m(\u001b[0m\u001b[0;34m)\u001b[0m\u001b[0;34m\u001b[0m\u001b[0;34m\u001b[0m\u001b[0m\n\u001b[0;32m--> 555\u001b[0;31m             \u001b[0;32mreturn\u001b[0m \u001b[0;34m[\u001b[0m\u001b[0;32mNone\u001b[0m \u001b[0;32mif\u001b[0m \u001b[0mx\u001b[0m \u001b[0;32mis\u001b[0m \u001b[0;32mNone\u001b[0m \u001b[0;32melse\u001b[0m \u001b[0mx\u001b[0m\u001b[0;34m[\u001b[0m\u001b[0mstart\u001b[0m\u001b[0;34m]\u001b[0m \u001b[0;32mfor\u001b[0m \u001b[0mx\u001b[0m \u001b[0;32min\u001b[0m \u001b[0marrays\u001b[0m\u001b[0;34m]\u001b[0m\u001b[0;34m\u001b[0m\u001b[0;34m\u001b[0m\u001b[0m\n\u001b[0m\u001b[1;32m    556\u001b[0m         \u001b[0;32melse\u001b[0m\u001b[0;34m:\u001b[0m\u001b[0;34m\u001b[0m\u001b[0;34m\u001b[0m\u001b[0m\n\u001b[1;32m    557\u001b[0m             \u001b[0;32mreturn\u001b[0m \u001b[0;34m[\u001b[0m\u001b[0;32mNone\u001b[0m \u001b[0;32mif\u001b[0m \u001b[0mx\u001b[0m \u001b[0;32mis\u001b[0m \u001b[0;32mNone\u001b[0m \u001b[0;32melse\u001b[0m \u001b[0mx\u001b[0m\u001b[0;34m[\u001b[0m\u001b[0mstart\u001b[0m\u001b[0;34m:\u001b[0m\u001b[0mstop\u001b[0m\u001b[0;34m]\u001b[0m \u001b[0;32mfor\u001b[0m \u001b[0mx\u001b[0m \u001b[0;32min\u001b[0m \u001b[0marrays\u001b[0m\u001b[0;34m]\u001b[0m\u001b[0;34m\u001b[0m\u001b[0;34m\u001b[0m\u001b[0m\n",
      "\u001b[0;31mKeyboardInterrupt\u001b[0m: "
     ]
    }
   ],
   "source": [
    "EPOCHS = 10\n",
    "\n",
    "H = model.fit(X_resampled.values, y_resampled.values,\n",
    "              batch_size=BATCH_SIZE, epochs=EPOCHS, callbacks=train_callbacks,\n",
    "              validation_data=(X_val, y_val), shuffle=True,)"
   ]
  },
  {
   "cell_type": "code",
   "execution_count": 58,
   "metadata": {
    "scrolled": true
   },
   "outputs": [
    {
     "data": {
      "image/png": "[encoded data removed]",
      "text/plain": [
       "<Figure size 432x288 with 1 Axes>"
      ]
     },
     "metadata": {},
     "output_type": "display_data"
    },
    {
     "data": {
      "image/png": "[encoded data removed]",
      "text/plain": [
       "<Figure size 432x288 with 1 Axes>"
      ]
     },
     "metadata": {},
     "output_type": "display_data"
    }
   ],
   "source": [
    "%matplotlib inline\n",
    "import matplotlib.pyplot as plt\n",
    "\n",
    "# 绘制结果曲线\n",
    "\n",
    "N = np.arange(0, EPOCHS)\n",
    "plt.style.use(\"ggplot\")\n",
    "plt.figure()\n",
    "plt.plot(N, H.history[\"accuracy\"], label=\"train_acc\")\n",
    "plt.plot(N, H.history[\"val_accuracy\"], label=\"val_acc\")\n",
    "plt.title(\"Training and Validation Accuracy (Resnet)\")\n",
    "plt.xlabel(\"Epoch #\")\n",
    "plt.ylabel(\"Accuracy\")\n",
    "plt.legend()\n",
    "plt.show()\n",
    "# plt.savefig('./output/simple_nn_plot_acc.png')\n",
    " \n",
    "plt.figure()\n",
    "plt.plot(N, H.history[\"loss\"], label=\"train_loss\")\n",
    "plt.plot(N, H.history[\"val_loss\"], label=\"val_loss\")\n",
    "plt.title(\"Training and Validation Loss (Resnet)\")\n",
    "plt.xlabel(\"Epoch #\")\n",
    "plt.ylabel(\"Loss\")\n",
    "plt.legend()\n",
    "plt.show()\n",
    "# plt.savefig('./output/simple_nn_plot_loss.png')"
   ]
  },
  {
   "cell_type": "markdown",
   "metadata": {},
   "source": [
    "# 4 计算结果"
   ]
  },
  {
   "cell_type": "code",
   "execution_count": 25,
   "metadata": {},
   "outputs": [],
   "source": [
    "# 恢复数据\n",
    "test = read_param('test')"
   ]
  },
  {
   "cell_type": "markdown",
   "metadata": {},
   "source": [
    "## 4.1 LGBM结果"
   ]
  },
  {
   "cell_type": "code",
   "execution_count": 26,
   "metadata": {},
   "outputs": [],
   "source": [
    "sub['label'] = model_lgb.predict_proba(test[feature_cols])[:, 1]"
   ]
  },
  {
   "cell_type": "code",
   "execution_count": 27,
   "metadata": {},
   "outputs": [],
   "source": [
    "sub.to_csv('./storage/result.txt', index=None, header=None, sep='\\t')"
   ]
  },
  {
   "cell_type": "markdown",
   "metadata": {},
   "source": [
    "## 4.2 神经网络结果"
   ]
  },
  {
   "cell_type": "code",
   "execution_count": 37,
   "metadata": {},
   "outputs": [
    {
     "data": {
      "text/plain": [
       "array([[0.51117074],\n",
       "       [0.51117074],\n",
       "       [0.51117074],\n",
       "       ...,\n",
       "       [0.5111708 ],\n",
       "       [0.5111708 ],\n",
       "       [0.5111708 ]], dtype=float32)"
      ]
     },
     "execution_count": 37,
     "metadata": {},
     "output_type": "execute_result"
    }
   ],
   "source": [
    "res = model.predict(test[feature_cols], batch_size=BATCH_SIZE)\n",
    "res"
   ]
  },
  {
   "cell_type": "code",
   "execution_count": 87,
   "metadata": {},
   "outputs": [
    {
     "data": {
      "text/html": [
       "<div>\n",
       "<style scoped>\n",
       "    .dataframe tbody tr th:only-of-type {\n",
       "        vertical-align: middle;\n",
       "    }\n",
       "\n",
       "    .dataframe tbody tr th {\n",
       "        vertical-align: top;\n",
       "    }\n",
       "\n",
       "    .dataframe thead th {\n",
       "        text-align: right;\n",
       "    }\n",
       "</style>\n",
       "<table border=\"1\" class=\"dataframe\">\n",
       "  <thead>\n",
       "    <tr style=\"text-align: right;\">\n",
       "      <th></th>\n",
       "      <th>freq</th>\n",
       "      <th>freq_count</th>\n",
       "      <th>gender</th>\n",
       "      <th>gender_count</th>\n",
       "      <th>hour</th>\n",
       "      <th>q_ans_count</th>\n",
       "      <th>q_diff_qa_days_max</th>\n",
       "      <th>q_diff_qa_days_mean</th>\n",
       "      <th>q_diff_qa_days_sum</th>\n",
       "      <th>q_has_img_max</th>\n",
       "      <th>...</th>\n",
       "      <th>uf_c2_count</th>\n",
       "      <th>uf_c3</th>\n",
       "      <th>uf_c3_count</th>\n",
       "      <th>uf_c4</th>\n",
       "      <th>uf_c4_count</th>\n",
       "      <th>uf_c5</th>\n",
       "      <th>uf_c5_count</th>\n",
       "      <th>uid_enc</th>\n",
       "      <th>uid_enc_count</th>\n",
       "      <th>wk</th>\n",
       "    </tr>\n",
       "  </thead>\n",
       "  <tbody>\n",
       "    <tr>\n",
       "      <th>0</th>\n",
       "      <td>6</td>\n",
       "      <td>0.325453</td>\n",
       "      <td>4</td>\n",
       "      <td>0.0000</td>\n",
       "      <td>9</td>\n",
       "      <td>NaN</td>\n",
       "      <td>NaN</td>\n",
       "      <td>NaN</td>\n",
       "      <td>NaN</td>\n",
       "      <td>NaN</td>\n",
       "      <td>...</td>\n",
       "      <td>0.439214</td>\n",
       "      <td>203</td>\n",
       "      <td>0.479449</td>\n",
       "      <td>1376</td>\n",
       "      <td>0.000038</td>\n",
       "      <td>3</td>\n",
       "      <td>0.346068</td>\n",
       "      <td>1752473</td>\n",
       "      <td>0.000000</td>\n",
       "      <td>6</td>\n",
       "    </tr>\n",
       "    <tr>\n",
       "      <th>1</th>\n",
       "      <td>2</td>\n",
       "      <td>0.726702</td>\n",
       "      <td>4</td>\n",
       "      <td>0.0000</td>\n",
       "      <td>22</td>\n",
       "      <td>NaN</td>\n",
       "      <td>NaN</td>\n",
       "      <td>NaN</td>\n",
       "      <td>NaN</td>\n",
       "      <td>NaN</td>\n",
       "      <td>...</td>\n",
       "      <td>0.439214</td>\n",
       "      <td>396</td>\n",
       "      <td>0.456703</td>\n",
       "      <td>521</td>\n",
       "      <td>0.008534</td>\n",
       "      <td>3</td>\n",
       "      <td>0.346068</td>\n",
       "      <td>767938</td>\n",
       "      <td>0.000000</td>\n",
       "      <td>1</td>\n",
       "    </tr>\n",
       "    <tr>\n",
       "      <th>2</th>\n",
       "      <td>6</td>\n",
       "      <td>0.325453</td>\n",
       "      <td>2</td>\n",
       "      <td>0.4874</td>\n",
       "      <td>15</td>\n",
       "      <td>NaN</td>\n",
       "      <td>NaN</td>\n",
       "      <td>NaN</td>\n",
       "      <td>NaN</td>\n",
       "      <td>NaN</td>\n",
       "      <td>...</td>\n",
       "      <td>0.439214</td>\n",
       "      <td>205</td>\n",
       "      <td>0.083870</td>\n",
       "      <td>445</td>\n",
       "      <td>0.007599</td>\n",
       "      <td>3</td>\n",
       "      <td>0.346068</td>\n",
       "      <td>1147981</td>\n",
       "      <td>0.000009</td>\n",
       "      <td>3</td>\n",
       "    </tr>\n",
       "    <tr>\n",
       "      <th>3</th>\n",
       "      <td>5</td>\n",
       "      <td>1.000000</td>\n",
       "      <td>3</td>\n",
       "      <td>1.0000</td>\n",
       "      <td>4</td>\n",
       "      <td>4.0</td>\n",
       "      <td>11.0</td>\n",
       "      <td>3.0</td>\n",
       "      <td>12.0</td>\n",
       "      <td>0.0</td>\n",
       "      <td>...</td>\n",
       "      <td>0.439214</td>\n",
       "      <td>188</td>\n",
       "      <td>0.114102</td>\n",
       "      <td>1038</td>\n",
       "      <td>0.001950</td>\n",
       "      <td>2</td>\n",
       "      <td>1.000000</td>\n",
       "      <td>1372679</td>\n",
       "      <td>0.000015</td>\n",
       "      <td>2</td>\n",
       "    </tr>\n",
       "    <tr>\n",
       "      <th>4</th>\n",
       "      <td>6</td>\n",
       "      <td>0.325453</td>\n",
       "      <td>2</td>\n",
       "      <td>0.4874</td>\n",
       "      <td>19</td>\n",
       "      <td>NaN</td>\n",
       "      <td>NaN</td>\n",
       "      <td>NaN</td>\n",
       "      <td>NaN</td>\n",
       "      <td>NaN</td>\n",
       "      <td>...</td>\n",
       "      <td>0.168475</td>\n",
       "      <td>336</td>\n",
       "      <td>0.137013</td>\n",
       "      <td>788</td>\n",
       "      <td>0.001688</td>\n",
       "      <td>3</td>\n",
       "      <td>0.346068</td>\n",
       "      <td>1</td>\n",
       "      <td>0.297591</td>\n",
       "      <td>1</td>\n",
       "    </tr>\n",
       "    <tr>\n",
       "      <th>...</th>\n",
       "      <td>...</td>\n",
       "      <td>...</td>\n",
       "      <td>...</td>\n",
       "      <td>...</td>\n",
       "      <td>...</td>\n",
       "      <td>...</td>\n",
       "      <td>...</td>\n",
       "      <td>...</td>\n",
       "      <td>...</td>\n",
       "      <td>...</td>\n",
       "      <td>...</td>\n",
       "      <td>...</td>\n",
       "      <td>...</td>\n",
       "      <td>...</td>\n",
       "      <td>...</td>\n",
       "      <td>...</td>\n",
       "      <td>...</td>\n",
       "      <td>...</td>\n",
       "      <td>...</td>\n",
       "      <td>...</td>\n",
       "      <td>...</td>\n",
       "    </tr>\n",
       "    <tr>\n",
       "      <th>1141678</th>\n",
       "      <td>6</td>\n",
       "      <td>0.325453</td>\n",
       "      <td>4</td>\n",
       "      <td>0.0000</td>\n",
       "      <td>20</td>\n",
       "      <td>NaN</td>\n",
       "      <td>NaN</td>\n",
       "      <td>NaN</td>\n",
       "      <td>NaN</td>\n",
       "      <td>NaN</td>\n",
       "      <td>...</td>\n",
       "      <td>0.168475</td>\n",
       "      <td>81</td>\n",
       "      <td>0.020067</td>\n",
       "      <td>760</td>\n",
       "      <td>0.434533</td>\n",
       "      <td>3</td>\n",
       "      <td>0.346068</td>\n",
       "      <td>504330</td>\n",
       "      <td>0.000000</td>\n",
       "      <td>5</td>\n",
       "    </tr>\n",
       "    <tr>\n",
       "      <th>1141679</th>\n",
       "      <td>3</td>\n",
       "      <td>0.118357</td>\n",
       "      <td>4</td>\n",
       "      <td>0.0000</td>\n",
       "      <td>21</td>\n",
       "      <td>NaN</td>\n",
       "      <td>NaN</td>\n",
       "      <td>NaN</td>\n",
       "      <td>NaN</td>\n",
       "      <td>NaN</td>\n",
       "      <td>...</td>\n",
       "      <td>0.439214</td>\n",
       "      <td>121</td>\n",
       "      <td>0.094249</td>\n",
       "      <td>760</td>\n",
       "      <td>0.434533</td>\n",
       "      <td>3</td>\n",
       "      <td>0.346068</td>\n",
       "      <td>1066119</td>\n",
       "      <td>0.000003</td>\n",
       "      <td>1</td>\n",
       "    </tr>\n",
       "    <tr>\n",
       "      <th>1141680</th>\n",
       "      <td>2</td>\n",
       "      <td>0.726702</td>\n",
       "      <td>4</td>\n",
       "      <td>0.0000</td>\n",
       "      <td>15</td>\n",
       "      <td>NaN</td>\n",
       "      <td>NaN</td>\n",
       "      <td>NaN</td>\n",
       "      <td>NaN</td>\n",
       "      <td>NaN</td>\n",
       "      <td>...</td>\n",
       "      <td>0.001308</td>\n",
       "      <td>313</td>\n",
       "      <td>0.056923</td>\n",
       "      <td>760</td>\n",
       "      <td>0.434533</td>\n",
       "      <td>3</td>\n",
       "      <td>0.346068</td>\n",
       "      <td>435862</td>\n",
       "      <td>0.000000</td>\n",
       "      <td>0</td>\n",
       "    </tr>\n",
       "    <tr>\n",
       "      <th>1141681</th>\n",
       "      <td>6</td>\n",
       "      <td>0.325453</td>\n",
       "      <td>4</td>\n",
       "      <td>0.0000</td>\n",
       "      <td>8</td>\n",
       "      <td>NaN</td>\n",
       "      <td>NaN</td>\n",
       "      <td>NaN</td>\n",
       "      <td>NaN</td>\n",
       "      <td>NaN</td>\n",
       "      <td>...</td>\n",
       "      <td>0.439214</td>\n",
       "      <td>8</td>\n",
       "      <td>0.442846</td>\n",
       "      <td>1375</td>\n",
       "      <td>0.031122</td>\n",
       "      <td>3</td>\n",
       "      <td>0.346068</td>\n",
       "      <td>1287652</td>\n",
       "      <td>0.000015</td>\n",
       "      <td>0</td>\n",
       "    </tr>\n",
       "    <tr>\n",
       "      <th>1141682</th>\n",
       "      <td>2</td>\n",
       "      <td>0.726702</td>\n",
       "      <td>3</td>\n",
       "      <td>1.0000</td>\n",
       "      <td>9</td>\n",
       "      <td>NaN</td>\n",
       "      <td>NaN</td>\n",
       "      <td>NaN</td>\n",
       "      <td>NaN</td>\n",
       "      <td>NaN</td>\n",
       "      <td>...</td>\n",
       "      <td>0.439214</td>\n",
       "      <td>8</td>\n",
       "      <td>0.442846</td>\n",
       "      <td>1132</td>\n",
       "      <td>0.029313</td>\n",
       "      <td>3</td>\n",
       "      <td>0.346068</td>\n",
       "      <td>1084781</td>\n",
       "      <td>0.000018</td>\n",
       "      <td>2</td>\n",
       "    </tr>\n",
       "  </tbody>\n",
       "</table>\n",
       "<p>1141683 rows × 126 columns</p>\n",
       "</div>"
      ],
      "text/plain": [
       "         freq  freq_count  gender  gender_count  hour  q_ans_count  \\\n",
       "0           6    0.325453       4        0.0000     9          NaN   \n",
       "1           2    0.726702       4        0.0000    22          NaN   \n",
       "2           6    0.325453       2        0.4874    15          NaN   \n",
       "3           5    1.000000       3        1.0000     4          4.0   \n",
       "4           6    0.325453       2        0.4874    19          NaN   \n",
       "...       ...         ...     ...           ...   ...          ...   \n",
       "1141678     6    0.325453       4        0.0000    20          NaN   \n",
       "1141679     3    0.118357       4        0.0000    21          NaN   \n",
       "1141680     2    0.726702       4        0.0000    15          NaN   \n",
       "1141681     6    0.325453       4        0.0000     8          NaN   \n",
       "1141682     2    0.726702       3        1.0000     9          NaN   \n",
       "\n",
       "         q_diff_qa_days_max  q_diff_qa_days_mean  q_diff_qa_days_sum  \\\n",
       "0                       NaN                  NaN                 NaN   \n",
       "1                       NaN                  NaN                 NaN   \n",
       "2                       NaN                  NaN                 NaN   \n",
       "3                      11.0                  3.0                12.0   \n",
       "4                       NaN                  NaN                 NaN   \n",
       "...                     ...                  ...                 ...   \n",
       "1141678                 NaN                  NaN                 NaN   \n",
       "1141679                 NaN                  NaN                 NaN   \n",
       "1141680                 NaN                  NaN                 NaN   \n",
       "1141681                 NaN                  NaN                 NaN   \n",
       "1141682                 NaN                  NaN                 NaN   \n",
       "\n",
       "         q_has_img_max  ...  uf_c2_count  uf_c3  uf_c3_count  uf_c4  \\\n",
       "0                  NaN  ...     0.439214    203     0.479449   1376   \n",
       "1                  NaN  ...     0.439214    396     0.456703    521   \n",
       "2                  NaN  ...     0.439214    205     0.083870    445   \n",
       "3                  0.0  ...     0.439214    188     0.114102   1038   \n",
       "4                  NaN  ...     0.168475    336     0.137013    788   \n",
       "...                ...  ...          ...    ...          ...    ...   \n",
       "1141678            NaN  ...     0.168475     81     0.020067    760   \n",
       "1141679            NaN  ...     0.439214    121     0.094249    760   \n",
       "1141680            NaN  ...     0.001308    313     0.056923    760   \n",
       "1141681            NaN  ...     0.439214      8     0.442846   1375   \n",
       "1141682            NaN  ...     0.439214      8     0.442846   1132   \n",
       "\n",
       "         uf_c4_count  uf_c5  uf_c5_count  uid_enc  uid_enc_count  wk  \n",
       "0           0.000038      3     0.346068  1752473       0.000000   6  \n",
       "1           0.008534      3     0.346068   767938       0.000000   1  \n",
       "2           0.007599      3     0.346068  1147981       0.000009   3  \n",
       "3           0.001950      2     1.000000  1372679       0.000015   2  \n",
       "4           0.001688      3     0.346068        1       0.297591   1  \n",
       "...              ...    ...          ...      ...            ...  ..  \n",
       "1141678     0.434533      3     0.346068   504330       0.000000   5  \n",
       "1141679     0.434533      3     0.346068  1066119       0.000003   1  \n",
       "1141680     0.434533      3     0.346068   435862       0.000000   0  \n",
       "1141681     0.031122      3     0.346068  1287652       0.000015   0  \n",
       "1141682     0.029313      3     0.346068  1084781       0.000018   2  \n",
       "\n",
       "[1141683 rows x 126 columns]"
      ]
     },
     "execution_count": 87,
     "metadata": {},
     "output_type": "execute_result"
    }
   ],
   "source": [
    "test[feature_cols]"
   ]
  },
  {
   "cell_type": "code",
   "execution_count": null,
   "metadata": {},
   "outputs": [],
   "source": []
  }
 ],
 "metadata": {
  "kernelspec": {
   "display_name": "Python 3",
   "language": "python",
   "name": "python3"
  },
  "language_info": {
   "codemirror_mode": {
    "name": "ipython",
    "version": 3
   },
   "file_extension": ".py",
   "mimetype": "text/x-python",
   "name": "python",
   "nbconvert_exporter": "python",
   "pygments_lexer": "ipython3",
   "version": "3.7.4"
  }
 },
 "nbformat": 4,
 "nbformat_minor": 2
}
