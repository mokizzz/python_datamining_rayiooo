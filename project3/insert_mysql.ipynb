{
 "cells": [
  {
   "cell_type": "code",
   "execution_count": 2,
   "metadata": {},
   "outputs": [
    {
     "name": "stdout",
     "output_type": "stream",
     "text": [
      "F:\\Codes\\Datasets\\190829_Kanshan_zjfx\n"
     ]
    }
   ],
   "source": [
    "cd ../../../Datasets/190829_Kanshan_zjfx"
   ]
  },
  {
   "cell_type": "code",
   "execution_count": 3,
   "metadata": {},
   "outputs": [],
   "source": [
    "import pymysql"
   ]
  },
  {
   "cell_type": "code",
   "execution_count": 4,
   "metadata": {},
   "outputs": [],
   "source": [
    "class DB():\n",
    "    def __init__(self, host='localhost', port=3306, db='', user='root', passwd='123456', charset='utf8'):\n",
    "        self.conn = pymysql.connect(host=host, port=port, db=db, user=user, passwd=passwd, charset=charset)   \n",
    "        self.cur = self.conn.cursor(cursor = pymysql.cursors.DictCursor)\n",
    "\n",
    "    def __enter__(self): \n",
    "        return self.cur\n",
    "\n",
    "    def __exit__(self, exc_type, exc_val, exc_tb):\n",
    "        self.conn.commit()\n",
    "        self.cur.close()\n",
    "        self.conn.close()"
   ]
  },
  {
   "cell_type": "code",
   "execution_count": 5,
   "metadata": {},
   "outputs": [
    {
     "name": "stdout",
     "output_type": "stream",
     "text": [
      "file opening...\n"
     ]
    },
    {
     "data": {
      "text/plain": [
       "'ok'"
      ]
     },
     "execution_count": 5,
     "metadata": {},
     "output_type": "execute_result"
    }
   ],
   "source": [
    "print('file opening...')\n",
    "f = open('answer_info_0926.txt', 'r')\n",
    "f = f.readlines()\n",
    "'ok'"
   ]
  },
  {
   "cell_type": "code",
   "execution_count": 8,
   "metadata": {},
   "outputs": [
    {
     "name": "stderr",
     "output_type": "stream",
     "text": [
      "100%|██████████| 4513735/4513735 [09:41<00:00, 7763.51it/s]\n"
     ]
    }
   ],
   "source": [
    "from tqdm import tqdm\n",
    "\n",
    "with DB(db='zhihu2019_dataset') as db:\n",
    "    sql_base = \"\"\"INSERT INTO answer_info_0926(回答ID, 问题ID, 作者ID,\n",
    "         回答创建时间, 回答内容单字编码, 回答内容切词编码,\n",
    "         回答是否被标为优秀回答, 回答是否被推荐, 回答是否被收入圆桌,\n",
    "         回答是否包含图片, 回答是否包含视频, 回答的内容字数,\n",
    "         回答收到的点赞数, 回答收到的取赞数, 回答收到的评论数,\n",
    "         回答收藏数, 回答收到的感谢数, 回答收到的被举报数,\n",
    "         回答收到的没有帮助数, 回答收到的反对数) \n",
    "         VALUES('%s', '%s', '%s', '%s', '%s', '%s', '%s', '%s', '%s', '%s', \n",
    "         '%s', '%s', '%s', '%s', '%s', '%s', '%s', '%s', '%s', '%s')\"\"\"\n",
    "    with tqdm(total=len(f)) as pbar:\n",
    "        for line in f:\n",
    "            s = line.split('\\t')\n",
    "            sql = sql_base % (s[0], s[1], s[2], s[3], s[4],\n",
    "                              s[5], s[6], s[7], s[8], s[9],\n",
    "                              s[10], s[11], s[12], s[13], s[14],\n",
    "                              s[15], s[16], s[17], s[18], s[19])\n",
    "            db.execute(sql)\n",
    "            pbar.update(1)"
   ]
  },
  {
   "cell_type": "code",
   "execution_count": null,
   "metadata": {},
   "outputs": [],
   "source": []
  }
 ],
 "metadata": {
  "kernelspec": {
   "display_name": "Python 3",
   "language": "python",
   "name": "python3"
  },
  "language_info": {
   "codemirror_mode": {
    "name": "ipython",
    "version": 3
   },
   "file_extension": ".py",
   "mimetype": "text/x-python",
   "name": "python",
   "nbconvert_exporter": "python",
   "pygments_lexer": "ipython3",
   "version": "3.7.3"
  }
 },
 "nbformat": 4,
 "nbformat_minor": 2
}
