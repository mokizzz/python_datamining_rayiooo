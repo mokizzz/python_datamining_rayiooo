{
 "cells": [
  {
   "cell_type": "code",
   "execution_count": 4,
   "metadata": {},
   "outputs": [
    {
     "name": "stdout",
     "output_type": "stream",
     "text": [
      "E:\\Codes\\Datasets\\190829_Kanshan_zjfx\n"
     ]
    }
   ],
   "source": [
    "cd ../../../Datasets/190829_Kanshan_zjfx"
   ]
  },
  {
   "cell_type": "code",
   "execution_count": 5,
   "metadata": {},
   "outputs": [
    {
     "name": "stdout",
     "output_type": "stream",
     "text": [
      " 驱动器 E 中的卷是 新加卷\n",
      " 卷的序列号是 E481-80D4\n",
      "\n",
      " E:\\Codes\\Datasets\\190829_Kanshan_zjfx 的目录\n",
      "\n",
      "2019/10/21  19:32    <DIR>          .\n",
      "2019/10/21  19:32    <DIR>          ..\n",
      "2019/09/26  19:08     5,805,965,112 answer_info_0926.txt\n",
      "2019/09/26  18:10       333,836,065 invite_info_0926.txt\n",
      "2019/09/28  12:14        37,860,903 invite_info_evaluate_1_0926.txt\n",
      "2019/09/26  17:12       552,574,982 member_info_0926.txt\n",
      "2019/09/26  18:01     1,074,273,891 question_info_0926.txt\n",
      "2019/10/21  18:56    <DIR>          sample\n",
      "2019/08/05  17:19        15,951,125 single_word_vectors_64d.txt\n",
      "2019/08/05  17:20        69,411,196 topic_vectors_64d.txt\n",
      "2019/08/05  17:19     1,230,810,962 word_vectors_64d.txt\n",
      "               8 个文件  9,120,684,236 字节\n",
      "               3 个目录 740,013,608,960 可用字节\n"
     ]
    }
   ],
   "source": [
    "ls"
   ]
  },
  {
   "cell_type": "markdown",
   "metadata": {},
   "source": [
    "## 0.1 超参数"
   ]
  },
  {
   "cell_type": "code",
   "execution_count": 1,
   "metadata": {},
   "outputs": [
    {
     "data": {
      "text/plain": [
       "device(type='cuda')"
      ]
     },
     "execution_count": 1,
     "metadata": {},
     "output_type": "execute_result"
    }
   ],
   "source": [
    "import torch\n",
    "\n",
    "BATCH_SIZE = 8192\n",
    "EPOCH = 32\n",
    "LR = 0.01\n",
    "TRAIN_ALL = False\n",
    "\n",
    "PKL_DIR_READ = '../../Jupyter/190919_DataMiningHW/project3/storage/train_param.pkl'\n",
    "PKL_DIR_OUT = '../../Jupyter/190919_DataMiningHW/project3/storage/train_param.pkl'\n",
    "\n",
    "DEVICE = torch.device('cuda') if torch.cuda.is_available() else torch.device('cpu')\n",
    "DEVICE"
   ]
  },
  {
   "cell_type": "markdown",
   "metadata": {},
   "source": [
    "## 0.2 数据分析"
   ]
  },
  {
   "cell_type": "code",
   "execution_count": 3,
   "metadata": {},
   "outputs": [
    {
     "name": "stdout",
     "output_type": "stream",
     "text": [
      "每列类别数：\n",
      "用户id 1931654\n",
      "性别 3\n",
      "创作关键词 1\n",
      "创作数量等级 1\n",
      "创作热度等级 1\n",
      "注册类型 1\n",
      "注册平台 1\n",
      "访问评率 5\n",
      "用户二分类特征a 2\n",
      "用户二分类特征b 2\n",
      "用户二分类特征c 2\n",
      "用户二分类特征d 2\n",
      "用户二分类特征e 2\n",
      "用户多分类特征a 2561\n",
      "用户多分类特征b 291\n",
      "用户多分类特征c 428\n",
      "用户多分类特征d 1556\n",
      "用户多分类特征e 2\n",
      "盐值 732\n",
      "关注话题 1301436\n",
      "感兴趣话题 1399721\n"
     ]
    }
   ],
   "source": [
    "import pandas as pd\n",
    "user_info = pd.read_csv('member_info_0926.txt', header=None, sep='\\t')\n",
    "user_info.columns = ['用户id','性别','创作关键词','创作数量等级','创作热度等级','注册类型','注册平台','访问评率','用户二分类特征a','用户二分类特征b','用户二分类特征c','用户二分类特征d','用户二分类特征e','用户多分类特征a','用户多分类特征b','用户多分类特征c','用户多分类特征d','用户多分类特征e','盐值','关注话题','感兴趣话题']\n",
    "print('每列类别数：')\n",
    "for col in user_info.columns:\n",
    "    print(col, len(user_info[col].unique()))"
   ]
  },
  {
   "cell_type": "code",
   "execution_count": 4,
   "metadata": {
    "scrolled": true
   },
   "outputs": [
    {
     "name": "stdout",
     "output_type": "stream",
     "text": [
      "每列类别数：\n",
      "问题id 1829900\n",
      "问题创建时间 54617\n",
      "问题标题单字编码 1828611\n",
      "问题标题切词编码 1786981\n",
      "问题描述单字编码 831554\n",
      "问题描述切词编码 816606\n",
      "问题绑定话题 1166444\n"
     ]
    }
   ],
   "source": [
    "question_info = pd.read_csv('question_info_0926.txt', header=None, sep='\\t')\n",
    "question_info.columns = ['问题id','问题创建时间','问题标题单字编码','问题标题切词编码','问题描述单字编码','问题描述切词编码','问题绑定话题']\n",
    "print('每列类别数：')\n",
    "for col in question_info.columns:\n",
    "    print(col, len(question_info[col].unique()))"
   ]
  },
  {
   "cell_type": "markdown",
   "metadata": {},
   "source": [
    "## 1.1 加载数据集"
   ]
  },
  {
   "cell_type": "code",
   "execution_count": 4,
   "metadata": {},
   "outputs": [
    {
     "name": "stdout",
     "output_type": "stream",
     "text": [
      "ok\n"
     ]
    }
   ],
   "source": [
    "import pandas as pd\n",
    "\n",
    "# 导入数据\n",
    "user_info = pd.read_csv('member_info_0926.txt', header=None, sep='\\t')\n",
    "question_info = pd.read_csv('question_info_0926.txt', header=None, sep='\\t')\n",
    "train = pd.read_csv('invite_info_0926.txt', header=None, sep='\\t')\n",
    "test = pd.read_csv('invite_info_evaluate_1_0926.txt', header=None, sep='\\t')\n",
    "\n",
    "user_info.columns = ['用户id','性别','创作关键词','创作数量等级','创作热度等级',\n",
    "                     '注册类型','注册平台','访问评率','用户二分类特征a',\n",
    "                     '用户二分类特征b','用户二分类特征c','用户二分类特征d',\n",
    "                     '用户二分类特征e','用户多分类特征a','用户多分类特征b',\n",
    "                     '用户多分类特征c','用户多分类特征d','用户多分类特征e',\n",
    "                     '盐值','关注话题','感兴趣话题']\n",
    "user_info  = user_info.drop(['创作关键词','创作数量等级','创作热度等级',\n",
    "                             '注册类型','注册平台'], axis=1)\n",
    "question_info.columns = ['问题id','问题创建时间','问题标题单字编码',\n",
    "                         '问题标题切词编码','问题描述单字编码',\n",
    "                         '问题描述切词编码','问题绑定话题']\n",
    "\n",
    "train.columns = ['问题id', '用户id', '邀请创建时间','是否回答']\n",
    "train = pd.merge(train, user_info, how='left', on='用户id')\n",
    "train = pd.merge(train, question_info, how='left', on='问题id')\n",
    "\n",
    "test.columns = ['问题id', '用户id', '邀请创建时间']\n",
    "test = pd.merge(test, user_info, how='left', on='用户id')\n",
    "test = pd.merge(test, question_info, how='left', on='问题id')\n",
    "\n",
    "print('ok')"
   ]
  },
  {
   "cell_type": "code",
   "execution_count": 6,
   "metadata": {},
   "outputs": [
    {
     "name": "stdout",
     "output_type": "stream",
     "text": [
      "Index(['性别', '是否回答', '用户id', '用户二分类特征a', '用户二分类特征b', '用户二分类特征c', '用户二分类特征d',\n",
      "       '用户二分类特征e', '用户多分类特征a', '用户多分类特征b', '用户多分类特征c', '用户多分类特征d', '用户多分类特征e',\n",
      "       '盐值', '访问评率', '问题id', '邀请问题间隔-day', '关注话题命中数'],\n",
      "      dtype='object')\n"
     ]
    }
   ],
   "source": [
    "# 数据合并\n",
    "data = pd.concat([train, test], axis=0, sort=True)\n",
    "\n",
    "# 用于保存提交结果\n",
    "result_append = data[['问题id', '用户id', '邀请创建时间']][train.shape[0]:]\n",
    "\n",
    "# 数据处理\n",
    "data['邀请创建时间-day'] = data['邀请创建时间'].apply(lambda x:x.split('-')[0].split('D')[1])\n",
    "data['邀请创建时间-hour'] = data['邀请创建时间'].apply(lambda x:x.split('-')[1].split('H')[1])\n",
    "data['问题创建时间-day'] = data['问题创建时间'].apply(lambda x:x.split('-')[0].split('D')[1])\n",
    "data['问题创建时间-hour'] = data['问题创建时间'].apply(lambda x:x.split('-')[1].split('H')[1])\n",
    "\n",
    "data['邀请问题间隔-day'] = data['邀请创建时间-day'].astype('int') - data['问题创建时间-day'].astype('int')\n",
    "\n",
    "data['关注话题命中数'] = data['关注话题'] + ',' + data['问题绑定话题']\n",
    "data['关注话题命中数'] = data['关注话题命中数'].apply(lambda x: len(x.split(',')) - len(set(x.split(','))))\n",
    "\n",
    "# 删除的特征并非不重要，相反这部分的数据很重要，如何处理这部分特征有很大的发挥空间，本baseline不涉及这些特征。\n",
    "drop_feat = ['问题标题单字编码','问题标题切词编码','问题描述单字编码',\n",
    "             '问题描述切词编码','问题绑定话题', '关注话题','感兴趣话题',\n",
    "             '问题创建时间','邀请创建时间', '邀请创建时间-day','邀请创建时间-hour',\n",
    "             '问题创建时间-day','问题创建时间-hour']\n",
    "data  = data.drop(drop_feat, axis=1)\n",
    "\n",
    "print(data.columns)"
   ]
  },
  {
   "cell_type": "markdown",
   "metadata": {},
   "source": [
    "## 1.2 处理数据集"
   ]
  },
  {
   "cell_type": "markdown",
   "metadata": {},
   "source": [
    "离散特征的`LabelEncoder`编码。"
   ]
  },
  {
   "cell_type": "code",
   "execution_count": 7,
   "metadata": {},
   "outputs": [
    {
     "data": {
      "text/html": [
       "<div>\n",
       "<style scoped>\n",
       "    .dataframe tbody tr th:only-of-type {\n",
       "        vertical-align: middle;\n",
       "    }\n",
       "\n",
       "    .dataframe tbody tr th {\n",
       "        vertical-align: top;\n",
       "    }\n",
       "\n",
       "    .dataframe thead th {\n",
       "        text-align: right;\n",
       "    }\n",
       "</style>\n",
       "<table border=\"1\" class=\"dataframe\">\n",
       "  <thead>\n",
       "    <tr style=\"text-align: right;\">\n",
       "      <th></th>\n",
       "      <th>性别</th>\n",
       "      <th>是否回答</th>\n",
       "      <th>用户id</th>\n",
       "      <th>用户二分类特征a</th>\n",
       "      <th>用户二分类特征b</th>\n",
       "      <th>用户二分类特征c</th>\n",
       "      <th>用户二分类特征d</th>\n",
       "      <th>用户二分类特征e</th>\n",
       "      <th>用户多分类特征a</th>\n",
       "      <th>用户多分类特征b</th>\n",
       "      <th>用户多分类特征c</th>\n",
       "      <th>用户多分类特征d</th>\n",
       "      <th>用户多分类特征e</th>\n",
       "      <th>盐值</th>\n",
       "      <th>访问评率</th>\n",
       "      <th>问题id</th>\n",
       "      <th>邀请问题间隔-day</th>\n",
       "      <th>关注话题命中数</th>\n",
       "    </tr>\n",
       "  </thead>\n",
       "  <tbody>\n",
       "    <tr>\n",
       "      <td>0</td>\n",
       "      <td>2</td>\n",
       "      <td>0.0</td>\n",
       "      <td>1107636</td>\n",
       "      <td>-1.404297</td>\n",
       "      <td>1.532980</td>\n",
       "      <td>-0.201699</td>\n",
       "      <td>-0.591583</td>\n",
       "      <td>-0.283857</td>\n",
       "      <td>1917</td>\n",
       "      <td>170</td>\n",
       "      <td>244</td>\n",
       "      <td>799</td>\n",
       "      <td>0.343009</td>\n",
       "      <td>-1.133318</td>\n",
       "      <td>1.161576</td>\n",
       "      <td>327358</td>\n",
       "      <td>-0.147008</td>\n",
       "      <td>1.313411</td>\n",
       "    </tr>\n",
       "    <tr>\n",
       "      <td>1</td>\n",
       "      <td>2</td>\n",
       "      <td>0.0</td>\n",
       "      <td>879057</td>\n",
       "      <td>0.712100</td>\n",
       "      <td>-0.652324</td>\n",
       "      <td>-0.201699</td>\n",
       "      <td>-0.591583</td>\n",
       "      <td>-0.283857</td>\n",
       "      <td>1092</td>\n",
       "      <td>115</td>\n",
       "      <td>249</td>\n",
       "      <td>657</td>\n",
       "      <td>-2.915374</td>\n",
       "      <td>-1.036384</td>\n",
       "      <td>-0.456167</td>\n",
       "      <td>154388</td>\n",
       "      <td>-0.035249</td>\n",
       "      <td>-0.438016</td>\n",
       "    </tr>\n",
       "    <tr>\n",
       "      <td>2</td>\n",
       "      <td>2</td>\n",
       "      <td>0.0</td>\n",
       "      <td>483320</td>\n",
       "      <td>0.712100</td>\n",
       "      <td>-0.652324</td>\n",
       "      <td>-0.201699</td>\n",
       "      <td>-0.591583</td>\n",
       "      <td>-0.283857</td>\n",
       "      <td>1380</td>\n",
       "      <td>206</td>\n",
       "      <td>0</td>\n",
       "      <td>440</td>\n",
       "      <td>0.343009</td>\n",
       "      <td>-0.093474</td>\n",
       "      <td>1.161576</td>\n",
       "      <td>972853</td>\n",
       "      <td>-0.166730</td>\n",
       "      <td>-0.438016</td>\n",
       "    </tr>\n",
       "    <tr>\n",
       "      <td>3</td>\n",
       "      <td>2</td>\n",
       "      <td>0.0</td>\n",
       "      <td>226818</td>\n",
       "      <td>0.712100</td>\n",
       "      <td>-0.652324</td>\n",
       "      <td>-0.201699</td>\n",
       "      <td>1.690380</td>\n",
       "      <td>-0.283857</td>\n",
       "      <td>1092</td>\n",
       "      <td>115</td>\n",
       "      <td>244</td>\n",
       "      <td>799</td>\n",
       "      <td>0.343009</td>\n",
       "      <td>-1.062820</td>\n",
       "      <td>-0.995415</td>\n",
       "      <td>379015</td>\n",
       "      <td>-0.160156</td>\n",
       "      <td>-0.438016</td>\n",
       "    </tr>\n",
       "    <tr>\n",
       "      <td>4</td>\n",
       "      <td>2</td>\n",
       "      <td>0.0</td>\n",
       "      <td>934744</td>\n",
       "      <td>0.712100</td>\n",
       "      <td>-0.652324</td>\n",
       "      <td>-0.201699</td>\n",
       "      <td>-0.591583</td>\n",
       "      <td>-0.283857</td>\n",
       "      <td>506</td>\n",
       "      <td>204</td>\n",
       "      <td>175</td>\n",
       "      <td>705</td>\n",
       "      <td>0.343009</td>\n",
       "      <td>-1.142130</td>\n",
       "      <td>-0.456167</td>\n",
       "      <td>405239</td>\n",
       "      <td>-0.041823</td>\n",
       "      <td>-0.438016</td>\n",
       "    </tr>\n",
       "    <tr>\n",
       "      <td>5</td>\n",
       "      <td>1</td>\n",
       "      <td>0.0</td>\n",
       "      <td>667995</td>\n",
       "      <td>0.712100</td>\n",
       "      <td>-0.652324</td>\n",
       "      <td>-0.201699</td>\n",
       "      <td>-0.591583</td>\n",
       "      <td>-0.283857</td>\n",
       "      <td>1380</td>\n",
       "      <td>206</td>\n",
       "      <td>0</td>\n",
       "      <td>440</td>\n",
       "      <td>0.343009</td>\n",
       "      <td>-0.401902</td>\n",
       "      <td>-0.995415</td>\n",
       "      <td>983078</td>\n",
       "      <td>-0.133860</td>\n",
       "      <td>1.313411</td>\n",
       "    </tr>\n",
       "    <tr>\n",
       "      <td>6</td>\n",
       "      <td>1</td>\n",
       "      <td>0.0</td>\n",
       "      <td>667995</td>\n",
       "      <td>0.712100</td>\n",
       "      <td>-0.652324</td>\n",
       "      <td>-0.201699</td>\n",
       "      <td>-0.591583</td>\n",
       "      <td>-0.283857</td>\n",
       "      <td>1380</td>\n",
       "      <td>206</td>\n",
       "      <td>0</td>\n",
       "      <td>440</td>\n",
       "      <td>0.343009</td>\n",
       "      <td>-0.401902</td>\n",
       "      <td>-0.995415</td>\n",
       "      <td>1026507</td>\n",
       "      <td>1.430767</td>\n",
       "      <td>-0.438016</td>\n",
       "    </tr>\n",
       "    <tr>\n",
       "      <td>7</td>\n",
       "      <td>2</td>\n",
       "      <td>1.0</td>\n",
       "      <td>213094</td>\n",
       "      <td>0.712100</td>\n",
       "      <td>-0.652324</td>\n",
       "      <td>-0.201699</td>\n",
       "      <td>-0.591583</td>\n",
       "      <td>-0.283857</td>\n",
       "      <td>1092</td>\n",
       "      <td>115</td>\n",
       "      <td>0</td>\n",
       "      <td>128</td>\n",
       "      <td>0.343009</td>\n",
       "      <td>0.831811</td>\n",
       "      <td>-0.456167</td>\n",
       "      <td>253947</td>\n",
       "      <td>-0.173304</td>\n",
       "      <td>-0.438016</td>\n",
       "    </tr>\n",
       "    <tr>\n",
       "      <td>8</td>\n",
       "      <td>2</td>\n",
       "      <td>0.0</td>\n",
       "      <td>742423</td>\n",
       "      <td>-1.404297</td>\n",
       "      <td>1.532980</td>\n",
       "      <td>-0.201699</td>\n",
       "      <td>-0.591583</td>\n",
       "      <td>-0.283857</td>\n",
       "      <td>1486</td>\n",
       "      <td>170</td>\n",
       "      <td>249</td>\n",
       "      <td>657</td>\n",
       "      <td>0.343009</td>\n",
       "      <td>-1.265502</td>\n",
       "      <td>1.161576</td>\n",
       "      <td>268933</td>\n",
       "      <td>-0.166730</td>\n",
       "      <td>-0.438016</td>\n",
       "    </tr>\n",
       "    <tr>\n",
       "      <td>9</td>\n",
       "      <td>1</td>\n",
       "      <td>0.0</td>\n",
       "      <td>281118</td>\n",
       "      <td>0.712100</td>\n",
       "      <td>-0.652324</td>\n",
       "      <td>-0.201699</td>\n",
       "      <td>-0.591583</td>\n",
       "      <td>-0.283857</td>\n",
       "      <td>1092</td>\n",
       "      <td>115</td>\n",
       "      <td>370</td>\n",
       "      <td>1252</td>\n",
       "      <td>0.343009</td>\n",
       "      <td>0.179706</td>\n",
       "      <td>-0.995415</td>\n",
       "      <td>594767</td>\n",
       "      <td>-0.160156</td>\n",
       "      <td>-0.438016</td>\n",
       "    </tr>\n",
       "    <tr>\n",
       "      <td>10</td>\n",
       "      <td>0</td>\n",
       "      <td>1.0</td>\n",
       "      <td>1364057</td>\n",
       "      <td>0.712100</td>\n",
       "      <td>-0.652324</td>\n",
       "      <td>-0.201699</td>\n",
       "      <td>-0.591583</td>\n",
       "      <td>-0.283857</td>\n",
       "      <td>1958</td>\n",
       "      <td>27</td>\n",
       "      <td>370</td>\n",
       "      <td>1252</td>\n",
       "      <td>0.343009</td>\n",
       "      <td>2.585447</td>\n",
       "      <td>1.161576</td>\n",
       "      <td>29148</td>\n",
       "      <td>-0.166730</td>\n",
       "      <td>1.313411</td>\n",
       "    </tr>\n",
       "    <tr>\n",
       "      <td>11</td>\n",
       "      <td>0</td>\n",
       "      <td>1.0</td>\n",
       "      <td>1364057</td>\n",
       "      <td>0.712100</td>\n",
       "      <td>-0.652324</td>\n",
       "      <td>-0.201699</td>\n",
       "      <td>-0.591583</td>\n",
       "      <td>-0.283857</td>\n",
       "      <td>1958</td>\n",
       "      <td>27</td>\n",
       "      <td>370</td>\n",
       "      <td>1252</td>\n",
       "      <td>0.343009</td>\n",
       "      <td>2.585447</td>\n",
       "      <td>1.161576</td>\n",
       "      <td>915753</td>\n",
       "      <td>-0.173304</td>\n",
       "      <td>1.313411</td>\n",
       "    </tr>\n",
       "    <tr>\n",
       "      <td>12</td>\n",
       "      <td>0</td>\n",
       "      <td>1.0</td>\n",
       "      <td>1364057</td>\n",
       "      <td>0.712100</td>\n",
       "      <td>-0.652324</td>\n",
       "      <td>-0.201699</td>\n",
       "      <td>-0.591583</td>\n",
       "      <td>-0.283857</td>\n",
       "      <td>1958</td>\n",
       "      <td>27</td>\n",
       "      <td>370</td>\n",
       "      <td>1252</td>\n",
       "      <td>0.343009</td>\n",
       "      <td>2.585447</td>\n",
       "      <td>1.161576</td>\n",
       "      <td>1051672</td>\n",
       "      <td>-0.173304</td>\n",
       "      <td>-0.438016</td>\n",
       "    </tr>\n",
       "    <tr>\n",
       "      <td>13</td>\n",
       "      <td>0</td>\n",
       "      <td>0.0</td>\n",
       "      <td>1364057</td>\n",
       "      <td>0.712100</td>\n",
       "      <td>-0.652324</td>\n",
       "      <td>-0.201699</td>\n",
       "      <td>-0.591583</td>\n",
       "      <td>-0.283857</td>\n",
       "      <td>1958</td>\n",
       "      <td>27</td>\n",
       "      <td>370</td>\n",
       "      <td>1252</td>\n",
       "      <td>0.343009</td>\n",
       "      <td>2.585447</td>\n",
       "      <td>1.161576</td>\n",
       "      <td>748219</td>\n",
       "      <td>-0.173304</td>\n",
       "      <td>-0.438016</td>\n",
       "    </tr>\n",
       "    <tr>\n",
       "      <td>14</td>\n",
       "      <td>0</td>\n",
       "      <td>0.0</td>\n",
       "      <td>1364057</td>\n",
       "      <td>0.712100</td>\n",
       "      <td>-0.652324</td>\n",
       "      <td>-0.201699</td>\n",
       "      <td>-0.591583</td>\n",
       "      <td>-0.283857</td>\n",
       "      <td>1958</td>\n",
       "      <td>27</td>\n",
       "      <td>370</td>\n",
       "      <td>1252</td>\n",
       "      <td>0.343009</td>\n",
       "      <td>2.585447</td>\n",
       "      <td>1.161576</td>\n",
       "      <td>618224</td>\n",
       "      <td>-0.173304</td>\n",
       "      <td>-0.438016</td>\n",
       "    </tr>\n",
       "  </tbody>\n",
       "</table>\n",
       "</div>"
      ],
      "text/plain": [
       "    性别  是否回答     用户id  用户二分类特征a  用户二分类特征b  用户二分类特征c  用户二分类特征d  用户二分类特征e  \\\n",
       "0    2   0.0  1107636 -1.404297  1.532980 -0.201699 -0.591583 -0.283857   \n",
       "1    2   0.0   879057  0.712100 -0.652324 -0.201699 -0.591583 -0.283857   \n",
       "2    2   0.0   483320  0.712100 -0.652324 -0.201699 -0.591583 -0.283857   \n",
       "3    2   0.0   226818  0.712100 -0.652324 -0.201699  1.690380 -0.283857   \n",
       "4    2   0.0   934744  0.712100 -0.652324 -0.201699 -0.591583 -0.283857   \n",
       "5    1   0.0   667995  0.712100 -0.652324 -0.201699 -0.591583 -0.283857   \n",
       "6    1   0.0   667995  0.712100 -0.652324 -0.201699 -0.591583 -0.283857   \n",
       "7    2   1.0   213094  0.712100 -0.652324 -0.201699 -0.591583 -0.283857   \n",
       "8    2   0.0   742423 -1.404297  1.532980 -0.201699 -0.591583 -0.283857   \n",
       "9    1   0.0   281118  0.712100 -0.652324 -0.201699 -0.591583 -0.283857   \n",
       "10   0   1.0  1364057  0.712100 -0.652324 -0.201699 -0.591583 -0.283857   \n",
       "11   0   1.0  1364057  0.712100 -0.652324 -0.201699 -0.591583 -0.283857   \n",
       "12   0   1.0  1364057  0.712100 -0.652324 -0.201699 -0.591583 -0.283857   \n",
       "13   0   0.0  1364057  0.712100 -0.652324 -0.201699 -0.591583 -0.283857   \n",
       "14   0   0.0  1364057  0.712100 -0.652324 -0.201699 -0.591583 -0.283857   \n",
       "\n",
       "    用户多分类特征a  用户多分类特征b  用户多分类特征c  用户多分类特征d  用户多分类特征e        盐值      访问评率  \\\n",
       "0       1917       170       244       799  0.343009 -1.133318  1.161576   \n",
       "1       1092       115       249       657 -2.915374 -1.036384 -0.456167   \n",
       "2       1380       206         0       440  0.343009 -0.093474  1.161576   \n",
       "3       1092       115       244       799  0.343009 -1.062820 -0.995415   \n",
       "4        506       204       175       705  0.343009 -1.142130 -0.456167   \n",
       "5       1380       206         0       440  0.343009 -0.401902 -0.995415   \n",
       "6       1380       206         0       440  0.343009 -0.401902 -0.995415   \n",
       "7       1092       115         0       128  0.343009  0.831811 -0.456167   \n",
       "8       1486       170       249       657  0.343009 -1.265502  1.161576   \n",
       "9       1092       115       370      1252  0.343009  0.179706 -0.995415   \n",
       "10      1958        27       370      1252  0.343009  2.585447  1.161576   \n",
       "11      1958        27       370      1252  0.343009  2.585447  1.161576   \n",
       "12      1958        27       370      1252  0.343009  2.585447  1.161576   \n",
       "13      1958        27       370      1252  0.343009  2.585447  1.161576   \n",
       "14      1958        27       370      1252  0.343009  2.585447  1.161576   \n",
       "\n",
       "       问题id  邀请问题间隔-day   关注话题命中数  \n",
       "0    327358   -0.147008  1.313411  \n",
       "1    154388   -0.035249 -0.438016  \n",
       "2    972853   -0.166730 -0.438016  \n",
       "3    379015   -0.160156 -0.438016  \n",
       "4    405239   -0.041823 -0.438016  \n",
       "5    983078   -0.133860  1.313411  \n",
       "6   1026507    1.430767 -0.438016  \n",
       "7    253947   -0.173304 -0.438016  \n",
       "8    268933   -0.166730 -0.438016  \n",
       "9    594767   -0.160156 -0.438016  \n",
       "10    29148   -0.166730  1.313411  \n",
       "11   915753   -0.173304  1.313411  \n",
       "12  1051672   -0.173304 -0.438016  \n",
       "13   748219   -0.173304 -0.438016  \n",
       "14   618224   -0.173304 -0.438016  "
      ]
     },
     "execution_count": 7,
     "metadata": {},
     "output_type": "execute_result"
    }
   ],
   "source": [
    "from sklearn.preprocessing import LabelEncoder\n",
    "\n",
    "# 离散值编码\n",
    "class_feat = ['用户id','问题id','性别', '访问评率','用户多分类特征a',\n",
    "               '用户多分类特征b','用户多分类特征c','用户多分类特征d','用户多分类特征e']\n",
    "encoder = LabelEncoder()\n",
    "for i in class_feat:\n",
    "    data[i] = encoder.fit_transform(data[i])\n",
    "    \n",
    "# 连续值标准化\n",
    "class_feat = ['用户二分类特征a', '用户二分类特征b', '用户二分类特征c', \n",
    "              '用户二分类特征d', '用户二分类特征e', '用户多分类特征e',\n",
    "              '盐值', '访问评率', '邀请问题间隔-day', '关注话题命中数']\n",
    "for i in class_feat:\n",
    "    data[i] = (data[i] - data[i].mean(axis=0)) / data[i].std(axis=0)\n",
    "    \n",
    "data.iloc[:15]"
   ]
  },
  {
   "cell_type": "markdown",
   "metadata": {},
   "source": [
    "## 1.3 包装数据集"
   ]
  },
  {
   "cell_type": "code",
   "execution_count": 40,
   "metadata": {},
   "outputs": [
    {
     "name": "stdout",
     "output_type": "stream",
     "text": [
      "ok.\n"
     ]
    }
   ],
   "source": [
    "import numpy as np\n",
    "\n",
    "temp = data[data['是否回答'] == 1]  # 用于均衡的数据\n",
    "train_x = data[~np.isnan(data['是否回答'])].append([temp, temp, temp, temp]).values\n",
    "train_y = train_x[:, 1]\n",
    "\n",
    "test_x = data[np.isnan(data['是否回答'])].values\n",
    "test_y = test_x[:, 1]\n",
    "print('ok.')"
   ]
  },
  {
   "cell_type": "code",
   "execution_count": 41,
   "metadata": {},
   "outputs": [
    {
     "name": "stdout",
     "output_type": "stream",
     "text": [
      "ok.\n"
     ]
    }
   ],
   "source": [
    "from torch.utils.data import Dataset, DataLoader\n",
    "\n",
    "\n",
    "class MyDataset(Dataset):\n",
    "    def __init__(self, mode='train'):\n",
    "        self.mode = mode\n",
    "        if mode == 'train':\n",
    "            self.data = {\n",
    "                'x': train_x,\n",
    "                'y': train_y,\n",
    "            }\n",
    "        elif mode == 'test':\n",
    "            self.data = {\n",
    "                'x': test_x,\n",
    "                'y': test_y,\n",
    "            }\n",
    "        else:\n",
    "            raise\n",
    "            \n",
    "    def __getitem__(self, index):\n",
    "        return self.data['x'][index], self.data['y'][index]\n",
    "        \n",
    "    def __len__(self):\n",
    "        return len(self.data['x'])\n",
    "    \n",
    "    \n",
    "print('ok.')"
   ]
  },
  {
   "cell_type": "code",
   "execution_count": 42,
   "metadata": {},
   "outputs": [
    {
     "name": "stdout",
     "output_type": "stream",
     "text": [
      "train_size: 12976667\n",
      "val_size: 3244167\n",
      "test_size: 1141683\n"
     ]
    }
   ],
   "source": [
    "from torch.utils.data import random_split\n",
    "\n",
    "full_train_dataset = MyDataset(mode='train')\n",
    "test_dataset = MyDataset(mode='test')\n",
    "train_size, val_size, test_size = 0, 0, 0\n",
    "\n",
    "if TRAIN_ALL:\n",
    "    data_loader = {\n",
    "        'train': DataLoader(dataset=full_train_dataset, \n",
    "                            batch_size=BATCH_SIZE, \n",
    "                            shuffle=True),\n",
    "        'test': DataLoader(dataset=test_dataset,\n",
    "                           batch_size=BATCH_SIZE,\n",
    "                           shuffle=False),\n",
    "    }\n",
    "    train_size = len(full_train_dataset)\n",
    "    test_size = len(test_dataset)\n",
    "else:\n",
    "    train_size = int(0.8 * len(full_train_dataset))\n",
    "    val_size = len(full_train_dataset) - train_size\n",
    "    train_dataset, val_dataset = random_split(full_train_dataset, [train_size, val_size])\n",
    "\n",
    "    data_loader = {\n",
    "        'train': DataLoader(dataset=train_dataset, \n",
    "                            batch_size=BATCH_SIZE, \n",
    "                            shuffle=True),\n",
    "        'val': DataLoader(dataset=val_dataset, \n",
    "                          batch_size=BATCH_SIZE,\n",
    "                          shuffle=False),\n",
    "        'test': DataLoader(dataset=test_dataset,\n",
    "                           batch_size=BATCH_SIZE,\n",
    "                           shuffle=False),\n",
    "    }\n",
    "    train_size = len(train_dataset)\n",
    "    val_size = len(val_dataset)\n",
    "    test_size = len(test_dataset)\n",
    "    \n",
    "print('train_size:', len(train_dataset))\n",
    "print('val_size:', len(val_dataset))\n",
    "print('test_size:', len(test_dataset))"
   ]
  },
  {
   "cell_type": "markdown",
   "metadata": {},
   "source": [
    "## 2.1 构建网络"
   ]
  },
  {
   "cell_type": "code",
   "execution_count": 2,
   "metadata": {},
   "outputs": [
    {
     "data": {
      "text/plain": [
       "MyNet(\n",
       "  (embed_sex): Embedding(3, 2)\n",
       "  (embed_multi_a): Embedding(2561, 13)\n",
       "  (embed_multi_b): Embedding(291, 6)\n",
       "  (embed_multi_c): Embedding(428, 7)\n",
       "  (embed_multi_d): Embedding(1556, 11)\n",
       "  (fc1): Linear(in_features=49, out_features=1024, bias=True)\n",
       "  (fc2): Linear(in_features=1024, out_features=512, bias=True)\n",
       "  (fc3): Linear(in_features=512, out_features=256, bias=True)\n",
       "  (fc4): Linear(in_features=256, out_features=128, bias=True)\n",
       "  (fc5): Linear(in_features=128, out_features=64, bias=True)\n",
       "  (fc6): Linear(in_features=64, out_features=16, bias=True)\n",
       "  (fc7): Linear(in_features=16, out_features=2, bias=True)\n",
       "  (relu): ReLU(inplace=True)\n",
       ")"
      ]
     },
     "execution_count": 2,
     "metadata": {},
     "output_type": "execute_result"
    }
   ],
   "source": [
    "from my_model import MyNet\n",
    "\n",
    "net = MyNet().to(DEVICE)\n",
    "net"
   ]
  },
  {
   "cell_type": "markdown",
   "metadata": {},
   "source": [
    "## 2.2 优化器、损失函数"
   ]
  },
  {
   "cell_type": "code",
   "execution_count": 67,
   "metadata": {},
   "outputs": [
    {
     "data": {
      "text/plain": [
       "'ok'"
      ]
     },
     "execution_count": 67,
     "metadata": {},
     "output_type": "execute_result"
    }
   ],
   "source": [
    "from torch import optim, nn\n",
    "\n",
    "loss_function = nn.CrossEntropyLoss()\n",
    "optimizer = optim.Adam(net.parameters(), lr=0.0001)\n",
    "# scheduler = optim.lr_scheduler.StepLR(optimizer, step_size=2, gamma=0.75)\n",
    "\n",
    "'ok'"
   ]
  },
  {
   "cell_type": "markdown",
   "metadata": {},
   "source": [
    "## 3.1 训练"
   ]
  },
  {
   "cell_type": "code",
   "execution_count": 65,
   "metadata": {},
   "outputs": [
    {
     "name": "stdout",
     "output_type": "stream",
     "text": [
      "train_len: 1585\n",
      "val_len: 397\n",
      "test_len: 140\n"
     ]
    }
   ],
   "source": [
    "import math\n",
    "\n",
    "# 计算一轮enumerate的长度\n",
    "train_len = math.ceil(train_size / BATCH_SIZE)\n",
    "val_len = math.ceil(val_size / BATCH_SIZE)\n",
    "test_len = math.ceil(test_size / BATCH_SIZE)\n",
    "\n",
    "print('train_len:', train_len)\n",
    "print('val_len:', val_len)\n",
    "print('test_len:', test_len)"
   ]
  },
  {
   "cell_type": "code",
   "execution_count": 68,
   "metadata": {},
   "outputs": [
    {
     "name": "stderr",
     "output_type": "stream",
     "text": [
      "Epoch: 0, Loss: 0.6504, Acc: 0.0389: 100%|██████████| 1585/1585 [06:53<00:00,  3.83it/s]\n"
     ]
    },
    {
     "name": "stdout",
     "output_type": "stream",
     "text": [
      "Epoch: 0, Loss: 0.6321, Acc: 0.6247, Lr: 0.00010\n"
     ]
    },
    {
     "name": "stderr",
     "output_type": "stream",
     "text": [
      "Epoch: 1, Loss: 0.6156, Acc: 0.0436: 100%|██████████| 1585/1585 [08:07<00:00,  3.25it/s]\n"
     ]
    },
    {
     "name": "stdout",
     "output_type": "stream",
     "text": [
      "Epoch: 1, Loss: 0.6315, Acc: 0.6251, Lr: 0.00010\n"
     ]
    },
    {
     "name": "stderr",
     "output_type": "stream",
     "text": [
      "Epoch: 2, Loss: 0.6852, Acc: 0.0387: 100%|██████████| 1585/1585 [07:31<00:00,  3.51it/s]\n"
     ]
    },
    {
     "name": "stdout",
     "output_type": "stream",
     "text": [
      "Epoch: 2, Loss: 0.6313, Acc: 0.6254, Lr: 0.00010\n"
     ]
    },
    {
     "name": "stderr",
     "output_type": "stream",
     "text": [
      "Epoch: 3, Loss: 0.6398, Acc: 0.0392: 100%|██████████| 1585/1585 [06:51<00:00,  3.85it/s]\n"
     ]
    },
    {
     "name": "stdout",
     "output_type": "stream",
     "text": [
      "Epoch: 3, Loss: 0.6311, Acc: 0.6257, Lr: 0.00010\n"
     ]
    },
    {
     "name": "stderr",
     "output_type": "stream",
     "text": [
      "Epoch: 4, Loss: 0.6307, Acc: 0.0409: 100%|██████████| 1585/1585 [07:09<00:00,  3.69it/s]\n"
     ]
    },
    {
     "name": "stdout",
     "output_type": "stream",
     "text": [
      "Epoch: 4, Loss: 0.6309, Acc: 0.6257, Lr: 0.00010\n"
     ]
    },
    {
     "name": "stderr",
     "output_type": "stream",
     "text": [
      "Epoch: 5, Loss: 0.6468, Acc: 0.0385: 100%|██████████| 1585/1585 [05:58<00:00,  4.43it/s]\n"
     ]
    },
    {
     "name": "stdout",
     "output_type": "stream",
     "text": [
      "Epoch: 5, Loss: 0.6308, Acc: 0.6258, Lr: 0.00010\n"
     ]
    },
    {
     "name": "stderr",
     "output_type": "stream",
     "text": [
      "Epoch: 6, Loss: 0.5988, Acc: 0.0448: 100%|██████████| 1585/1585 [06:06<00:00,  4.32it/s]\n"
     ]
    },
    {
     "name": "stdout",
     "output_type": "stream",
     "text": [
      "Epoch: 6, Loss: 0.6306, Acc: 0.6259, Lr: 0.00010\n"
     ]
    },
    {
     "name": "stderr",
     "output_type": "stream",
     "text": [
      "Epoch: 7, Loss: 0.6240, Acc: 0.0403: 100%|██████████| 1585/1585 [06:01<00:00,  4.39it/s]\n"
     ]
    },
    {
     "name": "stdout",
     "output_type": "stream",
     "text": [
      "Epoch: 7, Loss: 0.6306, Acc: 0.6261, Lr: 0.00010\n"
     ]
    },
    {
     "name": "stderr",
     "output_type": "stream",
     "text": [
      "Epoch: 8, Loss: 0.6405, Acc: 0.0392: 100%|██████████| 1585/1585 [05:59<00:00,  4.41it/s]\n"
     ]
    },
    {
     "name": "stdout",
     "output_type": "stream",
     "text": [
      "Epoch: 8, Loss: 0.6305, Acc: 0.6262, Lr: 0.00010\n"
     ]
    },
    {
     "name": "stderr",
     "output_type": "stream",
     "text": [
      "Epoch: 9, Loss: 0.6289, Acc: 0.0406: 100%|██████████| 1585/1585 [05:34<00:00,  4.75it/s]\n"
     ]
    },
    {
     "name": "stdout",
     "output_type": "stream",
     "text": [
      "Epoch: 9, Loss: 0.6304, Acc: 0.6261, Lr: 0.00010\n"
     ]
    },
    {
     "name": "stderr",
     "output_type": "stream",
     "text": [
      "Epoch: 10, Loss: 0.6314, Acc: 0.0402: 100%|██████████| 1585/1585 [06:05<00:00,  4.34it/s]\n"
     ]
    },
    {
     "name": "stdout",
     "output_type": "stream",
     "text": [
      "Epoch: 10, Loss: 0.6303, Acc: 0.6263, Lr: 0.00010\n"
     ]
    },
    {
     "name": "stderr",
     "output_type": "stream",
     "text": [
      "Epoch: 11, Loss: 0.6312, Acc: 0.0431: 100%|██████████| 1585/1585 [05:56<00:00,  4.45it/s]\n"
     ]
    },
    {
     "name": "stdout",
     "output_type": "stream",
     "text": [
      "Epoch: 11, Loss: 0.6302, Acc: 0.6265, Lr: 0.00010\n"
     ]
    },
    {
     "name": "stderr",
     "output_type": "stream",
     "text": [
      "Epoch: 12, Loss: 0.6138, Acc: 0.0422: 100%|██████████| 1585/1585 [05:28<00:00,  4.82it/s]\n"
     ]
    },
    {
     "name": "stdout",
     "output_type": "stream",
     "text": [
      "Epoch: 12, Loss: 0.6302, Acc: 0.6264, Lr: 0.00010\n"
     ]
    },
    {
     "name": "stderr",
     "output_type": "stream",
     "text": [
      "Epoch: 13, Loss: 0.6463, Acc: 0.0405: 100%|██████████| 1585/1585 [06:03<00:00,  4.37it/s]\n"
     ]
    },
    {
     "name": "stdout",
     "output_type": "stream",
     "text": [
      "Epoch: 13, Loss: 0.6301, Acc: 0.6266, Lr: 0.00010\n"
     ]
    },
    {
     "name": "stderr",
     "output_type": "stream",
     "text": [
      "Epoch: 14, Loss: 0.6314, Acc: 0.6270:  44%|████▍     | 698/1585 [03:00<03:48,  3.88it/s]\n"
     ]
    },
    {
     "ename": "KeyboardInterrupt",
     "evalue": "",
     "output_type": "error",
     "traceback": [
      "\u001b[1;31m---------------------------------------------------------------------------\u001b[0m",
      "\u001b[1;31mKeyboardInterrupt\u001b[0m                         Traceback (most recent call last)",
      "\u001b[1;32m<ipython-input-68-ca99919f411a>\u001b[0m in \u001b[0;36m<module>\u001b[1;34m\u001b[0m\n\u001b[0;32m      6\u001b[0m     \u001b[0mnet\u001b[0m\u001b[1;33m.\u001b[0m\u001b[0mtrain\u001b[0m\u001b[1;33m(\u001b[0m\u001b[1;33m)\u001b[0m\u001b[1;33m\u001b[0m\u001b[1;33m\u001b[0m\u001b[0m\n\u001b[0;32m      7\u001b[0m     \u001b[1;32mwith\u001b[0m \u001b[0mtqdm\u001b[0m\u001b[1;33m(\u001b[0m\u001b[0mtotal\u001b[0m\u001b[1;33m=\u001b[0m\u001b[0mtrain_len\u001b[0m\u001b[1;33m)\u001b[0m \u001b[1;32mas\u001b[0m \u001b[0mpbar\u001b[0m\u001b[1;33m:\u001b[0m\u001b[1;33m\u001b[0m\u001b[1;33m\u001b[0m\u001b[0m\n\u001b[1;32m----> 8\u001b[1;33m         \u001b[1;32mfor\u001b[0m \u001b[0mstep\u001b[0m\u001b[1;33m,\u001b[0m \u001b[1;33m(\u001b[0m\u001b[0mbx\u001b[0m\u001b[1;33m,\u001b[0m \u001b[0mby\u001b[0m\u001b[1;33m)\u001b[0m \u001b[1;32min\u001b[0m \u001b[0menumerate\u001b[0m\u001b[1;33m(\u001b[0m\u001b[0mdata_loader\u001b[0m\u001b[1;33m[\u001b[0m\u001b[1;34m'train'\u001b[0m\u001b[1;33m]\u001b[0m\u001b[1;33m)\u001b[0m\u001b[1;33m:\u001b[0m\u001b[1;33m\u001b[0m\u001b[1;33m\u001b[0m\u001b[0m\n\u001b[0m\u001b[0;32m      9\u001b[0m             \u001b[1;31m# 训练\u001b[0m\u001b[1;33m\u001b[0m\u001b[1;33m\u001b[0m\u001b[1;33m\u001b[0m\u001b[0m\n\u001b[0;32m     10\u001b[0m             \u001b[0mbx\u001b[0m \u001b[1;33m=\u001b[0m \u001b[0mbx\u001b[0m\u001b[1;33m.\u001b[0m\u001b[0mfloat\u001b[0m\u001b[1;33m(\u001b[0m\u001b[1;33m)\u001b[0m\u001b[1;33m.\u001b[0m\u001b[0mto\u001b[0m\u001b[1;33m(\u001b[0m\u001b[0mDEVICE\u001b[0m\u001b[1;33m)\u001b[0m\u001b[1;33m\u001b[0m\u001b[1;33m\u001b[0m\u001b[0m\n",
      "\u001b[1;32mC:\\RAYIOOO\\Programmings\\Anaconda\\lib\\site-packages\\torch\\utils\\data\\dataloader.py\u001b[0m in \u001b[0;36m__next__\u001b[1;34m(self)\u001b[0m\n\u001b[0;32m    344\u001b[0m     \u001b[1;32mdef\u001b[0m \u001b[0m__next__\u001b[0m\u001b[1;33m(\u001b[0m\u001b[0mself\u001b[0m\u001b[1;33m)\u001b[0m\u001b[1;33m:\u001b[0m\u001b[1;33m\u001b[0m\u001b[1;33m\u001b[0m\u001b[0m\n\u001b[0;32m    345\u001b[0m         \u001b[0mindex\u001b[0m \u001b[1;33m=\u001b[0m \u001b[0mself\u001b[0m\u001b[1;33m.\u001b[0m\u001b[0m_next_index\u001b[0m\u001b[1;33m(\u001b[0m\u001b[1;33m)\u001b[0m  \u001b[1;31m# may raise StopIteration\u001b[0m\u001b[1;33m\u001b[0m\u001b[1;33m\u001b[0m\u001b[0m\n\u001b[1;32m--> 346\u001b[1;33m         \u001b[0mdata\u001b[0m \u001b[1;33m=\u001b[0m \u001b[0mself\u001b[0m\u001b[1;33m.\u001b[0m\u001b[0m_dataset_fetcher\u001b[0m\u001b[1;33m.\u001b[0m\u001b[0mfetch\u001b[0m\u001b[1;33m(\u001b[0m\u001b[0mindex\u001b[0m\u001b[1;33m)\u001b[0m  \u001b[1;31m# may raise StopIteration\u001b[0m\u001b[1;33m\u001b[0m\u001b[1;33m\u001b[0m\u001b[0m\n\u001b[0m\u001b[0;32m    347\u001b[0m         \u001b[1;32mif\u001b[0m \u001b[0mself\u001b[0m\u001b[1;33m.\u001b[0m\u001b[0m_pin_memory\u001b[0m\u001b[1;33m:\u001b[0m\u001b[1;33m\u001b[0m\u001b[1;33m\u001b[0m\u001b[0m\n\u001b[0;32m    348\u001b[0m             \u001b[0mdata\u001b[0m \u001b[1;33m=\u001b[0m \u001b[0m_utils\u001b[0m\u001b[1;33m.\u001b[0m\u001b[0mpin_memory\u001b[0m\u001b[1;33m.\u001b[0m\u001b[0mpin_memory\u001b[0m\u001b[1;33m(\u001b[0m\u001b[0mdata\u001b[0m\u001b[1;33m)\u001b[0m\u001b[1;33m\u001b[0m\u001b[1;33m\u001b[0m\u001b[0m\n",
      "\u001b[1;32mC:\\RAYIOOO\\Programmings\\Anaconda\\lib\\site-packages\\torch\\utils\\data\\_utils\\fetch.py\u001b[0m in \u001b[0;36mfetch\u001b[1;34m(self, possibly_batched_index)\u001b[0m\n\u001b[0;32m     45\u001b[0m         \u001b[1;32melse\u001b[0m\u001b[1;33m:\u001b[0m\u001b[1;33m\u001b[0m\u001b[1;33m\u001b[0m\u001b[0m\n\u001b[0;32m     46\u001b[0m             \u001b[0mdata\u001b[0m \u001b[1;33m=\u001b[0m \u001b[0mself\u001b[0m\u001b[1;33m.\u001b[0m\u001b[0mdataset\u001b[0m\u001b[1;33m[\u001b[0m\u001b[0mpossibly_batched_index\u001b[0m\u001b[1;33m]\u001b[0m\u001b[1;33m\u001b[0m\u001b[1;33m\u001b[0m\u001b[0m\n\u001b[1;32m---> 47\u001b[1;33m         \u001b[1;32mreturn\u001b[0m \u001b[0mself\u001b[0m\u001b[1;33m.\u001b[0m\u001b[0mcollate_fn\u001b[0m\u001b[1;33m(\u001b[0m\u001b[0mdata\u001b[0m\u001b[1;33m)\u001b[0m\u001b[1;33m\u001b[0m\u001b[1;33m\u001b[0m\u001b[0m\n\u001b[0m",
      "\u001b[1;32mC:\\RAYIOOO\\Programmings\\Anaconda\\lib\\site-packages\\torch\\utils\\data\\_utils\\collate.py\u001b[0m in \u001b[0;36mdefault_collate\u001b[1;34m(batch)\u001b[0m\n\u001b[0;32m     77\u001b[0m     \u001b[1;32melif\u001b[0m \u001b[0misinstance\u001b[0m\u001b[1;33m(\u001b[0m\u001b[0melem\u001b[0m\u001b[1;33m,\u001b[0m \u001b[0mcontainer_abcs\u001b[0m\u001b[1;33m.\u001b[0m\u001b[0mSequence\u001b[0m\u001b[1;33m)\u001b[0m\u001b[1;33m:\u001b[0m\u001b[1;33m\u001b[0m\u001b[1;33m\u001b[0m\u001b[0m\n\u001b[0;32m     78\u001b[0m         \u001b[0mtransposed\u001b[0m \u001b[1;33m=\u001b[0m \u001b[0mzip\u001b[0m\u001b[1;33m(\u001b[0m\u001b[1;33m*\u001b[0m\u001b[0mbatch\u001b[0m\u001b[1;33m)\u001b[0m\u001b[1;33m\u001b[0m\u001b[1;33m\u001b[0m\u001b[0m\n\u001b[1;32m---> 79\u001b[1;33m         \u001b[1;32mreturn\u001b[0m \u001b[1;33m[\u001b[0m\u001b[0mdefault_collate\u001b[0m\u001b[1;33m(\u001b[0m\u001b[0msamples\u001b[0m\u001b[1;33m)\u001b[0m \u001b[1;32mfor\u001b[0m \u001b[0msamples\u001b[0m \u001b[1;32min\u001b[0m \u001b[0mtransposed\u001b[0m\u001b[1;33m]\u001b[0m\u001b[1;33m\u001b[0m\u001b[1;33m\u001b[0m\u001b[0m\n\u001b[0m\u001b[0;32m     80\u001b[0m \u001b[1;33m\u001b[0m\u001b[0m\n\u001b[0;32m     81\u001b[0m     \u001b[1;32mraise\u001b[0m \u001b[0mTypeError\u001b[0m\u001b[1;33m(\u001b[0m\u001b[0mdefault_collate_err_msg_format\u001b[0m\u001b[1;33m.\u001b[0m\u001b[0mformat\u001b[0m\u001b[1;33m(\u001b[0m\u001b[0melem_type\u001b[0m\u001b[1;33m)\u001b[0m\u001b[1;33m)\u001b[0m\u001b[1;33m\u001b[0m\u001b[1;33m\u001b[0m\u001b[0m\n",
      "\u001b[1;32mC:\\RAYIOOO\\Programmings\\Anaconda\\lib\\site-packages\\torch\\utils\\data\\_utils\\collate.py\u001b[0m in \u001b[0;36m<listcomp>\u001b[1;34m(.0)\u001b[0m\n\u001b[0;32m     77\u001b[0m     \u001b[1;32melif\u001b[0m \u001b[0misinstance\u001b[0m\u001b[1;33m(\u001b[0m\u001b[0melem\u001b[0m\u001b[1;33m,\u001b[0m \u001b[0mcontainer_abcs\u001b[0m\u001b[1;33m.\u001b[0m\u001b[0mSequence\u001b[0m\u001b[1;33m)\u001b[0m\u001b[1;33m:\u001b[0m\u001b[1;33m\u001b[0m\u001b[1;33m\u001b[0m\u001b[0m\n\u001b[0;32m     78\u001b[0m         \u001b[0mtransposed\u001b[0m \u001b[1;33m=\u001b[0m \u001b[0mzip\u001b[0m\u001b[1;33m(\u001b[0m\u001b[1;33m*\u001b[0m\u001b[0mbatch\u001b[0m\u001b[1;33m)\u001b[0m\u001b[1;33m\u001b[0m\u001b[1;33m\u001b[0m\u001b[0m\n\u001b[1;32m---> 79\u001b[1;33m         \u001b[1;32mreturn\u001b[0m \u001b[1;33m[\u001b[0m\u001b[0mdefault_collate\u001b[0m\u001b[1;33m(\u001b[0m\u001b[0msamples\u001b[0m\u001b[1;33m)\u001b[0m \u001b[1;32mfor\u001b[0m \u001b[0msamples\u001b[0m \u001b[1;32min\u001b[0m \u001b[0mtransposed\u001b[0m\u001b[1;33m]\u001b[0m\u001b[1;33m\u001b[0m\u001b[1;33m\u001b[0m\u001b[0m\n\u001b[0m\u001b[0;32m     80\u001b[0m \u001b[1;33m\u001b[0m\u001b[0m\n\u001b[0;32m     81\u001b[0m     \u001b[1;32mraise\u001b[0m \u001b[0mTypeError\u001b[0m\u001b[1;33m(\u001b[0m\u001b[0mdefault_collate_err_msg_format\u001b[0m\u001b[1;33m.\u001b[0m\u001b[0mformat\u001b[0m\u001b[1;33m(\u001b[0m\u001b[0melem_type\u001b[0m\u001b[1;33m)\u001b[0m\u001b[1;33m)\u001b[0m\u001b[1;33m\u001b[0m\u001b[1;33m\u001b[0m\u001b[0m\n",
      "\u001b[1;32mC:\\RAYIOOO\\Programmings\\Anaconda\\lib\\site-packages\\torch\\utils\\data\\_utils\\collate.py\u001b[0m in \u001b[0;36mdefault_collate\u001b[1;34m(batch)\u001b[0m\n\u001b[0;32m     62\u001b[0m                 \u001b[1;32mraise\u001b[0m \u001b[0mTypeError\u001b[0m\u001b[1;33m(\u001b[0m\u001b[0mdefault_collate_err_msg_format\u001b[0m\u001b[1;33m.\u001b[0m\u001b[0mformat\u001b[0m\u001b[1;33m(\u001b[0m\u001b[0melem\u001b[0m\u001b[1;33m.\u001b[0m\u001b[0mdtype\u001b[0m\u001b[1;33m)\u001b[0m\u001b[1;33m)\u001b[0m\u001b[1;33m\u001b[0m\u001b[1;33m\u001b[0m\u001b[0m\n\u001b[0;32m     63\u001b[0m \u001b[1;33m\u001b[0m\u001b[0m\n\u001b[1;32m---> 64\u001b[1;33m             \u001b[1;32mreturn\u001b[0m \u001b[0mdefault_collate\u001b[0m\u001b[1;33m(\u001b[0m\u001b[1;33m[\u001b[0m\u001b[0mtorch\u001b[0m\u001b[1;33m.\u001b[0m\u001b[0mas_tensor\u001b[0m\u001b[1;33m(\u001b[0m\u001b[0mb\u001b[0m\u001b[1;33m)\u001b[0m \u001b[1;32mfor\u001b[0m \u001b[0mb\u001b[0m \u001b[1;32min\u001b[0m \u001b[0mbatch\u001b[0m\u001b[1;33m]\u001b[0m\u001b[1;33m)\u001b[0m\u001b[1;33m\u001b[0m\u001b[1;33m\u001b[0m\u001b[0m\n\u001b[0m\u001b[0;32m     65\u001b[0m         \u001b[1;32melif\u001b[0m \u001b[0melem\u001b[0m\u001b[1;33m.\u001b[0m\u001b[0mshape\u001b[0m \u001b[1;33m==\u001b[0m \u001b[1;33m(\u001b[0m\u001b[1;33m)\u001b[0m\u001b[1;33m:\u001b[0m  \u001b[1;31m# scalars\u001b[0m\u001b[1;33m\u001b[0m\u001b[1;33m\u001b[0m\u001b[0m\n\u001b[0;32m     66\u001b[0m             \u001b[1;32mreturn\u001b[0m \u001b[0mtorch\u001b[0m\u001b[1;33m.\u001b[0m\u001b[0mas_tensor\u001b[0m\u001b[1;33m(\u001b[0m\u001b[0mbatch\u001b[0m\u001b[1;33m)\u001b[0m\u001b[1;33m\u001b[0m\u001b[1;33m\u001b[0m\u001b[0m\n",
      "\u001b[1;32mC:\\RAYIOOO\\Programmings\\Anaconda\\lib\\site-packages\\torch\\utils\\data\\_utils\\collate.py\u001b[0m in \u001b[0;36m<listcomp>\u001b[1;34m(.0)\u001b[0m\n\u001b[0;32m     62\u001b[0m                 \u001b[1;32mraise\u001b[0m \u001b[0mTypeError\u001b[0m\u001b[1;33m(\u001b[0m\u001b[0mdefault_collate_err_msg_format\u001b[0m\u001b[1;33m.\u001b[0m\u001b[0mformat\u001b[0m\u001b[1;33m(\u001b[0m\u001b[0melem\u001b[0m\u001b[1;33m.\u001b[0m\u001b[0mdtype\u001b[0m\u001b[1;33m)\u001b[0m\u001b[1;33m)\u001b[0m\u001b[1;33m\u001b[0m\u001b[1;33m\u001b[0m\u001b[0m\n\u001b[0;32m     63\u001b[0m \u001b[1;33m\u001b[0m\u001b[0m\n\u001b[1;32m---> 64\u001b[1;33m             \u001b[1;32mreturn\u001b[0m \u001b[0mdefault_collate\u001b[0m\u001b[1;33m(\u001b[0m\u001b[1;33m[\u001b[0m\u001b[0mtorch\u001b[0m\u001b[1;33m.\u001b[0m\u001b[0mas_tensor\u001b[0m\u001b[1;33m(\u001b[0m\u001b[0mb\u001b[0m\u001b[1;33m)\u001b[0m \u001b[1;32mfor\u001b[0m \u001b[0mb\u001b[0m \u001b[1;32min\u001b[0m \u001b[0mbatch\u001b[0m\u001b[1;33m]\u001b[0m\u001b[1;33m)\u001b[0m\u001b[1;33m\u001b[0m\u001b[1;33m\u001b[0m\u001b[0m\n\u001b[0m\u001b[0;32m     65\u001b[0m         \u001b[1;32melif\u001b[0m \u001b[0melem\u001b[0m\u001b[1;33m.\u001b[0m\u001b[0mshape\u001b[0m \u001b[1;33m==\u001b[0m \u001b[1;33m(\u001b[0m\u001b[1;33m)\u001b[0m\u001b[1;33m:\u001b[0m  \u001b[1;31m# scalars\u001b[0m\u001b[1;33m\u001b[0m\u001b[1;33m\u001b[0m\u001b[0m\n\u001b[0;32m     66\u001b[0m             \u001b[1;32mreturn\u001b[0m \u001b[0mtorch\u001b[0m\u001b[1;33m.\u001b[0m\u001b[0mas_tensor\u001b[0m\u001b[1;33m(\u001b[0m\u001b[0mbatch\u001b[0m\u001b[1;33m)\u001b[0m\u001b[1;33m\u001b[0m\u001b[1;33m\u001b[0m\u001b[0m\n",
      "\u001b[1;31mKeyboardInterrupt\u001b[0m: "
     ]
    }
   ],
   "source": [
    "from tqdm import tqdm\n",
    "\n",
    "for epoch in range(EPOCH):\n",
    "    count, running_correct, running_loss = 0, 0, 0\n",
    "    \n",
    "    net.train()\n",
    "    with tqdm(total=train_len) as pbar:\n",
    "        for step, (bx, by) in enumerate(data_loader['train']):\n",
    "            # 训练\n",
    "            bx = bx.float().to(DEVICE)\n",
    "            by = by.long().to(DEVICE)\n",
    "\n",
    "            prediction = net(bx)\n",
    "            loss = loss_function(prediction, by)\n",
    "            optimizer.zero_grad()\n",
    "            loss.backward()\n",
    "            optimizer.step()\n",
    "\n",
    "            # 统计成效\n",
    "            pre = torch.argmax(torch.softmax(prediction, dim=1), dim=1)\n",
    "            my_loss = float(loss.data.cpu().numpy())\n",
    "            my_correct = sum(pre.cpu().numpy() == by.cpu().numpy())\n",
    "            my_acc = my_correct / BATCH_SIZE\n",
    "            count += 1\n",
    "            running_loss += my_loss\n",
    "            running_correct += my_correct\n",
    "            \n",
    "            # 更新进度条\n",
    "            pbar.update(1)\n",
    "            pbar.set_description('Epoch: %d, Loss: %.4f, Acc: %.4f' % (\n",
    "                                  epoch, \n",
    "                                  my_loss, \n",
    "                                  my_acc))\n",
    "    \n",
    "    # 输出一轮结果\n",
    "    print('Epoch: %d, Loss: %.4f, Acc: %.4f, Lr: %.5f' % (\n",
    "           epoch,\n",
    "           running_loss / count,\n",
    "           running_correct / train_size,\n",
    "           optimizer.state_dict()['param_groups'][0]['lr']))\n",
    "    \n",
    "    # 保存参数\n",
    "    torch.save(net.state_dict(), PKL_DIR_OUT)\n",
    "    \n",
    "    # lr scheduler\n",
    "    scheduler.step()"
   ]
  },
  {
   "cell_type": "markdown",
   "metadata": {},
   "source": [
    "## 3.2 存储网络"
   ]
  },
  {
   "cell_type": "code",
   "execution_count": 69,
   "metadata": {},
   "outputs": [],
   "source": [
    "torch.save(net.state_dict(), PKL_DIR_OUT)"
   ]
  },
  {
   "cell_type": "markdown",
   "metadata": {},
   "source": [
    "## 3.3 输出 val 结果"
   ]
  },
  {
   "cell_type": "code",
   "execution_count": 8,
   "metadata": {},
   "outputs": [
    {
     "name": "stderr",
     "output_type": "stream",
     "text": [
      "  0%|                                                                                   | 0/397 [00:00<?, ?it/s]\n"
     ]
    },
    {
     "ename": "NameError",
     "evalue": "name 'data_loader' is not defined",
     "output_type": "error",
     "traceback": [
      "\u001b[1;31m---------------------------------------------------------------------------\u001b[0m",
      "\u001b[1;31mNameError\u001b[0m                                 Traceback (most recent call last)",
      "\u001b[1;32m<ipython-input-8-a8ee5f895408>\u001b[0m in \u001b[0;36m<module>\u001b[1;34m\u001b[0m\n\u001b[0;32m      9\u001b[0m \u001b[1;33m\u001b[0m\u001b[0m\n\u001b[0;32m     10\u001b[0m \u001b[1;32mwith\u001b[0m \u001b[0mtqdm\u001b[0m\u001b[1;33m(\u001b[0m\u001b[0mtotal\u001b[0m\u001b[1;33m=\u001b[0m\u001b[0mval_len\u001b[0m\u001b[1;33m)\u001b[0m \u001b[1;32mas\u001b[0m \u001b[0mpbar\u001b[0m\u001b[1;33m:\u001b[0m\u001b[1;33m\u001b[0m\u001b[1;33m\u001b[0m\u001b[0m\n\u001b[1;32m---> 11\u001b[1;33m     \u001b[1;32mfor\u001b[0m \u001b[0mstep\u001b[0m\u001b[1;33m,\u001b[0m \u001b[1;33m(\u001b[0m\u001b[0mbx\u001b[0m\u001b[1;33m,\u001b[0m \u001b[0mby\u001b[0m\u001b[1;33m)\u001b[0m \u001b[1;32min\u001b[0m \u001b[0menumerate\u001b[0m\u001b[1;33m(\u001b[0m\u001b[0mdata_loader\u001b[0m\u001b[1;33m[\u001b[0m\u001b[1;34m'val'\u001b[0m\u001b[1;33m]\u001b[0m\u001b[1;33m)\u001b[0m\u001b[1;33m:\u001b[0m\u001b[1;33m\u001b[0m\u001b[1;33m\u001b[0m\u001b[0m\n\u001b[0m\u001b[0;32m     12\u001b[0m         \u001b[1;31m# 训练\u001b[0m\u001b[1;33m\u001b[0m\u001b[1;33m\u001b[0m\u001b[1;33m\u001b[0m\u001b[0m\n\u001b[0;32m     13\u001b[0m         \u001b[0mbx\u001b[0m \u001b[1;33m=\u001b[0m \u001b[0mbx\u001b[0m\u001b[1;33m.\u001b[0m\u001b[0mfloat\u001b[0m\u001b[1;33m(\u001b[0m\u001b[1;33m)\u001b[0m\u001b[1;33m.\u001b[0m\u001b[0mto\u001b[0m\u001b[1;33m(\u001b[0m\u001b[0mDEVICE\u001b[0m\u001b[1;33m)\u001b[0m\u001b[1;33m\u001b[0m\u001b[1;33m\u001b[0m\u001b[0m\n",
      "\u001b[1;31mNameError\u001b[0m: name 'data_loader' is not defined"
     ]
    }
   ],
   "source": [
    "from tqdm import tqdm\n",
    "\n",
    "net = MyNet().to(DEVICE)\n",
    "net.load_state_dict(torch.load(PKL_DIR_READ))\n",
    "net.eval()\n",
    "\n",
    "running_correct = 0\n",
    "\n",
    "with tqdm(total=val_len) as pbar:\n",
    "    for step, (bx, by) in enumerate(data_loader['val']):\n",
    "        # 训练\n",
    "        bx = bx.float().to(DEVICE)\n",
    "        by = by.long().to(DEVICE)\n",
    "\n",
    "        prediction = net(bx)\n",
    "\n",
    "        # 统计成效\n",
    "        pre = torch.argmax(torch.softmax(prediction, dim=1), dim=1)\n",
    "        my_correct = sum(pre.cpu().numpy() == by.cpu().numpy())\n",
    "        my_acc = my_correct / BATCH_SIZE\n",
    "        running_correct += my_correct\n",
    "\n",
    "        # 更新进度条\n",
    "        pbar.update(1)\n",
    "        pbar.set_description('Correct: %d/%d, Acc: %.4f' % (\n",
    "                              my_correct, BATCH_SIZE, my_correct / BATCH_SIZE))\n",
    "\n",
    "# 输出一轮结果\n",
    "print('Correct: %d/%d, Acc: %.4f' % (\n",
    "       running_correct, val_size, running_correct / val_size))"
   ]
  },
  {
   "cell_type": "markdown",
   "metadata": {},
   "source": [
    "## 4.1 导出 test 结果"
   ]
  },
  {
   "cell_type": "code",
   "execution_count": null,
   "metadata": {},
   "outputs": [],
   "source": []
  }
 ],
 "metadata": {
  "kernelspec": {
   "display_name": "Python 3",
   "language": "python",
   "name": "python3"
  },
  "language_info": {
   "codemirror_mode": {
    "name": "ipython",
    "version": 3
   },
   "file_extension": ".py",
   "mimetype": "text/x-python",
   "name": "python",
   "nbconvert_exporter": "python",
   "pygments_lexer": "ipython3",
   "version": "3.7.4"
  }
 },
 "nbformat": 4,
 "nbformat_minor": 2
}
