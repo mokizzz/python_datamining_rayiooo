{
 "cells": [
  {
   "cell_type": "code",
   "execution_count": 1,
   "metadata": {},
   "outputs": [
    {
     "name": "stdout",
     "output_type": "stream",
     "text": [
      "F:\\Codes\\Datasets\\190829_Kanshan_zjfx\n"
     ]
    }
   ],
   "source": [
    "cd ../../../Datasets/190829_Kanshan_zjfx"
   ]
  },
  {
   "cell_type": "code",
   "execution_count": 2,
   "metadata": {},
   "outputs": [
    {
     "name": "stdout",
     "output_type": "stream",
     "text": [
      " 驱动器 F 中的卷是 存储\n",
      " 卷的序列号是 C14D-581B\n",
      "\n",
      " F:\\Codes\\Datasets\\190829_Kanshan_zjfx 的目录\n",
      "\n",
      "2019/10/21  18:51    <DIR>          .\n",
      "2019/10/21  18:51    <DIR>          ..\n",
      "2019/09/26  19:08     5,805,965,112 answer_info_0926.txt\n",
      "2019/09/26  18:10       333,836,065 invite_info_0926.txt\n",
      "2019/09/28  12:14        37,860,903 invite_info_evaluate_1_0926.txt\n",
      "2019/09/26  17:12       552,574,982 member_info_0926.txt\n",
      "2019/09/26  18:01     1,074,273,891 question_info_0926.txt\n",
      "2019/10/18  16:35    <DIR>          sample\n",
      "2019/08/05  17:19        15,951,125 single_word_vectors_64d.txt\n",
      "2019/08/05  17:20        69,411,196 topic_vectors_64d.txt\n",
      "2019/08/05  17:19     1,230,810,962 word_vectors_64d.txt\n",
      "               8 个文件  9,120,684,236 字节\n",
      "               3 个目录 421,294,071,808 可用字节\n"
     ]
    }
   ],
   "source": [
    "ls"
   ]
  },
  {
   "cell_type": "markdown",
   "metadata": {},
   "source": [
    "## 0.1 超参数"
   ]
  },
  {
   "cell_type": "code",
   "execution_count": 13,
   "metadata": {},
   "outputs": [
    {
     "data": {
      "text/plain": [
       "device(type='cpu')"
      ]
     },
     "execution_count": 13,
     "metadata": {},
     "output_type": "execute_result"
    }
   ],
   "source": [
    "import torch\n",
    "\n",
    "BATCH_SIZE = 8192\n",
    "DO_DATASET_BALANCE = False\n",
    "EPOCH = 32\n",
    "LR = 0.01\n",
    "TRAIN_ALL = False\n",
    "\n",
    "PKL_DIR_READ = '../../Jupyter/190919_DataMiningHW/project3/storage/train_param.pkl'\n",
    "PKL_DIR_OUT = '../../Jupyter/190919_DataMiningHW/project3/storage/train_param.pkl'\n",
    "\n",
    "DEVICE = torch.device('cuda') if torch.cuda.is_available() else torch.device('cpu')\n",
    "DEVICE"
   ]
  },
  {
   "cell_type": "markdown",
   "metadata": {},
   "source": [
    "## 0.2 数据分析"
   ]
  },
  {
   "cell_type": "code",
   "execution_count": 3,
   "metadata": {},
   "outputs": [
    {
     "name": "stdout",
     "output_type": "stream",
     "text": [
      "每列类别数：\n",
      "用户id 1931654\n",
      "性别 3\n",
      "创作关键词 1\n",
      "创作数量等级 1\n",
      "创作热度等级 1\n",
      "注册类型 1\n",
      "注册平台 1\n",
      "访问评率 5\n",
      "用户二分类特征a 2\n",
      "用户二分类特征b 2\n",
      "用户二分类特征c 2\n",
      "用户二分类特征d 2\n",
      "用户二分类特征e 2\n",
      "用户多分类特征a 2561\n",
      "用户多分类特征b 291\n",
      "用户多分类特征c 428\n",
      "用户多分类特征d 1556\n",
      "用户多分类特征e 2\n",
      "盐值 732\n",
      "关注话题 1301436\n",
      "感兴趣话题 1399721\n"
     ]
    }
   ],
   "source": [
    "import pandas as pd\n",
    "user_info = pd.read_csv('member_info_0926.txt', header=None, sep='\\t')\n",
    "user_info.columns = ['用户id','性别','创作关键词','创作数量等级','创作热度等级','注册类型','注册平台','访问评率','用户二分类特征a','用户二分类特征b','用户二分类特征c','用户二分类特征d','用户二分类特征e','用户多分类特征a','用户多分类特征b','用户多分类特征c','用户多分类特征d','用户多分类特征e','盐值','关注话题','感兴趣话题']\n",
    "print('每列类别数：')\n",
    "for col in user_info.columns:\n",
    "    print(col, len(user_info[col].unique()))"
   ]
  },
  {
   "cell_type": "code",
   "execution_count": 4,
   "metadata": {
    "scrolled": true
   },
   "outputs": [
    {
     "name": "stdout",
     "output_type": "stream",
     "text": [
      "每列类别数：\n",
      "问题id 1829900\n",
      "问题创建时间 54617\n",
      "问题标题单字编码 1828611\n",
      "问题标题切词编码 1786981\n",
      "问题描述单字编码 831554\n",
      "问题描述切词编码 816606\n",
      "问题绑定话题 1166444\n"
     ]
    }
   ],
   "source": [
    "question_info = pd.read_csv('question_info_0926.txt', header=None, sep='\\t')\n",
    "question_info.columns = ['问题id','问题创建时间','问题标题单字编码','问题标题切词编码','问题描述单字编码','问题描述切词编码','问题绑定话题']\n",
    "print('每列类别数：')\n",
    "for col in question_info.columns:\n",
    "    print(col, len(question_info[col].unique()))"
   ]
  },
  {
   "cell_type": "markdown",
   "metadata": {},
   "source": [
    "## 1.1 加载数据集"
   ]
  },
  {
   "cell_type": "code",
   "execution_count": 4,
   "metadata": {},
   "outputs": [
    {
     "name": "stdout",
     "output_type": "stream",
     "text": [
      "ok\n"
     ]
    }
   ],
   "source": [
    "import pandas as pd\n",
    "\n",
    "# 导入数据\n",
    "user_info = pd.read_csv('member_info_0926.txt', header=None, sep='\\t')\n",
    "question_info = pd.read_csv('question_info_0926.txt', header=None, sep='\\t')\n",
    "train = pd.read_csv('invite_info_0926.txt', header=None, sep='\\t')\n",
    "test = pd.read_csv('invite_info_evaluate_1_0926.txt', header=None, sep='\\t')\n",
    "\n",
    "user_info.columns = ['用户id','性别','创作关键词','创作数量等级','创作热度等级',\n",
    "                     '注册类型','注册平台','访问评率','用户二分类特征a',\n",
    "                     '用户二分类特征b','用户二分类特征c','用户二分类特征d',\n",
    "                     '用户二分类特征e','用户多分类特征a','用户多分类特征b',\n",
    "                     '用户多分类特征c','用户多分类特征d','用户多分类特征e',\n",
    "                     '盐值','关注话题','感兴趣话题']\n",
    "user_info  = user_info.drop(['创作关键词','创作数量等级','创作热度等级',\n",
    "                             '注册类型','注册平台'], axis=1)\n",
    "question_info.columns = ['问题id','问题创建时间','问题标题单字编码',\n",
    "                         '问题标题切词编码','问题描述单字编码',\n",
    "                         '问题描述切词编码','问题绑定话题']\n",
    "\n",
    "train.columns = ['问题id', '用户id', '邀请创建时间','是否回答']\n",
    "train = pd.merge(train, user_info, how='left', on='用户id')\n",
    "train = pd.merge(train, question_info, how='left', on='问题id')\n",
    "\n",
    "test.columns = ['问题id', '用户id', '邀请创建时间']\n",
    "test = pd.merge(test, user_info, how='left', on='用户id')\n",
    "test = pd.merge(test, question_info, how='left', on='问题id')\n",
    "\n",
    "print('ok')"
   ]
  },
  {
   "cell_type": "code",
   "execution_count": 11,
   "metadata": {},
   "outputs": [
    {
     "name": "stdout",
     "output_type": "stream",
     "text": [
      "Index(['问题id', '用户id', '邀请创建时间', '性别', '是否回答', '用户二分类特征a', '用户二分类特征b',\n",
      "       '用户二分类特征c', '用户二分类特征d', '用户二分类特征e', '用户多分类特征a', '用户多分类特征b', '用户多分类特征c',\n",
      "       '用户多分类特征d', '用户多分类特征e', '盐值', '访问评率', '邀请问题间隔-day', '关注话题命中数'],\n",
      "      dtype='object')\n"
     ]
    }
   ],
   "source": [
    "# 数据合并\n",
    "data = pd.concat([train, test], axis=0, sort=True)\n",
    "\n",
    "# 用于保存提交结果\n",
    "result_append = data[['问题id', '用户id', '邀请创建时间']][train.shape[0]:]\n",
    "\n",
    "# 数据处理\n",
    "data['邀请创建时间-day'] = data['邀请创建时间'].apply(lambda x:x.split('-')[0].split('D')[1])\n",
    "data['邀请创建时间-hour'] = data['邀请创建时间'].apply(lambda x:x.split('-')[1].split('H')[1])\n",
    "data['问题创建时间-day'] = data['问题创建时间'].apply(lambda x:x.split('-')[0].split('D')[1])\n",
    "data['问题创建时间-hour'] = data['问题创建时间'].apply(lambda x:x.split('-')[1].split('H')[1])\n",
    "\n",
    "data['邀请问题间隔-day'] = data['邀请创建时间-day'].astype('int') - data['问题创建时间-day'].astype('int')\n",
    "\n",
    "data['关注话题命中数'] = data['关注话题'] + ',' + data['问题绑定话题']\n",
    "data['关注话题命中数'] = data['关注话题命中数'].apply(lambda x: len(x.split(',')) - len(set(x.split(','))))\n",
    "\n",
    "# 删除的特征并非不重要，相反这部分的数据很重要，如何处理这部分特征有很大的发挥空间，本baseline不涉及这些特征。\n",
    "drop_feat = ['问题标题单字编码','问题标题切词编码','问题描述单字编码',\n",
    "             '问题描述切词编码','问题绑定话题', '关注话题','感兴趣话题',\n",
    "             '问题创建时间','邀请创建时间-day','邀请创建时间-hour',\n",
    "             '问题创建时间-day','问题创建时间-hour'#,'邀请创建时间'\n",
    "            ]\n",
    "data  = data.drop(drop_feat, axis=1)\n",
    "data = data[['问题id', '用户id', '邀请创建时间', '性别', '是否回答',\n",
    "             '用户二分类特征a', '用户二分类特征b', '用户二分类特征c',\n",
    "             '用户二分类特征d', '用户二分类特征e', '用户多分类特征a',\n",
    "             '用户多分类特征b', '用户多分类特征c', '用户多分类特征d',\n",
    "             '用户多分类特征e', '盐值', '访问评率', '邀请问题间隔-day',\n",
    "             '关注话题命中数']]\n",
    "\n",
    "print(data.columns)"
   ]
  },
  {
   "cell_type": "markdown",
   "metadata": {},
   "source": [
    "## 1.2 处理数据集"
   ]
  },
  {
   "cell_type": "markdown",
   "metadata": {},
   "source": [
    "离散特征的`LabelEncoder`编码。"
   ]
  },
  {
   "cell_type": "code",
   "execution_count": 12,
   "metadata": {
    "scrolled": false
   },
   "outputs": [
    {
     "data": {
      "text/html": [
       "<div>\n",
       "<style scoped>\n",
       "    .dataframe tbody tr th:only-of-type {\n",
       "        vertical-align: middle;\n",
       "    }\n",
       "\n",
       "    .dataframe tbody tr th {\n",
       "        vertical-align: top;\n",
       "    }\n",
       "\n",
       "    .dataframe thead th {\n",
       "        text-align: right;\n",
       "    }\n",
       "</style>\n",
       "<table border=\"1\" class=\"dataframe\">\n",
       "  <thead>\n",
       "    <tr style=\"text-align: right;\">\n",
       "      <th></th>\n",
       "      <th>问题id</th>\n",
       "      <th>用户id</th>\n",
       "      <th>邀请创建时间</th>\n",
       "      <th>性别</th>\n",
       "      <th>是否回答</th>\n",
       "      <th>用户二分类特征a</th>\n",
       "      <th>用户二分类特征b</th>\n",
       "      <th>用户二分类特征c</th>\n",
       "      <th>用户二分类特征d</th>\n",
       "      <th>用户二分类特征e</th>\n",
       "      <th>用户多分类特征a</th>\n",
       "      <th>用户多分类特征b</th>\n",
       "      <th>用户多分类特征c</th>\n",
       "      <th>用户多分类特征d</th>\n",
       "      <th>用户多分类特征e</th>\n",
       "      <th>盐值</th>\n",
       "      <th>访问评率</th>\n",
       "      <th>邀请问题间隔-day</th>\n",
       "      <th>关注话题命中数</th>\n",
       "    </tr>\n",
       "  </thead>\n",
       "  <tbody>\n",
       "    <tr>\n",
       "      <th>0</th>\n",
       "      <td>Q2166419046</td>\n",
       "      <td>M401693808</td>\n",
       "      <td>D3865-H22</td>\n",
       "      <td>2</td>\n",
       "      <td>0.0</td>\n",
       "      <td>-1.404297</td>\n",
       "      <td>1.532980</td>\n",
       "      <td>-0.201699</td>\n",
       "      <td>-0.591583</td>\n",
       "      <td>-0.283857</td>\n",
       "      <td>1917</td>\n",
       "      <td>170</td>\n",
       "      <td>244</td>\n",
       "      <td>799</td>\n",
       "      <td>0.343009</td>\n",
       "      <td>-1.133318</td>\n",
       "      <td>1.161576</td>\n",
       "      <td>-0.147008</td>\n",
       "      <td>1.313411</td>\n",
       "    </tr>\n",
       "    <tr>\n",
       "      <th>1</th>\n",
       "      <td>Q1550017551</td>\n",
       "      <td>M3392373099</td>\n",
       "      <td>D3844-H11</td>\n",
       "      <td>2</td>\n",
       "      <td>0.0</td>\n",
       "      <td>0.712100</td>\n",
       "      <td>-0.652324</td>\n",
       "      <td>-0.201699</td>\n",
       "      <td>-0.591583</td>\n",
       "      <td>-0.283857</td>\n",
       "      <td>1092</td>\n",
       "      <td>115</td>\n",
       "      <td>249</td>\n",
       "      <td>657</td>\n",
       "      <td>-2.915374</td>\n",
       "      <td>-1.036384</td>\n",
       "      <td>-0.456167</td>\n",
       "      <td>-0.035249</td>\n",
       "      <td>-0.438016</td>\n",
       "    </tr>\n",
       "    <tr>\n",
       "      <th>2</th>\n",
       "      <td>Q604029601</td>\n",
       "      <td>M2317670257</td>\n",
       "      <td>D3862-H15</td>\n",
       "      <td>2</td>\n",
       "      <td>0.0</td>\n",
       "      <td>0.712100</td>\n",
       "      <td>-0.652324</td>\n",
       "      <td>-0.201699</td>\n",
       "      <td>-0.591583</td>\n",
       "      <td>-0.283857</td>\n",
       "      <td>1380</td>\n",
       "      <td>206</td>\n",
       "      <td>0</td>\n",
       "      <td>440</td>\n",
       "      <td>0.343009</td>\n",
       "      <td>-0.093474</td>\n",
       "      <td>1.161576</td>\n",
       "      <td>-0.166730</td>\n",
       "      <td>-0.438016</td>\n",
       "    </tr>\n",
       "    <tr>\n",
       "      <th>3</th>\n",
       "      <td>Q2350061229</td>\n",
       "      <td>M1618461867</td>\n",
       "      <td>D3849-H11</td>\n",
       "      <td>2</td>\n",
       "      <td>0.0</td>\n",
       "      <td>0.712100</td>\n",
       "      <td>-0.652324</td>\n",
       "      <td>-0.201699</td>\n",
       "      <td>1.690380</td>\n",
       "      <td>-0.283857</td>\n",
       "      <td>1092</td>\n",
       "      <td>115</td>\n",
       "      <td>244</td>\n",
       "      <td>799</td>\n",
       "      <td>0.343009</td>\n",
       "      <td>-1.062820</td>\n",
       "      <td>-0.995415</td>\n",
       "      <td>-0.160156</td>\n",
       "      <td>-0.438016</td>\n",
       "    </tr>\n",
       "    <tr>\n",
       "      <th>4</th>\n",
       "      <td>Q2443223942</td>\n",
       "      <td>M3544409350</td>\n",
       "      <td>D3867-H4</td>\n",
       "      <td>2</td>\n",
       "      <td>0.0</td>\n",
       "      <td>0.712100</td>\n",
       "      <td>-0.652324</td>\n",
       "      <td>-0.201699</td>\n",
       "      <td>-0.591583</td>\n",
       "      <td>-0.283857</td>\n",
       "      <td>506</td>\n",
       "      <td>204</td>\n",
       "      <td>175</td>\n",
       "      <td>705</td>\n",
       "      <td>0.343009</td>\n",
       "      <td>-1.142130</td>\n",
       "      <td>-0.456167</td>\n",
       "      <td>-0.041823</td>\n",
       "      <td>-0.438016</td>\n",
       "    </tr>\n",
       "    <tr>\n",
       "      <th>5</th>\n",
       "      <td>Q640765464</td>\n",
       "      <td>M2818659842</td>\n",
       "      <td>D3841-H16</td>\n",
       "      <td>1</td>\n",
       "      <td>0.0</td>\n",
       "      <td>0.712100</td>\n",
       "      <td>-0.652324</td>\n",
       "      <td>-0.201699</td>\n",
       "      <td>-0.591583</td>\n",
       "      <td>-0.283857</td>\n",
       "      <td>1380</td>\n",
       "      <td>206</td>\n",
       "      <td>0</td>\n",
       "      <td>440</td>\n",
       "      <td>0.343009</td>\n",
       "      <td>-0.401902</td>\n",
       "      <td>-0.995415</td>\n",
       "      <td>-0.133860</td>\n",
       "      <td>1.313411</td>\n",
       "    </tr>\n",
       "    <tr>\n",
       "      <th>6</th>\n",
       "      <td>Q795459266</td>\n",
       "      <td>M2818659842</td>\n",
       "      <td>D3861-H20</td>\n",
       "      <td>1</td>\n",
       "      <td>0.0</td>\n",
       "      <td>0.712100</td>\n",
       "      <td>-0.652324</td>\n",
       "      <td>-0.201699</td>\n",
       "      <td>-0.591583</td>\n",
       "      <td>-0.283857</td>\n",
       "      <td>1380</td>\n",
       "      <td>206</td>\n",
       "      <td>0</td>\n",
       "      <td>440</td>\n",
       "      <td>0.343009</td>\n",
       "      <td>-0.401902</td>\n",
       "      <td>-0.995415</td>\n",
       "      <td>1.430767</td>\n",
       "      <td>-0.438016</td>\n",
       "    </tr>\n",
       "    <tr>\n",
       "      <th>7</th>\n",
       "      <td>Q190554387</td>\n",
       "      <td>M1581217469</td>\n",
       "      <td>D3850-H8</td>\n",
       "      <td>2</td>\n",
       "      <td>1.0</td>\n",
       "      <td>0.712100</td>\n",
       "      <td>-0.652324</td>\n",
       "      <td>-0.201699</td>\n",
       "      <td>-0.591583</td>\n",
       "      <td>-0.283857</td>\n",
       "      <td>1092</td>\n",
       "      <td>115</td>\n",
       "      <td>0</td>\n",
       "      <td>128</td>\n",
       "      <td>0.343009</td>\n",
       "      <td>0.831811</td>\n",
       "      <td>-0.456167</td>\n",
       "      <td>-0.173304</td>\n",
       "      <td>-0.438016</td>\n",
       "    </tr>\n",
       "    <tr>\n",
       "      <th>8</th>\n",
       "      <td>Q1958712851</td>\n",
       "      <td>M3021021791</td>\n",
       "      <td>D3850-H19</td>\n",
       "      <td>2</td>\n",
       "      <td>0.0</td>\n",
       "      <td>-1.404297</td>\n",
       "      <td>1.532980</td>\n",
       "      <td>-0.201699</td>\n",
       "      <td>-0.591583</td>\n",
       "      <td>-0.283857</td>\n",
       "      <td>1486</td>\n",
       "      <td>170</td>\n",
       "      <td>249</td>\n",
       "      <td>657</td>\n",
       "      <td>0.343009</td>\n",
       "      <td>-1.265502</td>\n",
       "      <td>1.161576</td>\n",
       "      <td>-0.166730</td>\n",
       "      <td>-0.438016</td>\n",
       "    </tr>\n",
       "    <tr>\n",
       "      <th>9</th>\n",
       "      <td>Q311993584</td>\n",
       "      <td>M1766315480</td>\n",
       "      <td>D3839-H15</td>\n",
       "      <td>1</td>\n",
       "      <td>0.0</td>\n",
       "      <td>0.712100</td>\n",
       "      <td>-0.652324</td>\n",
       "      <td>-0.201699</td>\n",
       "      <td>-0.591583</td>\n",
       "      <td>-0.283857</td>\n",
       "      <td>1092</td>\n",
       "      <td>115</td>\n",
       "      <td>370</td>\n",
       "      <td>1252</td>\n",
       "      <td>0.343009</td>\n",
       "      <td>0.179706</td>\n",
       "      <td>-0.995415</td>\n",
       "      <td>-0.160156</td>\n",
       "      <td>-0.438016</td>\n",
       "    </tr>\n",
       "  </tbody>\n",
       "</table>\n",
       "</div>"
      ],
      "text/plain": [
       "          问题id         用户id     邀请创建时间  性别  是否回答  用户二分类特征a  用户二分类特征b  \\\n",
       "0  Q2166419046   M401693808  D3865-H22   2   0.0 -1.404297  1.532980   \n",
       "1  Q1550017551  M3392373099  D3844-H11   2   0.0  0.712100 -0.652324   \n",
       "2   Q604029601  M2317670257  D3862-H15   2   0.0  0.712100 -0.652324   \n",
       "3  Q2350061229  M1618461867  D3849-H11   2   0.0  0.712100 -0.652324   \n",
       "4  Q2443223942  M3544409350   D3867-H4   2   0.0  0.712100 -0.652324   \n",
       "5   Q640765464  M2818659842  D3841-H16   1   0.0  0.712100 -0.652324   \n",
       "6   Q795459266  M2818659842  D3861-H20   1   0.0  0.712100 -0.652324   \n",
       "7   Q190554387  M1581217469   D3850-H8   2   1.0  0.712100 -0.652324   \n",
       "8  Q1958712851  M3021021791  D3850-H19   2   0.0 -1.404297  1.532980   \n",
       "9   Q311993584  M1766315480  D3839-H15   1   0.0  0.712100 -0.652324   \n",
       "\n",
       "   用户二分类特征c  用户二分类特征d  用户二分类特征e  用户多分类特征a  用户多分类特征b  用户多分类特征c  用户多分类特征d  \\\n",
       "0 -0.201699 -0.591583 -0.283857      1917       170       244       799   \n",
       "1 -0.201699 -0.591583 -0.283857      1092       115       249       657   \n",
       "2 -0.201699 -0.591583 -0.283857      1380       206         0       440   \n",
       "3 -0.201699  1.690380 -0.283857      1092       115       244       799   \n",
       "4 -0.201699 -0.591583 -0.283857       506       204       175       705   \n",
       "5 -0.201699 -0.591583 -0.283857      1380       206         0       440   \n",
       "6 -0.201699 -0.591583 -0.283857      1380       206         0       440   \n",
       "7 -0.201699 -0.591583 -0.283857      1092       115         0       128   \n",
       "8 -0.201699 -0.591583 -0.283857      1486       170       249       657   \n",
       "9 -0.201699 -0.591583 -0.283857      1092       115       370      1252   \n",
       "\n",
       "   用户多分类特征e        盐值      访问评率  邀请问题间隔-day   关注话题命中数  \n",
       "0  0.343009 -1.133318  1.161576   -0.147008  1.313411  \n",
       "1 -2.915374 -1.036384 -0.456167   -0.035249 -0.438016  \n",
       "2  0.343009 -0.093474  1.161576   -0.166730 -0.438016  \n",
       "3  0.343009 -1.062820 -0.995415   -0.160156 -0.438016  \n",
       "4  0.343009 -1.142130 -0.456167   -0.041823 -0.438016  \n",
       "5  0.343009 -0.401902 -0.995415   -0.133860  1.313411  \n",
       "6  0.343009 -0.401902 -0.995415    1.430767 -0.438016  \n",
       "7  0.343009  0.831811 -0.456167   -0.173304 -0.438016  \n",
       "8  0.343009 -1.265502  1.161576   -0.166730 -0.438016  \n",
       "9  0.343009  0.179706 -0.995415   -0.160156 -0.438016  "
      ]
     },
     "execution_count": 12,
     "metadata": {},
     "output_type": "execute_result"
    }
   ],
   "source": [
    "from sklearn.preprocessing import LabelEncoder\n",
    "\n",
    "# 离散值编码\n",
    "class_feat = [#'用户id','问题id',\n",
    "              '性别', '访问评率','用户多分类特征a','用户多分类特征b',\n",
    "              '用户多分类特征c','用户多分类特征d','用户多分类特征e']\n",
    "encoder = LabelEncoder()\n",
    "for i in class_feat:\n",
    "    data[i] = encoder.fit_transform(data[i])\n",
    "    \n",
    "# 连续值标准化\n",
    "class_feat = ['用户二分类特征a', '用户二分类特征b', '用户二分类特征c', \n",
    "              '用户二分类特征d', '用户二分类特征e', '用户多分类特征e',\n",
    "              '盐值', '访问评率', '邀请问题间隔-day', '关注话题命中数']\n",
    "for i in class_feat:\n",
    "    data[i] = (data[i] - data[i].mean(axis=0)) / data[i].std(axis=0)\n",
    "    \n",
    "data.iloc[:10]"
   ]
  },
  {
   "cell_type": "markdown",
   "metadata": {},
   "source": [
    "## 1.3 包装数据集"
   ]
  },
  {
   "cell_type": "code",
   "execution_count": 14,
   "metadata": {},
   "outputs": [
    {
     "name": "stdout",
     "output_type": "stream",
     "text": [
      "ok.\n"
     ]
    }
   ],
   "source": [
    "import numpy as np\n",
    "\n",
    "if DO_DATASET_BALANCE:\n",
    "    temp = data[data['是否回答'] == 1]  # 用于均衡的数据\n",
    "    train_x = data[~np.isnan(data['是否回答'])].append([temp, temp, temp, temp]).values\n",
    "else:\n",
    "    train_x = data[~np.isnan(data['是否回答'])].values\n",
    "train_x = train_x[['性别', '是否回答',\n",
    "             '用户二分类特征a', '用户二分类特征b', '用户二分类特征c',\n",
    "             '用户二分类特征d', '用户二分类特征e', '用户多分类特征a',\n",
    "             '用户多分类特征b', '用户多分类特征c', '用户多分类特征d',\n",
    "             '用户多分类特征e', '盐值', '访问评率', '邀请问题间隔-day',\n",
    "             '关注话题命中数']]\n",
    "train_y = train_x[:, 4]\n",
    "\n",
    "test_x = data[np.isnan(data['是否回答'])].values\n",
    "test_x = test_x[['性别', '是否回答',\n",
    "             '用户二分类特征a', '用户二分类特征b', '用户二分类特征c',\n",
    "             '用户二分类特征d', '用户二分类特征e', '用户多分类特征a',\n",
    "             '用户多分类特征b', '用户多分类特征c', '用户多分类特征d',\n",
    "             '用户多分类特征e', '盐值', '访问评率', '邀请问题间隔-day',\n",
    "             '关注话题命中数']]\n",
    "test_y = test_x[:, 4]\n",
    "print('ok.')"
   ]
  },
  {
   "cell_type": "code",
   "execution_count": 15,
   "metadata": {},
   "outputs": [
    {
     "name": "stdout",
     "output_type": "stream",
     "text": [
      "ok.\n"
     ]
    }
   ],
   "source": [
    "from torch.utils.data import Dataset, DataLoader\n",
    "\n",
    "\n",
    "class MyDataset(Dataset):\n",
    "    def __init__(self, mode='train'):\n",
    "        self.mode = mode\n",
    "        if mode == 'train':\n",
    "            self.data = {\n",
    "                'x': train_x,\n",
    "                'y': train_y,\n",
    "            }\n",
    "        elif mode == 'test':\n",
    "            self.data = {\n",
    "                'x': test_x,\n",
    "                'y': test_y,\n",
    "            }\n",
    "        else:\n",
    "            raise\n",
    "            \n",
    "    def __getitem__(self, index):\n",
    "        return self.data['x'][index], self.data['y'][index]\n",
    "        \n",
    "    def __len__(self):\n",
    "        return len(self.data['x'])\n",
    "    \n",
    "    \n",
    "print('ok.')"
   ]
  },
  {
   "cell_type": "code",
   "execution_count": 16,
   "metadata": {},
   "outputs": [
    {
     "name": "stdout",
     "output_type": "stream",
     "text": [
      "train_size: 7591329\n",
      "val_size: 1897833\n",
      "test_size: 1141683\n"
     ]
    }
   ],
   "source": [
    "from torch.utils.data import random_split\n",
    "\n",
    "full_train_dataset = MyDataset(mode='train')\n",
    "test_dataset = MyDataset(mode='test')\n",
    "train_size, val_size, test_size = 0, 0, 0\n",
    "\n",
    "if TRAIN_ALL:\n",
    "    data_loader = {\n",
    "        'train': DataLoader(dataset=full_train_dataset, \n",
    "                            batch_size=BATCH_SIZE, \n",
    "                            shuffle=True),\n",
    "        'test': DataLoader(dataset=test_dataset,\n",
    "#                            batch_size=BATCH_SIZE,\n",
    "                           shuffle=False),\n",
    "    }\n",
    "    train_size = len(full_train_dataset)\n",
    "    test_size = len(test_dataset)\n",
    "else:\n",
    "    train_size = int(0.8 * len(full_train_dataset))\n",
    "    val_size = len(full_train_dataset) - train_size\n",
    "    train_dataset, val_dataset = random_split(full_train_dataset, [train_size, val_size])\n",
    "\n",
    "    data_loader = {\n",
    "        'train': DataLoader(dataset=train_dataset, \n",
    "                            batch_size=BATCH_SIZE, \n",
    "                            shuffle=True),\n",
    "        'val': DataLoader(dataset=val_dataset, \n",
    "                          batch_size=BATCH_SIZE,\n",
    "                          shuffle=False),\n",
    "        'test': DataLoader(dataset=test_dataset,\n",
    "#                            batch_size=BATCH_SIZE,\n",
    "                           shuffle=False),\n",
    "    }\n",
    "    train_size = len(train_dataset)\n",
    "    val_size = len(val_dataset)\n",
    "    test_size = len(test_dataset)\n",
    "    \n",
    "print('train_size:', len(train_dataset))\n",
    "print('val_size:', len(val_dataset))\n",
    "print('test_size:', len(test_dataset))"
   ]
  },
  {
   "cell_type": "markdown",
   "metadata": {},
   "source": [
    "## 2.1 构建网络"
   ]
  },
  {
   "cell_type": "code",
   "execution_count": 10,
   "metadata": {},
   "outputs": [
    {
     "data": {
      "text/plain": [
       "MyNet(\n",
       "  (embed_sex): Embedding(3, 2)\n",
       "  (embed_multi_a): Embedding(2561, 13)\n",
       "  (embed_multi_b): Embedding(291, 6)\n",
       "  (embed_multi_c): Embedding(428, 7)\n",
       "  (embed_multi_d): Embedding(1556, 11)\n",
       "  (fc1): Linear(in_features=49, out_features=1024, bias=True)\n",
       "  (fc2): Linear(in_features=1024, out_features=512, bias=True)\n",
       "  (fc3): Linear(in_features=512, out_features=256, bias=True)\n",
       "  (fc4): Linear(in_features=256, out_features=128, bias=True)\n",
       "  (fc5): Linear(in_features=128, out_features=64, bias=True)\n",
       "  (fc6): Linear(in_features=64, out_features=16, bias=True)\n",
       "  (fc7): Linear(in_features=16, out_features=2, bias=True)\n",
       "  (relu): ReLU(inplace)\n",
       ")"
      ]
     },
     "execution_count": 10,
     "metadata": {},
     "output_type": "execute_result"
    }
   ],
   "source": [
    "from my_model import MyNet\n",
    "\n",
    "net = MyNet().to(DEVICE)\n",
    "net"
   ]
  },
  {
   "cell_type": "markdown",
   "metadata": {},
   "source": [
    "## 2.2 优化器、损失函数"
   ]
  },
  {
   "cell_type": "code",
   "execution_count": 67,
   "metadata": {},
   "outputs": [
    {
     "data": {
      "text/plain": [
       "'ok'"
      ]
     },
     "execution_count": 67,
     "metadata": {},
     "output_type": "execute_result"
    }
   ],
   "source": [
    "from torch import optim, nn\n",
    "\n",
    "loss_function = nn.CrossEntropyLoss()\n",
    "optimizer = optim.Adam(net.parameters(), lr=0.0001)\n",
    "# scheduler = optim.lr_scheduler.StepLR(optimizer, step_size=2, gamma=0.75)\n",
    "\n",
    "'ok'"
   ]
  },
  {
   "cell_type": "markdown",
   "metadata": {},
   "source": [
    "## 2.3 训练"
   ]
  },
  {
   "cell_type": "code",
   "execution_count": 18,
   "metadata": {},
   "outputs": [
    {
     "name": "stdout",
     "output_type": "stream",
     "text": [
      "train_len: 1585\n",
      "val_len: 397\n",
      "test_len: 140\n"
     ]
    }
   ],
   "source": [
    "import math\n",
    "\n",
    "# 计算一轮enumerate的长度\n",
    "train_len = math.ceil(train_size / BATCH_SIZE)\n",
    "val_len = math.ceil(val_size / BATCH_SIZE)\n",
    "test_len = math.ceil(test_size / BATCH_SIZE)\n",
    "\n",
    "print('train_len:', train_len)\n",
    "print('val_len:', val_len)\n",
    "print('test_len:', test_len)"
   ]
  },
  {
   "cell_type": "code",
   "execution_count": 68,
   "metadata": {},
   "outputs": [
    {
     "name": "stderr",
     "output_type": "stream",
     "text": [
      "Epoch: 0, Loss: 0.6504, Acc: 0.0389: 100%|██████████| 1585/1585 [06:53<00:00,  3.83it/s]\n"
     ]
    },
    {
     "name": "stdout",
     "output_type": "stream",
     "text": [
      "Epoch: 0, Loss: 0.6321, Acc: 0.6247, Lr: 0.00010\n"
     ]
    },
    {
     "name": "stderr",
     "output_type": "stream",
     "text": [
      "Epoch: 1, Loss: 0.6156, Acc: 0.0436: 100%|██████████| 1585/1585 [08:07<00:00,  3.25it/s]\n"
     ]
    },
    {
     "name": "stdout",
     "output_type": "stream",
     "text": [
      "Epoch: 1, Loss: 0.6315, Acc: 0.6251, Lr: 0.00010\n"
     ]
    },
    {
     "name": "stderr",
     "output_type": "stream",
     "text": [
      "Epoch: 2, Loss: 0.6852, Acc: 0.0387: 100%|██████████| 1585/1585 [07:31<00:00,  3.51it/s]\n"
     ]
    },
    {
     "name": "stdout",
     "output_type": "stream",
     "text": [
      "Epoch: 2, Loss: 0.6313, Acc: 0.6254, Lr: 0.00010\n"
     ]
    },
    {
     "name": "stderr",
     "output_type": "stream",
     "text": [
      "Epoch: 3, Loss: 0.6398, Acc: 0.0392: 100%|██████████| 1585/1585 [06:51<00:00,  3.85it/s]\n"
     ]
    },
    {
     "name": "stdout",
     "output_type": "stream",
     "text": [
      "Epoch: 3, Loss: 0.6311, Acc: 0.6257, Lr: 0.00010\n"
     ]
    },
    {
     "name": "stderr",
     "output_type": "stream",
     "text": [
      "Epoch: 4, Loss: 0.6307, Acc: 0.0409: 100%|██████████| 1585/1585 [07:09<00:00,  3.69it/s]\n"
     ]
    },
    {
     "name": "stdout",
     "output_type": "stream",
     "text": [
      "Epoch: 4, Loss: 0.6309, Acc: 0.6257, Lr: 0.00010\n"
     ]
    },
    {
     "name": "stderr",
     "output_type": "stream",
     "text": [
      "Epoch: 5, Loss: 0.6468, Acc: 0.0385: 100%|██████████| 1585/1585 [05:58<00:00,  4.43it/s]\n"
     ]
    },
    {
     "name": "stdout",
     "output_type": "stream",
     "text": [
      "Epoch: 5, Loss: 0.6308, Acc: 0.6258, Lr: 0.00010\n"
     ]
    },
    {
     "name": "stderr",
     "output_type": "stream",
     "text": [
      "Epoch: 6, Loss: 0.5988, Acc: 0.0448: 100%|██████████| 1585/1585 [06:06<00:00,  4.32it/s]\n"
     ]
    },
    {
     "name": "stdout",
     "output_type": "stream",
     "text": [
      "Epoch: 6, Loss: 0.6306, Acc: 0.6259, Lr: 0.00010\n"
     ]
    },
    {
     "name": "stderr",
     "output_type": "stream",
     "text": [
      "Epoch: 7, Loss: 0.6240, Acc: 0.0403: 100%|██████████| 1585/1585 [06:01<00:00,  4.39it/s]\n"
     ]
    },
    {
     "name": "stdout",
     "output_type": "stream",
     "text": [
      "Epoch: 7, Loss: 0.6306, Acc: 0.6261, Lr: 0.00010\n"
     ]
    },
    {
     "name": "stderr",
     "output_type": "stream",
     "text": [
      "Epoch: 8, Loss: 0.6405, Acc: 0.0392: 100%|██████████| 1585/1585 [05:59<00:00,  4.41it/s]\n"
     ]
    },
    {
     "name": "stdout",
     "output_type": "stream",
     "text": [
      "Epoch: 8, Loss: 0.6305, Acc: 0.6262, Lr: 0.00010\n"
     ]
    },
    {
     "name": "stderr",
     "output_type": "stream",
     "text": [
      "Epoch: 9, Loss: 0.6289, Acc: 0.0406: 100%|██████████| 1585/1585 [05:34<00:00,  4.75it/s]\n"
     ]
    },
    {
     "name": "stdout",
     "output_type": "stream",
     "text": [
      "Epoch: 9, Loss: 0.6304, Acc: 0.6261, Lr: 0.00010\n"
     ]
    },
    {
     "name": "stderr",
     "output_type": "stream",
     "text": [
      "Epoch: 10, Loss: 0.6314, Acc: 0.0402: 100%|██████████| 1585/1585 [06:05<00:00,  4.34it/s]\n"
     ]
    },
    {
     "name": "stdout",
     "output_type": "stream",
     "text": [
      "Epoch: 10, Loss: 0.6303, Acc: 0.6263, Lr: 0.00010\n"
     ]
    },
    {
     "name": "stderr",
     "output_type": "stream",
     "text": [
      "Epoch: 11, Loss: 0.6312, Acc: 0.0431: 100%|██████████| 1585/1585 [05:56<00:00,  4.45it/s]\n"
     ]
    },
    {
     "name": "stdout",
     "output_type": "stream",
     "text": [
      "Epoch: 11, Loss: 0.6302, Acc: 0.6265, Lr: 0.00010\n"
     ]
    },
    {
     "name": "stderr",
     "output_type": "stream",
     "text": [
      "Epoch: 12, Loss: 0.6138, Acc: 0.0422: 100%|██████████| 1585/1585 [05:28<00:00,  4.82it/s]\n"
     ]
    },
    {
     "name": "stdout",
     "output_type": "stream",
     "text": [
      "Epoch: 12, Loss: 0.6302, Acc: 0.6264, Lr: 0.00010\n"
     ]
    },
    {
     "name": "stderr",
     "output_type": "stream",
     "text": [
      "Epoch: 13, Loss: 0.6463, Acc: 0.0405: 100%|██████████| 1585/1585 [06:03<00:00,  4.37it/s]\n"
     ]
    },
    {
     "name": "stdout",
     "output_type": "stream",
     "text": [
      "Epoch: 13, Loss: 0.6301, Acc: 0.6266, Lr: 0.00010\n"
     ]
    },
    {
     "name": "stderr",
     "output_type": "stream",
     "text": [
      "Epoch: 14, Loss: 0.6314, Acc: 0.6270:  44%|████▍     | 698/1585 [03:00<03:48,  3.88it/s]\n"
     ]
    },
    {
     "ename": "KeyboardInterrupt",
     "evalue": "",
     "output_type": "error",
     "traceback": [
      "\u001b[1;31m---------------------------------------------------------------------------\u001b[0m",
      "\u001b[1;31mKeyboardInterrupt\u001b[0m                         Traceback (most recent call last)",
      "\u001b[1;32m<ipython-input-68-ca99919f411a>\u001b[0m in \u001b[0;36m<module>\u001b[1;34m\u001b[0m\n\u001b[0;32m      6\u001b[0m     \u001b[0mnet\u001b[0m\u001b[1;33m.\u001b[0m\u001b[0mtrain\u001b[0m\u001b[1;33m(\u001b[0m\u001b[1;33m)\u001b[0m\u001b[1;33m\u001b[0m\u001b[1;33m\u001b[0m\u001b[0m\n\u001b[0;32m      7\u001b[0m     \u001b[1;32mwith\u001b[0m \u001b[0mtqdm\u001b[0m\u001b[1;33m(\u001b[0m\u001b[0mtotal\u001b[0m\u001b[1;33m=\u001b[0m\u001b[0mtrain_len\u001b[0m\u001b[1;33m)\u001b[0m \u001b[1;32mas\u001b[0m \u001b[0mpbar\u001b[0m\u001b[1;33m:\u001b[0m\u001b[1;33m\u001b[0m\u001b[1;33m\u001b[0m\u001b[0m\n\u001b[1;32m----> 8\u001b[1;33m         \u001b[1;32mfor\u001b[0m \u001b[0mstep\u001b[0m\u001b[1;33m,\u001b[0m \u001b[1;33m(\u001b[0m\u001b[0mbx\u001b[0m\u001b[1;33m,\u001b[0m \u001b[0mby\u001b[0m\u001b[1;33m)\u001b[0m \u001b[1;32min\u001b[0m \u001b[0menumerate\u001b[0m\u001b[1;33m(\u001b[0m\u001b[0mdata_loader\u001b[0m\u001b[1;33m[\u001b[0m\u001b[1;34m'train'\u001b[0m\u001b[1;33m]\u001b[0m\u001b[1;33m)\u001b[0m\u001b[1;33m:\u001b[0m\u001b[1;33m\u001b[0m\u001b[1;33m\u001b[0m\u001b[0m\n\u001b[0m\u001b[0;32m      9\u001b[0m             \u001b[1;31m# 训练\u001b[0m\u001b[1;33m\u001b[0m\u001b[1;33m\u001b[0m\u001b[1;33m\u001b[0m\u001b[0m\n\u001b[0;32m     10\u001b[0m             \u001b[0mbx\u001b[0m \u001b[1;33m=\u001b[0m \u001b[0mbx\u001b[0m\u001b[1;33m.\u001b[0m\u001b[0mfloat\u001b[0m\u001b[1;33m(\u001b[0m\u001b[1;33m)\u001b[0m\u001b[1;33m.\u001b[0m\u001b[0mto\u001b[0m\u001b[1;33m(\u001b[0m\u001b[0mDEVICE\u001b[0m\u001b[1;33m)\u001b[0m\u001b[1;33m\u001b[0m\u001b[1;33m\u001b[0m\u001b[0m\n",
      "\u001b[1;32mC:\\RAYIOOO\\Programmings\\Anaconda\\lib\\site-packages\\torch\\utils\\data\\dataloader.py\u001b[0m in \u001b[0;36m__next__\u001b[1;34m(self)\u001b[0m\n\u001b[0;32m    344\u001b[0m     \u001b[1;32mdef\u001b[0m \u001b[0m__next__\u001b[0m\u001b[1;33m(\u001b[0m\u001b[0mself\u001b[0m\u001b[1;33m)\u001b[0m\u001b[1;33m:\u001b[0m\u001b[1;33m\u001b[0m\u001b[1;33m\u001b[0m\u001b[0m\n\u001b[0;32m    345\u001b[0m         \u001b[0mindex\u001b[0m \u001b[1;33m=\u001b[0m \u001b[0mself\u001b[0m\u001b[1;33m.\u001b[0m\u001b[0m_next_index\u001b[0m\u001b[1;33m(\u001b[0m\u001b[1;33m)\u001b[0m  \u001b[1;31m# may raise StopIteration\u001b[0m\u001b[1;33m\u001b[0m\u001b[1;33m\u001b[0m\u001b[0m\n\u001b[1;32m--> 346\u001b[1;33m         \u001b[0mdata\u001b[0m \u001b[1;33m=\u001b[0m \u001b[0mself\u001b[0m\u001b[1;33m.\u001b[0m\u001b[0m_dataset_fetcher\u001b[0m\u001b[1;33m.\u001b[0m\u001b[0mfetch\u001b[0m\u001b[1;33m(\u001b[0m\u001b[0mindex\u001b[0m\u001b[1;33m)\u001b[0m  \u001b[1;31m# may raise StopIteration\u001b[0m\u001b[1;33m\u001b[0m\u001b[1;33m\u001b[0m\u001b[0m\n\u001b[0m\u001b[0;32m    347\u001b[0m         \u001b[1;32mif\u001b[0m \u001b[0mself\u001b[0m\u001b[1;33m.\u001b[0m\u001b[0m_pin_memory\u001b[0m\u001b[1;33m:\u001b[0m\u001b[1;33m\u001b[0m\u001b[1;33m\u001b[0m\u001b[0m\n\u001b[0;32m    348\u001b[0m             \u001b[0mdata\u001b[0m \u001b[1;33m=\u001b[0m \u001b[0m_utils\u001b[0m\u001b[1;33m.\u001b[0m\u001b[0mpin_memory\u001b[0m\u001b[1;33m.\u001b[0m\u001b[0mpin_memory\u001b[0m\u001b[1;33m(\u001b[0m\u001b[0mdata\u001b[0m\u001b[1;33m)\u001b[0m\u001b[1;33m\u001b[0m\u001b[1;33m\u001b[0m\u001b[0m\n",
      "\u001b[1;32mC:\\RAYIOOO\\Programmings\\Anaconda\\lib\\site-packages\\torch\\utils\\data\\_utils\\fetch.py\u001b[0m in \u001b[0;36mfetch\u001b[1;34m(self, possibly_batched_index)\u001b[0m\n\u001b[0;32m     45\u001b[0m         \u001b[1;32melse\u001b[0m\u001b[1;33m:\u001b[0m\u001b[1;33m\u001b[0m\u001b[1;33m\u001b[0m\u001b[0m\n\u001b[0;32m     46\u001b[0m             \u001b[0mdata\u001b[0m \u001b[1;33m=\u001b[0m \u001b[0mself\u001b[0m\u001b[1;33m.\u001b[0m\u001b[0mdataset\u001b[0m\u001b[1;33m[\u001b[0m\u001b[0mpossibly_batched_index\u001b[0m\u001b[1;33m]\u001b[0m\u001b[1;33m\u001b[0m\u001b[1;33m\u001b[0m\u001b[0m\n\u001b[1;32m---> 47\u001b[1;33m         \u001b[1;32mreturn\u001b[0m \u001b[0mself\u001b[0m\u001b[1;33m.\u001b[0m\u001b[0mcollate_fn\u001b[0m\u001b[1;33m(\u001b[0m\u001b[0mdata\u001b[0m\u001b[1;33m)\u001b[0m\u001b[1;33m\u001b[0m\u001b[1;33m\u001b[0m\u001b[0m\n\u001b[0m",
      "\u001b[1;32mC:\\RAYIOOO\\Programmings\\Anaconda\\lib\\site-packages\\torch\\utils\\data\\_utils\\collate.py\u001b[0m in \u001b[0;36mdefault_collate\u001b[1;34m(batch)\u001b[0m\n\u001b[0;32m     77\u001b[0m     \u001b[1;32melif\u001b[0m \u001b[0misinstance\u001b[0m\u001b[1;33m(\u001b[0m\u001b[0melem\u001b[0m\u001b[1;33m,\u001b[0m \u001b[0mcontainer_abcs\u001b[0m\u001b[1;33m.\u001b[0m\u001b[0mSequence\u001b[0m\u001b[1;33m)\u001b[0m\u001b[1;33m:\u001b[0m\u001b[1;33m\u001b[0m\u001b[1;33m\u001b[0m\u001b[0m\n\u001b[0;32m     78\u001b[0m         \u001b[0mtransposed\u001b[0m \u001b[1;33m=\u001b[0m \u001b[0mzip\u001b[0m\u001b[1;33m(\u001b[0m\u001b[1;33m*\u001b[0m\u001b[0mbatch\u001b[0m\u001b[1;33m)\u001b[0m\u001b[1;33m\u001b[0m\u001b[1;33m\u001b[0m\u001b[0m\n\u001b[1;32m---> 79\u001b[1;33m         \u001b[1;32mreturn\u001b[0m \u001b[1;33m[\u001b[0m\u001b[0mdefault_collate\u001b[0m\u001b[1;33m(\u001b[0m\u001b[0msamples\u001b[0m\u001b[1;33m)\u001b[0m \u001b[1;32mfor\u001b[0m \u001b[0msamples\u001b[0m \u001b[1;32min\u001b[0m \u001b[0mtransposed\u001b[0m\u001b[1;33m]\u001b[0m\u001b[1;33m\u001b[0m\u001b[1;33m\u001b[0m\u001b[0m\n\u001b[0m\u001b[0;32m     80\u001b[0m \u001b[1;33m\u001b[0m\u001b[0m\n\u001b[0;32m     81\u001b[0m     \u001b[1;32mraise\u001b[0m \u001b[0mTypeError\u001b[0m\u001b[1;33m(\u001b[0m\u001b[0mdefault_collate_err_msg_format\u001b[0m\u001b[1;33m.\u001b[0m\u001b[0mformat\u001b[0m\u001b[1;33m(\u001b[0m\u001b[0melem_type\u001b[0m\u001b[1;33m)\u001b[0m\u001b[1;33m)\u001b[0m\u001b[1;33m\u001b[0m\u001b[1;33m\u001b[0m\u001b[0m\n",
      "\u001b[1;32mC:\\RAYIOOO\\Programmings\\Anaconda\\lib\\site-packages\\torch\\utils\\data\\_utils\\collate.py\u001b[0m in \u001b[0;36m<listcomp>\u001b[1;34m(.0)\u001b[0m\n\u001b[0;32m     77\u001b[0m     \u001b[1;32melif\u001b[0m \u001b[0misinstance\u001b[0m\u001b[1;33m(\u001b[0m\u001b[0melem\u001b[0m\u001b[1;33m,\u001b[0m \u001b[0mcontainer_abcs\u001b[0m\u001b[1;33m.\u001b[0m\u001b[0mSequence\u001b[0m\u001b[1;33m)\u001b[0m\u001b[1;33m:\u001b[0m\u001b[1;33m\u001b[0m\u001b[1;33m\u001b[0m\u001b[0m\n\u001b[0;32m     78\u001b[0m         \u001b[0mtransposed\u001b[0m \u001b[1;33m=\u001b[0m \u001b[0mzip\u001b[0m\u001b[1;33m(\u001b[0m\u001b[1;33m*\u001b[0m\u001b[0mbatch\u001b[0m\u001b[1;33m)\u001b[0m\u001b[1;33m\u001b[0m\u001b[1;33m\u001b[0m\u001b[0m\n\u001b[1;32m---> 79\u001b[1;33m         \u001b[1;32mreturn\u001b[0m \u001b[1;33m[\u001b[0m\u001b[0mdefault_collate\u001b[0m\u001b[1;33m(\u001b[0m\u001b[0msamples\u001b[0m\u001b[1;33m)\u001b[0m \u001b[1;32mfor\u001b[0m \u001b[0msamples\u001b[0m \u001b[1;32min\u001b[0m \u001b[0mtransposed\u001b[0m\u001b[1;33m]\u001b[0m\u001b[1;33m\u001b[0m\u001b[1;33m\u001b[0m\u001b[0m\n\u001b[0m\u001b[0;32m     80\u001b[0m \u001b[1;33m\u001b[0m\u001b[0m\n\u001b[0;32m     81\u001b[0m     \u001b[1;32mraise\u001b[0m \u001b[0mTypeError\u001b[0m\u001b[1;33m(\u001b[0m\u001b[0mdefault_collate_err_msg_format\u001b[0m\u001b[1;33m.\u001b[0m\u001b[0mformat\u001b[0m\u001b[1;33m(\u001b[0m\u001b[0melem_type\u001b[0m\u001b[1;33m)\u001b[0m\u001b[1;33m)\u001b[0m\u001b[1;33m\u001b[0m\u001b[1;33m\u001b[0m\u001b[0m\n",
      "\u001b[1;32mC:\\RAYIOOO\\Programmings\\Anaconda\\lib\\site-packages\\torch\\utils\\data\\_utils\\collate.py\u001b[0m in \u001b[0;36mdefault_collate\u001b[1;34m(batch)\u001b[0m\n\u001b[0;32m     62\u001b[0m                 \u001b[1;32mraise\u001b[0m \u001b[0mTypeError\u001b[0m\u001b[1;33m(\u001b[0m\u001b[0mdefault_collate_err_msg_format\u001b[0m\u001b[1;33m.\u001b[0m\u001b[0mformat\u001b[0m\u001b[1;33m(\u001b[0m\u001b[0melem\u001b[0m\u001b[1;33m.\u001b[0m\u001b[0mdtype\u001b[0m\u001b[1;33m)\u001b[0m\u001b[1;33m)\u001b[0m\u001b[1;33m\u001b[0m\u001b[1;33m\u001b[0m\u001b[0m\n\u001b[0;32m     63\u001b[0m \u001b[1;33m\u001b[0m\u001b[0m\n\u001b[1;32m---> 64\u001b[1;33m             \u001b[1;32mreturn\u001b[0m \u001b[0mdefault_collate\u001b[0m\u001b[1;33m(\u001b[0m\u001b[1;33m[\u001b[0m\u001b[0mtorch\u001b[0m\u001b[1;33m.\u001b[0m\u001b[0mas_tensor\u001b[0m\u001b[1;33m(\u001b[0m\u001b[0mb\u001b[0m\u001b[1;33m)\u001b[0m \u001b[1;32mfor\u001b[0m \u001b[0mb\u001b[0m \u001b[1;32min\u001b[0m \u001b[0mbatch\u001b[0m\u001b[1;33m]\u001b[0m\u001b[1;33m)\u001b[0m\u001b[1;33m\u001b[0m\u001b[1;33m\u001b[0m\u001b[0m\n\u001b[0m\u001b[0;32m     65\u001b[0m         \u001b[1;32melif\u001b[0m \u001b[0melem\u001b[0m\u001b[1;33m.\u001b[0m\u001b[0mshape\u001b[0m \u001b[1;33m==\u001b[0m \u001b[1;33m(\u001b[0m\u001b[1;33m)\u001b[0m\u001b[1;33m:\u001b[0m  \u001b[1;31m# scalars\u001b[0m\u001b[1;33m\u001b[0m\u001b[1;33m\u001b[0m\u001b[0m\n\u001b[0;32m     66\u001b[0m             \u001b[1;32mreturn\u001b[0m \u001b[0mtorch\u001b[0m\u001b[1;33m.\u001b[0m\u001b[0mas_tensor\u001b[0m\u001b[1;33m(\u001b[0m\u001b[0mbatch\u001b[0m\u001b[1;33m)\u001b[0m\u001b[1;33m\u001b[0m\u001b[1;33m\u001b[0m\u001b[0m\n",
      "\u001b[1;32mC:\\RAYIOOO\\Programmings\\Anaconda\\lib\\site-packages\\torch\\utils\\data\\_utils\\collate.py\u001b[0m in \u001b[0;36m<listcomp>\u001b[1;34m(.0)\u001b[0m\n\u001b[0;32m     62\u001b[0m                 \u001b[1;32mraise\u001b[0m \u001b[0mTypeError\u001b[0m\u001b[1;33m(\u001b[0m\u001b[0mdefault_collate_err_msg_format\u001b[0m\u001b[1;33m.\u001b[0m\u001b[0mformat\u001b[0m\u001b[1;33m(\u001b[0m\u001b[0melem\u001b[0m\u001b[1;33m.\u001b[0m\u001b[0mdtype\u001b[0m\u001b[1;33m)\u001b[0m\u001b[1;33m)\u001b[0m\u001b[1;33m\u001b[0m\u001b[1;33m\u001b[0m\u001b[0m\n\u001b[0;32m     63\u001b[0m \u001b[1;33m\u001b[0m\u001b[0m\n\u001b[1;32m---> 64\u001b[1;33m             \u001b[1;32mreturn\u001b[0m \u001b[0mdefault_collate\u001b[0m\u001b[1;33m(\u001b[0m\u001b[1;33m[\u001b[0m\u001b[0mtorch\u001b[0m\u001b[1;33m.\u001b[0m\u001b[0mas_tensor\u001b[0m\u001b[1;33m(\u001b[0m\u001b[0mb\u001b[0m\u001b[1;33m)\u001b[0m \u001b[1;32mfor\u001b[0m \u001b[0mb\u001b[0m \u001b[1;32min\u001b[0m \u001b[0mbatch\u001b[0m\u001b[1;33m]\u001b[0m\u001b[1;33m)\u001b[0m\u001b[1;33m\u001b[0m\u001b[1;33m\u001b[0m\u001b[0m\n\u001b[0m\u001b[0;32m     65\u001b[0m         \u001b[1;32melif\u001b[0m \u001b[0melem\u001b[0m\u001b[1;33m.\u001b[0m\u001b[0mshape\u001b[0m \u001b[1;33m==\u001b[0m \u001b[1;33m(\u001b[0m\u001b[1;33m)\u001b[0m\u001b[1;33m:\u001b[0m  \u001b[1;31m# scalars\u001b[0m\u001b[1;33m\u001b[0m\u001b[1;33m\u001b[0m\u001b[0m\n\u001b[0;32m     66\u001b[0m             \u001b[1;32mreturn\u001b[0m \u001b[0mtorch\u001b[0m\u001b[1;33m.\u001b[0m\u001b[0mas_tensor\u001b[0m\u001b[1;33m(\u001b[0m\u001b[0mbatch\u001b[0m\u001b[1;33m)\u001b[0m\u001b[1;33m\u001b[0m\u001b[1;33m\u001b[0m\u001b[0m\n",
      "\u001b[1;31mKeyboardInterrupt\u001b[0m: "
     ]
    }
   ],
   "source": [
    "from tqdm import tqdm\n",
    "\n",
    "for epoch in range(EPOCH):\n",
    "    count, running_correct, running_loss = 0, 0, 0\n",
    "    \n",
    "    net.train()\n",
    "    with tqdm(total=train_len) as pbar:\n",
    "        for step, (bx, by) in enumerate(data_loader['train']):\n",
    "            # 训练\n",
    "            bx = bx.float().to(DEVICE)\n",
    "            by = by.long().to(DEVICE)\n",
    "\n",
    "            prediction = net(bx)\n",
    "            loss = loss_function(prediction, by)\n",
    "            optimizer.zero_grad()\n",
    "            loss.backward()\n",
    "            optimizer.step()\n",
    "\n",
    "            # 统计成效\n",
    "            pre = torch.argmax(torch.softmax(prediction, dim=1), dim=1)\n",
    "            my_loss = float(loss.data.cpu().numpy())\n",
    "            my_correct = sum(pre.cpu().numpy() == by.cpu().numpy())\n",
    "            my_acc = my_correct / BATCH_SIZE\n",
    "            count += 1\n",
    "            running_loss += my_loss\n",
    "            running_correct += my_correct\n",
    "            \n",
    "            # 更新进度条\n",
    "            pbar.update(1)\n",
    "            pbar.set_description('Epoch: %d, Loss: %.4f, Acc: %.4f' % (\n",
    "                                  epoch, \n",
    "                                  my_loss, \n",
    "                                  my_acc))\n",
    "    \n",
    "    # 输出一轮结果\n",
    "    print('Epoch: %d, Loss: %.4f, Acc: %.4f, Lr: %.5f' % (\n",
    "           epoch,\n",
    "           running_loss / count,\n",
    "           running_correct / train_size,\n",
    "           optimizer.state_dict()['param_groups'][0]['lr']))\n",
    "    \n",
    "    # 保存参数\n",
    "    torch.save(net.state_dict(), PKL_DIR_OUT)\n",
    "    \n",
    "    # lr scheduler\n",
    "    scheduler.step()"
   ]
  },
  {
   "cell_type": "markdown",
   "metadata": {},
   "source": [
    "## 2.4 存储网络"
   ]
  },
  {
   "cell_type": "code",
   "execution_count": 69,
   "metadata": {},
   "outputs": [],
   "source": [
    "torch.save(net.state_dict(), PKL_DIR_OUT)"
   ]
  },
  {
   "cell_type": "markdown",
   "metadata": {},
   "source": [
    "## 3.1 输出 val 结果"
   ]
  },
  {
   "cell_type": "code",
   "execution_count": 19,
   "metadata": {},
   "outputs": [
    {
     "name": "stderr",
     "output_type": "stream",
     "text": [
      "Correct: 92/8192, Acc: 0.0112: 100%|██████████████████████████████████████████| 397/397 [01:27<00:00,  4.53it/s]\n"
     ]
    },
    {
     "name": "stdout",
     "output_type": "stream",
     "text": [
      "Correct: 2055658/3244167, Acc: 0.6336\n"
     ]
    }
   ],
   "source": [
    "from tqdm import tqdm\n",
    "\n",
    "net = MyNet().to(DEVICE)\n",
    "net.load_state_dict(torch.load(PKL_DIR_READ))\n",
    "net.eval()\n",
    "\n",
    "running_correct = 0\n",
    "\n",
    "with tqdm(total=val_len) as pbar:\n",
    "    for step, (bx, by) in enumerate(data_loader['val']):\n",
    "        # 训练\n",
    "        bx = bx.float().to(DEVICE)\n",
    "        by = by.long().to(DEVICE)\n",
    "\n",
    "        prediction = net(bx)\n",
    "\n",
    "        # 统计成效\n",
    "        pre = torch.argmax(torch.softmax(prediction, dim=1), dim=1)\n",
    "        my_correct = sum(pre.cpu().numpy() == by.cpu().numpy())\n",
    "        my_acc = my_correct / BATCH_SIZE\n",
    "        running_correct += my_correct\n",
    "\n",
    "        # 更新进度条\n",
    "        pbar.update(1)\n",
    "        pbar.set_description('Correct: %d/%d, Acc: %.4f' % (\n",
    "                              my_correct, BATCH_SIZE, my_correct / BATCH_SIZE))\n",
    "\n",
    "# 输出一轮结果\n",
    "print('Correct: %d/%d, Acc: %.4f' % (\n",
    "       running_correct, val_size, running_correct / val_size))"
   ]
  },
  {
   "cell_type": "markdown",
   "metadata": {},
   "source": [
    "## 4.1 导出 test 结果"
   ]
  },
  {
   "cell_type": "code",
   "execution_count": 18,
   "metadata": {},
   "outputs": [
    {
     "data": {
      "text/plain": [
       "问题id          Q2590286630\n",
       "用户id          M3168697168\n",
       "邀请创建时间           D3873-H9\n",
       "性别                      1\n",
       "是否回答                  NaN\n",
       "用户二分类特征a           0.7121\n",
       "用户二分类特征b        -0.652324\n",
       "用户二分类特征c        -0.201699\n",
       "用户二分类特征d        -0.591583\n",
       "用户二分类特征e        -0.283857\n",
       "用户多分类特征a             1092\n",
       "用户多分类特征b              115\n",
       "用户多分类特征c                6\n",
       "用户多分类特征d              980\n",
       "用户多分类特征e         0.343009\n",
       "盐值                1.73947\n",
       "访问评率            -0.995415\n",
       "邀请问题间隔-day      -0.173304\n",
       "关注话题命中数         -0.438016\n",
       "Name: 1141682, dtype: object"
      ]
     },
     "execution_count": 18,
     "metadata": {},
     "output_type": "execute_result"
    }
   ],
   "source": [
    "result = data[np.isnan(data['是否回答'])]\n",
    "result.iloc[-1]"
   ]
  },
  {
   "cell_type": "code",
   "execution_count": 30,
   "metadata": {},
   "outputs": [
    {
     "data": {
      "text/plain": [
       "0         NaN\n",
       "1         NaN\n",
       "2         NaN\n",
       "3         NaN\n",
       "4         NaN\n",
       "5         NaN\n",
       "6         NaN\n",
       "7         NaN\n",
       "8         NaN\n",
       "9         NaN\n",
       "10        NaN\n",
       "11        NaN\n",
       "12        NaN\n",
       "13        NaN\n",
       "14        NaN\n",
       "15        NaN\n",
       "16        NaN\n",
       "17        NaN\n",
       "18        NaN\n",
       "19        NaN\n",
       "20        NaN\n",
       "21        NaN\n",
       "22        NaN\n",
       "23        NaN\n",
       "24        NaN\n",
       "25        NaN\n",
       "26        NaN\n",
       "27        NaN\n",
       "28        NaN\n",
       "29        NaN\n",
       "           ..\n",
       "1141653   NaN\n",
       "1141654   NaN\n",
       "1141655   NaN\n",
       "1141656   NaN\n",
       "1141657   NaN\n",
       "1141658   NaN\n",
       "1141659   NaN\n",
       "1141660   NaN\n",
       "1141661   NaN\n",
       "1141662   NaN\n",
       "1141663   NaN\n",
       "1141664   NaN\n",
       "1141665   NaN\n",
       "1141666   NaN\n",
       "1141667   NaN\n",
       "1141668   NaN\n",
       "1141669   NaN\n",
       "1141670   NaN\n",
       "1141671   NaN\n",
       "1141672   NaN\n",
       "1141673   NaN\n",
       "1141674   NaN\n",
       "1141675   NaN\n",
       "1141676   NaN\n",
       "1141677   NaN\n",
       "1141678   NaN\n",
       "1141679   NaN\n",
       "1141680   NaN\n",
       "1141681   NaN\n",
       "1141682   NaN\n",
       "Name: 是否回答, Length: 1141683, dtype: float64"
      ]
     },
     "execution_count": 30,
     "metadata": {},
     "output_type": "execute_result"
    }
   ],
   "source": [
    "result.loc[:, '是否回答'] = np.nan\n",
    "result['是否回答']"
   ]
  },
  {
   "cell_type": "code",
   "execution_count": 33,
   "metadata": {},
   "outputs": [
    {
     "name": "stderr",
     "output_type": "stream",
     "text": [
      "  0%|          | 0/1141683 [00:00<?, ?it/s]\n"
     ]
    },
    {
     "ename": "TypeError",
     "evalue": "batch must contain tensors, numbers, dicts or lists; found object",
     "output_type": "error",
     "traceback": [
      "\u001b[1;31m---------------------------------------------------------------------------\u001b[0m",
      "\u001b[1;31mTypeError\u001b[0m                                 Traceback (most recent call last)",
      "\u001b[1;32m<ipython-input-33-9824b0e04eac>\u001b[0m in \u001b[0;36m<module>\u001b[1;34m\u001b[0m\n\u001b[0;32m     10\u001b[0m \u001b[0mi\u001b[0m \u001b[1;33m=\u001b[0m \u001b[1;36m0\u001b[0m\u001b[1;33m\u001b[0m\u001b[1;33m\u001b[0m\u001b[0m\n\u001b[0;32m     11\u001b[0m \u001b[1;32mwith\u001b[0m \u001b[0mtqdm\u001b[0m\u001b[1;33m(\u001b[0m\u001b[0mtotal\u001b[0m\u001b[1;33m=\u001b[0m\u001b[0mtest_size\u001b[0m\u001b[1;33m)\u001b[0m \u001b[1;32mas\u001b[0m \u001b[0mpbar\u001b[0m\u001b[1;33m:\u001b[0m\u001b[1;33m\u001b[0m\u001b[1;33m\u001b[0m\u001b[0m\n\u001b[1;32m---> 12\u001b[1;33m     \u001b[1;32mfor\u001b[0m \u001b[0mstep\u001b[0m\u001b[1;33m,\u001b[0m \u001b[1;33m(\u001b[0m\u001b[0mbx\u001b[0m\u001b[1;33m,\u001b[0m \u001b[0mby\u001b[0m\u001b[1;33m)\u001b[0m \u001b[1;32min\u001b[0m \u001b[0menumerate\u001b[0m\u001b[1;33m(\u001b[0m\u001b[0mdata_loader\u001b[0m\u001b[1;33m[\u001b[0m\u001b[1;34m'test'\u001b[0m\u001b[1;33m]\u001b[0m\u001b[1;33m)\u001b[0m\u001b[1;33m:\u001b[0m\u001b[1;33m\u001b[0m\u001b[1;33m\u001b[0m\u001b[0m\n\u001b[0m\u001b[0;32m     13\u001b[0m         \u001b[0mbx\u001b[0m \u001b[1;33m=\u001b[0m \u001b[0mbx\u001b[0m\u001b[1;33m.\u001b[0m\u001b[0mfloat\u001b[0m\u001b[1;33m(\u001b[0m\u001b[1;33m)\u001b[0m\u001b[1;33m.\u001b[0m\u001b[0mto\u001b[0m\u001b[1;33m(\u001b[0m\u001b[0mDEVICE\u001b[0m\u001b[1;33m)\u001b[0m\u001b[1;33m\u001b[0m\u001b[1;33m\u001b[0m\u001b[0m\n\u001b[0;32m     14\u001b[0m         \u001b[0mby\u001b[0m \u001b[1;33m=\u001b[0m \u001b[0mby\u001b[0m\u001b[1;33m.\u001b[0m\u001b[0mlong\u001b[0m\u001b[1;33m(\u001b[0m\u001b[1;33m)\u001b[0m\u001b[1;33m.\u001b[0m\u001b[0mto\u001b[0m\u001b[1;33m(\u001b[0m\u001b[0mDEVICE\u001b[0m\u001b[1;33m)\u001b[0m\u001b[1;33m\u001b[0m\u001b[1;33m\u001b[0m\u001b[0m\n",
      "\u001b[1;32mC:\\RAYIOOO\\Programmings\\Anaconda\\lib\\site-packages\\torch\\utils\\data\\dataloader.py\u001b[0m in \u001b[0;36m__next__\u001b[1;34m(self)\u001b[0m\n\u001b[0;32m    558\u001b[0m         \u001b[1;32mif\u001b[0m \u001b[0mself\u001b[0m\u001b[1;33m.\u001b[0m\u001b[0mnum_workers\u001b[0m \u001b[1;33m==\u001b[0m \u001b[1;36m0\u001b[0m\u001b[1;33m:\u001b[0m  \u001b[1;31m# same-process loading\u001b[0m\u001b[1;33m\u001b[0m\u001b[1;33m\u001b[0m\u001b[0m\n\u001b[0;32m    559\u001b[0m             \u001b[0mindices\u001b[0m \u001b[1;33m=\u001b[0m \u001b[0mnext\u001b[0m\u001b[1;33m(\u001b[0m\u001b[0mself\u001b[0m\u001b[1;33m.\u001b[0m\u001b[0msample_iter\u001b[0m\u001b[1;33m)\u001b[0m  \u001b[1;31m# may raise StopIteration\u001b[0m\u001b[1;33m\u001b[0m\u001b[1;33m\u001b[0m\u001b[0m\n\u001b[1;32m--> 560\u001b[1;33m             \u001b[0mbatch\u001b[0m \u001b[1;33m=\u001b[0m \u001b[0mself\u001b[0m\u001b[1;33m.\u001b[0m\u001b[0mcollate_fn\u001b[0m\u001b[1;33m(\u001b[0m\u001b[1;33m[\u001b[0m\u001b[0mself\u001b[0m\u001b[1;33m.\u001b[0m\u001b[0mdataset\u001b[0m\u001b[1;33m[\u001b[0m\u001b[0mi\u001b[0m\u001b[1;33m]\u001b[0m \u001b[1;32mfor\u001b[0m \u001b[0mi\u001b[0m \u001b[1;32min\u001b[0m \u001b[0mindices\u001b[0m\u001b[1;33m]\u001b[0m\u001b[1;33m)\u001b[0m\u001b[1;33m\u001b[0m\u001b[1;33m\u001b[0m\u001b[0m\n\u001b[0m\u001b[0;32m    561\u001b[0m             \u001b[1;32mif\u001b[0m \u001b[0mself\u001b[0m\u001b[1;33m.\u001b[0m\u001b[0mpin_memory\u001b[0m\u001b[1;33m:\u001b[0m\u001b[1;33m\u001b[0m\u001b[1;33m\u001b[0m\u001b[0m\n\u001b[0;32m    562\u001b[0m                 \u001b[0mbatch\u001b[0m \u001b[1;33m=\u001b[0m \u001b[0m_utils\u001b[0m\u001b[1;33m.\u001b[0m\u001b[0mpin_memory\u001b[0m\u001b[1;33m.\u001b[0m\u001b[0mpin_memory_batch\u001b[0m\u001b[1;33m(\u001b[0m\u001b[0mbatch\u001b[0m\u001b[1;33m)\u001b[0m\u001b[1;33m\u001b[0m\u001b[1;33m\u001b[0m\u001b[0m\n",
      "\u001b[1;32mC:\\RAYIOOO\\Programmings\\Anaconda\\lib\\site-packages\\torch\\utils\\data\\_utils\\collate.py\u001b[0m in \u001b[0;36mdefault_collate\u001b[1;34m(batch)\u001b[0m\n\u001b[0;32m     66\u001b[0m     \u001b[1;32melif\u001b[0m \u001b[0misinstance\u001b[0m\u001b[1;33m(\u001b[0m\u001b[0mbatch\u001b[0m\u001b[1;33m[\u001b[0m\u001b[1;36m0\u001b[0m\u001b[1;33m]\u001b[0m\u001b[1;33m,\u001b[0m \u001b[0mcontainer_abcs\u001b[0m\u001b[1;33m.\u001b[0m\u001b[0mSequence\u001b[0m\u001b[1;33m)\u001b[0m\u001b[1;33m:\u001b[0m\u001b[1;33m\u001b[0m\u001b[1;33m\u001b[0m\u001b[0m\n\u001b[0;32m     67\u001b[0m         \u001b[0mtransposed\u001b[0m \u001b[1;33m=\u001b[0m \u001b[0mzip\u001b[0m\u001b[1;33m(\u001b[0m\u001b[1;33m*\u001b[0m\u001b[0mbatch\u001b[0m\u001b[1;33m)\u001b[0m\u001b[1;33m\u001b[0m\u001b[1;33m\u001b[0m\u001b[0m\n\u001b[1;32m---> 68\u001b[1;33m         \u001b[1;32mreturn\u001b[0m \u001b[1;33m[\u001b[0m\u001b[0mdefault_collate\u001b[0m\u001b[1;33m(\u001b[0m\u001b[0msamples\u001b[0m\u001b[1;33m)\u001b[0m \u001b[1;32mfor\u001b[0m \u001b[0msamples\u001b[0m \u001b[1;32min\u001b[0m \u001b[0mtransposed\u001b[0m\u001b[1;33m]\u001b[0m\u001b[1;33m\u001b[0m\u001b[1;33m\u001b[0m\u001b[0m\n\u001b[0m\u001b[0;32m     69\u001b[0m \u001b[1;33m\u001b[0m\u001b[0m\n\u001b[0;32m     70\u001b[0m     \u001b[1;32mraise\u001b[0m \u001b[0mTypeError\u001b[0m\u001b[1;33m(\u001b[0m\u001b[1;33m(\u001b[0m\u001b[0merror_msg_fmt\u001b[0m\u001b[1;33m.\u001b[0m\u001b[0mformat\u001b[0m\u001b[1;33m(\u001b[0m\u001b[0mtype\u001b[0m\u001b[1;33m(\u001b[0m\u001b[0mbatch\u001b[0m\u001b[1;33m[\u001b[0m\u001b[1;36m0\u001b[0m\u001b[1;33m]\u001b[0m\u001b[1;33m)\u001b[0m\u001b[1;33m)\u001b[0m\u001b[1;33m)\u001b[0m\u001b[1;33m)\u001b[0m\u001b[1;33m\u001b[0m\u001b[1;33m\u001b[0m\u001b[0m\n",
      "\u001b[1;32mC:\\RAYIOOO\\Programmings\\Anaconda\\lib\\site-packages\\torch\\utils\\data\\_utils\\collate.py\u001b[0m in \u001b[0;36m<listcomp>\u001b[1;34m(.0)\u001b[0m\n\u001b[0;32m     66\u001b[0m     \u001b[1;32melif\u001b[0m \u001b[0misinstance\u001b[0m\u001b[1;33m(\u001b[0m\u001b[0mbatch\u001b[0m\u001b[1;33m[\u001b[0m\u001b[1;36m0\u001b[0m\u001b[1;33m]\u001b[0m\u001b[1;33m,\u001b[0m \u001b[0mcontainer_abcs\u001b[0m\u001b[1;33m.\u001b[0m\u001b[0mSequence\u001b[0m\u001b[1;33m)\u001b[0m\u001b[1;33m:\u001b[0m\u001b[1;33m\u001b[0m\u001b[1;33m\u001b[0m\u001b[0m\n\u001b[0;32m     67\u001b[0m         \u001b[0mtransposed\u001b[0m \u001b[1;33m=\u001b[0m \u001b[0mzip\u001b[0m\u001b[1;33m(\u001b[0m\u001b[1;33m*\u001b[0m\u001b[0mbatch\u001b[0m\u001b[1;33m)\u001b[0m\u001b[1;33m\u001b[0m\u001b[1;33m\u001b[0m\u001b[0m\n\u001b[1;32m---> 68\u001b[1;33m         \u001b[1;32mreturn\u001b[0m \u001b[1;33m[\u001b[0m\u001b[0mdefault_collate\u001b[0m\u001b[1;33m(\u001b[0m\u001b[0msamples\u001b[0m\u001b[1;33m)\u001b[0m \u001b[1;32mfor\u001b[0m \u001b[0msamples\u001b[0m \u001b[1;32min\u001b[0m \u001b[0mtransposed\u001b[0m\u001b[1;33m]\u001b[0m\u001b[1;33m\u001b[0m\u001b[1;33m\u001b[0m\u001b[0m\n\u001b[0m\u001b[0;32m     69\u001b[0m \u001b[1;33m\u001b[0m\u001b[0m\n\u001b[0;32m     70\u001b[0m     \u001b[1;32mraise\u001b[0m \u001b[0mTypeError\u001b[0m\u001b[1;33m(\u001b[0m\u001b[1;33m(\u001b[0m\u001b[0merror_msg_fmt\u001b[0m\u001b[1;33m.\u001b[0m\u001b[0mformat\u001b[0m\u001b[1;33m(\u001b[0m\u001b[0mtype\u001b[0m\u001b[1;33m(\u001b[0m\u001b[0mbatch\u001b[0m\u001b[1;33m[\u001b[0m\u001b[1;36m0\u001b[0m\u001b[1;33m]\u001b[0m\u001b[1;33m)\u001b[0m\u001b[1;33m)\u001b[0m\u001b[1;33m)\u001b[0m\u001b[1;33m)\u001b[0m\u001b[1;33m\u001b[0m\u001b[1;33m\u001b[0m\u001b[0m\n",
      "\u001b[1;32mC:\\RAYIOOO\\Programmings\\Anaconda\\lib\\site-packages\\torch\\utils\\data\\_utils\\collate.py\u001b[0m in \u001b[0;36mdefault_collate\u001b[1;34m(batch)\u001b[0m\n\u001b[0;32m     48\u001b[0m             \u001b[1;31m# array of string classes and object\u001b[0m\u001b[1;33m\u001b[0m\u001b[1;33m\u001b[0m\u001b[1;33m\u001b[0m\u001b[0m\n\u001b[0;32m     49\u001b[0m             \u001b[1;32mif\u001b[0m \u001b[0mnp_str_obj_array_pattern\u001b[0m\u001b[1;33m.\u001b[0m\u001b[0msearch\u001b[0m\u001b[1;33m(\u001b[0m\u001b[0melem\u001b[0m\u001b[1;33m.\u001b[0m\u001b[0mdtype\u001b[0m\u001b[1;33m.\u001b[0m\u001b[0mstr\u001b[0m\u001b[1;33m)\u001b[0m \u001b[1;32mis\u001b[0m \u001b[1;32mnot\u001b[0m \u001b[1;32mNone\u001b[0m\u001b[1;33m:\u001b[0m\u001b[1;33m\u001b[0m\u001b[1;33m\u001b[0m\u001b[0m\n\u001b[1;32m---> 50\u001b[1;33m                 \u001b[1;32mraise\u001b[0m \u001b[0mTypeError\u001b[0m\u001b[1;33m(\u001b[0m\u001b[0merror_msg_fmt\u001b[0m\u001b[1;33m.\u001b[0m\u001b[0mformat\u001b[0m\u001b[1;33m(\u001b[0m\u001b[0melem\u001b[0m\u001b[1;33m.\u001b[0m\u001b[0mdtype\u001b[0m\u001b[1;33m)\u001b[0m\u001b[1;33m)\u001b[0m\u001b[1;33m\u001b[0m\u001b[1;33m\u001b[0m\u001b[0m\n\u001b[0m\u001b[0;32m     51\u001b[0m \u001b[1;33m\u001b[0m\u001b[0m\n\u001b[0;32m     52\u001b[0m             \u001b[1;32mreturn\u001b[0m \u001b[0mdefault_collate\u001b[0m\u001b[1;33m(\u001b[0m\u001b[1;33m[\u001b[0m\u001b[0mtorch\u001b[0m\u001b[1;33m.\u001b[0m\u001b[0mfrom_numpy\u001b[0m\u001b[1;33m(\u001b[0m\u001b[0mb\u001b[0m\u001b[1;33m)\u001b[0m \u001b[1;32mfor\u001b[0m \u001b[0mb\u001b[0m \u001b[1;32min\u001b[0m \u001b[0mbatch\u001b[0m\u001b[1;33m]\u001b[0m\u001b[1;33m)\u001b[0m\u001b[1;33m\u001b[0m\u001b[1;33m\u001b[0m\u001b[0m\n",
      "\u001b[1;31mTypeError\u001b[0m: batch must contain tensors, numbers, dicts or lists; found object"
     ]
    }
   ],
   "source": [
    "from tqdm import tqdm\n",
    "\n",
    "net = MyNet().to(DEVICE)\n",
    "if torch.cuda.is_available():\n",
    "    net.load_state_dict(torch.load(PKL_DIR_READ))\n",
    "else:\n",
    "    net.load_state_dict(torch.load(PKL_DIR_READ, map_location='cpu'))\n",
    "net.eval()\n",
    "\n",
    "i = 0\n",
    "with tqdm(total=test_size) as pbar:\n",
    "    for step, (bx, by) in enumerate(data_loader['test']):\n",
    "        bx = bx.float().to(DEVICE)\n",
    "        by = by.long().to(DEVICE)\n",
    "        \n",
    "        prediction = net(bx)\n",
    "        \n",
    "         # 统计成效\n",
    "        pre = torch.argmax(torch.softmax(prediction, dim=1), dim=1)\n",
    "        print(pre)\n",
    "        break\n",
    "        my_correct = sum(pre.cpu().numpy() == by.cpu().numpy())\n",
    "        my_acc = my_correct / BATCH_SIZE\n",
    "        running_correct += my_correct\n",
    "        \n",
    "        pbar.update(1)\n",
    "        i += 1"
   ]
  },
  {
   "cell_type": "code",
   "execution_count": null,
   "metadata": {},
   "outputs": [],
   "source": []
  }
 ],
 "metadata": {
  "kernelspec": {
   "display_name": "Python 3",
   "language": "python",
   "name": "python3"
  },
  "language_info": {
   "codemirror_mode": {
    "name": "ipython",
    "version": 3
   },
   "file_extension": ".py",
   "mimetype": "text/x-python",
   "name": "python",
   "nbconvert_exporter": "python",
   "pygments_lexer": "ipython3",
   "version": "3.7.3"
  }
 },
 "nbformat": 4,
 "nbformat_minor": 2
}
